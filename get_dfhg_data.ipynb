{
 "cells": [
  {
   "cell_type": "markdown",
   "metadata": {},
   "source": [
    "## Import modules, set params, get data"
   ]
  },
  {
   "cell_type": "code",
   "execution_count": 37,
   "metadata": {},
   "outputs": [],
   "source": [
    "from bs4 import BeautifulSoup, NavigableString, Tag\n",
    "\n",
    "import requests \n",
    "\n",
    "url = 'http://www.dfhg-project.org/DFHG/api.php' # api documentation URL\n",
    "\n",
    "res = requests.get(url)\n",
    "\n",
    "content = res.content.decode() # original is in bytes, convert to string"
   ]
  },
  {
   "cell_type": "code",
   "execution_count": 38,
   "metadata": {},
   "outputs": [],
   "source": [
    "authors = BeautifulSoup(content, 'html.parser')"
   ]
  },
  {
   "cell_type": "markdown",
   "metadata": {},
   "source": [
    "## Clean HTML"
   ]
  },
  {
   "cell_type": "code",
   "execution_count": 47,
   "metadata": {},
   "outputs": [],
   "source": [
    "authors = []\n",
    "for br in test.findAll('br'): \n",
    "    next_s = br.nextSibling\n",
    "    if not (next_s and isinstance(next_s,NavigableString)):\n",
    "            continue\n",
    "    next2_s = next_s.nextSibling\n",
    "    if next2_s and isinstance(next2_s,Tag) and next2_s.name == 'br':\n",
    "        text = str(next_s).strip()\n",
    "        if text:\n",
    "            authors.append(text)"
   ]
  },
  {
   "cell_type": "code",
   "execution_count": 52,
   "metadata": {},
   "outputs": [],
   "source": [
    "authors = authors[7:]"
   ]
  },
  {
   "cell_type": "code",
   "execution_count": 54,
   "metadata": {},
   "outputs": [],
   "source": [
    "lst = []\n",
    "for author in final_list: \n",
    "    lst.append(author.split('.')[1:])"
   ]
  },
  {
   "cell_type": "code",
   "execution_count": 58,
   "metadata": {},
   "outputs": [],
   "source": [
    "from itertools import chain\n",
    "lst = list(chain(*lst))"
   ]
  },
  {
   "cell_type": "code",
   "execution_count": 60,
   "metadata": {},
   "outputs": [],
   "source": [
    "authors_final = []\n",
    "for author in lst: \n",
    "    authors_final.append(author.split('(')[0])"
   ]
  },
  {
   "cell_type": "code",
   "execution_count": 62,
   "metadata": {},
   "outputs": [],
   "source": [
    "for author in authors_final:\n",
    "    author = author.strip()"
   ]
  },
  {
   "cell_type": "code",
   "execution_count": 66,
   "metadata": {},
   "outputs": [],
   "source": [
    "authors = []\n",
    "for author in authors_final:\n",
    "    authors.append(author.strip())"
   ]
  },
  {
   "cell_type": "code",
   "execution_count": 69,
   "metadata": {},
   "outputs": [],
   "source": [
    "authors = authors[5:] # some extra cleanup required "
   ]
  },
  {
   "cell_type": "markdown",
   "metadata": {},
   "source": [
    "### Generate dataframe of results "
   ]
  },
  {
   "cell_type": "code",
   "execution_count": 91,
   "metadata": {},
   "outputs": [],
   "source": [
    "test = authors[:5]"
   ]
  },
  {
   "cell_type": "code",
   "execution_count": 92,
   "metadata": {},
   "outputs": [
    {
     "data": {
      "text/plain": [
       "['ABAS',\n",
       " 'ABRON VEL HABRON BATIENSIS',\n",
       " 'ABYDENUS',\n",
       " 'ACESANDER',\n",
       " 'ACESTODORUS vel ACESTORIDES']"
      ]
     },
     "execution_count": 92,
     "metadata": {},
     "output_type": "execute_result"
    }
   ],
   "source": [
    "test"
   ]
  },
  {
   "cell_type": "code",
   "execution_count": 76,
   "metadata": {},
   "outputs": [],
   "source": [
    "url = 'http://www.dfhg-project.org/DFHG/api.php?author='"
   ]
  },
  {
   "cell_type": "code",
   "execution_count": 108,
   "metadata": {},
   "outputs": [],
   "source": [
    "def process_list(authors):\n",
    "    df_list = []\n",
    "    url = 'http://www.dfhg-project.org/DFHG/api.php?author='\n",
    "    for author in authors: \n",
    "        try:\n",
    "            call = url + author \n",
    "            res = requests.get(call)\n",
    "            res = res.json()\n",
    "            df_list.append(pd.DataFrame(res))\n",
    "        except: \n",
    "            pass\n",
    "    return pd.concat(df_list)"
   ]
  },
  {
   "cell_type": "code",
   "execution_count": 109,
   "metadata": {},
   "outputs": [],
   "source": [
    "out = process_list(authors)"
   ]
  },
  {
   "cell_type": "code",
   "execution_count": 110,
   "metadata": {},
   "outputs": [
    {
     "data": {
      "text/html": [
       "<div>\n",
       "<style scoped>\n",
       "    .dataframe tbody tr th:only-of-type {\n",
       "        vertical-align: middle;\n",
       "    }\n",
       "\n",
       "    .dataframe tbody tr th {\n",
       "        vertical-align: top;\n",
       "    }\n",
       "\n",
       "    .dataframe thead th {\n",
       "        text-align: right;\n",
       "    }\n",
       "</style>\n",
       "<table border=\"1\" class=\"dataframe\">\n",
       "  <thead>\n",
       "    <tr style=\"text-align: right;\">\n",
       "      <th></th>\n",
       "      <th>volume</th>\n",
       "      <th>sub_volume</th>\n",
       "      <th>sub_volume_note</th>\n",
       "      <th>author</th>\n",
       "      <th>section</th>\n",
       "      <th>work</th>\n",
       "      <th>work_note</th>\n",
       "      <th>work_section</th>\n",
       "      <th>work_section_note</th>\n",
       "      <th>book</th>\n",
       "      <th>...</th>\n",
       "      <th>fragment_number</th>\n",
       "      <th>fragment_letter</th>\n",
       "      <th>fragment_note</th>\n",
       "      <th>witness</th>\n",
       "      <th>text</th>\n",
       "      <th>translation</th>\n",
       "      <th>commentary</th>\n",
       "      <th>note</th>\n",
       "      <th>urn</th>\n",
       "      <th>cite_urn</th>\n",
       "    </tr>\n",
       "  </thead>\n",
       "  <tbody>\n",
       "    <tr>\n",
       "      <th>0</th>\n",
       "      <td>Volumen quartum</td>\n",
       "      <td>LIBER DECIMUS</td>\n",
       "      <td>SCRIPTORES AETATIS INCERTAE EX ORDINE LITERARUM</td>\n",
       "      <td>ABAS</td>\n",
       "      <td>ABAE FRAGMENTA</td>\n",
       "      <td>ΙΣΤΟΡΙΚΑ ΥΠΟΜΝΗΜΑΤΑ</td>\n",
       "      <td></td>\n",
       "      <td></td>\n",
       "      <td></td>\n",
       "      <td></td>\n",
       "      <td>...</td>\n",
       "      <td>1</td>\n",
       "      <td></td>\n",
       "      <td></td>\n",
       "      <td>Ptolemaeus Hephaest. ap. Phot cod. 190, p. 15...</td>\n",
       "      <td>Ἡ Κανδαύλου γυνὴ, ἧς Ἡρόδοτος οὐ λέγει τοὔνομα...</td>\n",
       "      <td>Candaulae uxor, cujus nomen non prodit Herodo...</td>\n",
       "      <td>De Habrone aliunde non constat. De Tudû v. not...</td>\n",
       "      <td></td>\n",
       "      <td>urn:lofts:fhg.4.abas.abae_fragmenta.commentari...</td>\n",
       "      <td>urn:cite:lofts:fhg4.abas:1</td>\n",
       "    </tr>\n",
       "    <tr>\n",
       "      <th>1</th>\n",
       "      <td>Volumen quartum</td>\n",
       "      <td>LIBER DECIMUS</td>\n",
       "      <td>SCRIPTORES AETATIS INCERTAE EX ORDINE LITERARUM</td>\n",
       "      <td>ABAS</td>\n",
       "      <td>ABAE FRAGMENTA</td>\n",
       "      <td>ΤΡΩΙΚΑ</td>\n",
       "      <td></td>\n",
       "      <td></td>\n",
       "      <td></td>\n",
       "      <td></td>\n",
       "      <td>...</td>\n",
       "      <td>2</td>\n",
       "      <td></td>\n",
       "      <td></td>\n",
       "      <td>Servius ad Virgil. Aen. IX, 264: Devicta Arisbe]</td>\n",
       "      <td>Scilicet ab Achille. Dicta est Arisba a Meropi...</td>\n",
       "      <td></td>\n",
       "      <td></td>\n",
       "      <td></td>\n",
       "      <td>urn:lofts:fhg.4.abas.abae_fragmenta.troica:2</td>\n",
       "      <td>urn:cite:lofts:fhg4.abas:2</td>\n",
       "    </tr>\n",
       "    <tr>\n",
       "      <th>0</th>\n",
       "      <td>Volumen quartum</td>\n",
       "      <td>LIBER DECIMUS</td>\n",
       "      <td>SCRIPTORES AETATIS INCERTAE EX ORDINE LITERARUM</td>\n",
       "      <td>ABRON VEL HABRON BATIENSIS</td>\n",
       "      <td>ABRONIS BATIENSIS FRAGMENTA</td>\n",
       "      <td></td>\n",
       "      <td></td>\n",
       "      <td></td>\n",
       "      <td></td>\n",
       "      <td></td>\n",
       "      <td>...</td>\n",
       "      <td>1</td>\n",
       "      <td></td>\n",
       "      <td></td>\n",
       "      <td>Stephan. Byz.:</td>\n",
       "      <td>Βατὴ, δῆμος τῆς Αἰγηίδος φυλῆς, ὅθεν ἦν Ἄβρων ...</td>\n",
       "      <td></td>\n",
       "      <td>Ἄβρων (rectius scribitur Ἄβρων) Βατῆθεν, pater...</td>\n",
       "      <td></td>\n",
       "      <td>urn:lofts:fhg.4.abron_vel_habron_batiensis.abr...</td>\n",
       "      <td>urn:cite:lofts:fhg4.abron_vel_habron_batiensis:1</td>\n",
       "    </tr>\n",
       "    <tr>\n",
       "      <th>0</th>\n",
       "      <td>Volumen quartum</td>\n",
       "      <td>LIBER DECIMUS</td>\n",
       "      <td>SCRIPTORES AETATIS INCERTAE EX ORDINE LITERARUM</td>\n",
       "      <td>ABYDENUS</td>\n",
       "      <td>ABYDENI FRAGMENTA</td>\n",
       "      <td>ΑΣΣΥΡΙΑΚΑ ΚΑΙ ΜΗΔΙΚΑ</td>\n",
       "      <td></td>\n",
       "      <td></td>\n",
       "      <td></td>\n",
       "      <td></td>\n",
       "      <td>...</td>\n",
       "      <td>1</td>\n",
       "      <td></td>\n",
       "      <td></td>\n",
       "      <td>Syncellus p. 38, B:</td>\n",
       "      <td>Ἐκ τῶν Ἀβυδηνοῦ Περὶ τῆς τῶν Χαλδαίων βασιλεία...</td>\n",
       "      <td>EX ABYDENO. De Chaldoeorum regno. Et de Chald...</td>\n",
       "      <td>Λέγεται Ἄλωρον] sic Scalig.; λέγων cod. A. An ...</td>\n",
       "      <td></td>\n",
       "      <td>urn:lofts:fhg.4.abydenus.abydeni_fragmenta.ass...</td>\n",
       "      <td>urn:cite:lofts:fhg4.abydenus:1</td>\n",
       "    </tr>\n",
       "    <tr>\n",
       "      <th>1</th>\n",
       "      <td>Volumen quartum</td>\n",
       "      <td>LIBER DECIMUS</td>\n",
       "      <td>SCRIPTORES AETATIS INCERTAE EX ORDINE LITERARUM</td>\n",
       "      <td>ABYDENUS</td>\n",
       "      <td>ABYDENI FRAGMENTA</td>\n",
       "      <td>ΑΣΣΥΡΙΑΚΑ ΚΑΙ ΜΗΔΙΚΑ</td>\n",
       "      <td></td>\n",
       "      <td></td>\n",
       "      <td></td>\n",
       "      <td></td>\n",
       "      <td>...</td>\n",
       "      <td>2</td>\n",
       "      <td></td>\n",
       "      <td></td>\n",
       "      <td>Eusebius Arm. p. 22 ed. Mai, postquam Chaldae...</td>\n",
       "      <td>Quoe hactenus dicta sunt, Abydenus etiam satis...</td>\n",
       "      <td></td>\n",
       "      <td>Iotages, etc.] «Ita in margine codicis, quae ...</td>\n",
       "      <td></td>\n",
       "      <td>urn:lofts:fhg.4.abydenus.abydeni_fragmenta.ass...</td>\n",
       "      <td>urn:cite:lofts:fhg4.abydenus:2</td>\n",
       "    </tr>\n",
       "  </tbody>\n",
       "</table>\n",
       "<p>5 rows × 27 columns</p>\n",
       "</div>"
      ],
      "text/plain": [
       "            volume     sub_volume  \\\n",
       "0  Volumen quartum  LIBER DECIMUS   \n",
       "1  Volumen quartum  LIBER DECIMUS   \n",
       "0  Volumen quartum  LIBER DECIMUS   \n",
       "0  Volumen quartum  LIBER DECIMUS   \n",
       "1  Volumen quartum  LIBER DECIMUS   \n",
       "\n",
       "                                   sub_volume_note  \\\n",
       "0  SCRIPTORES AETATIS INCERTAE EX ORDINE LITERARUM   \n",
       "1  SCRIPTORES AETATIS INCERTAE EX ORDINE LITERARUM   \n",
       "0  SCRIPTORES AETATIS INCERTAE EX ORDINE LITERARUM   \n",
       "0  SCRIPTORES AETATIS INCERTAE EX ORDINE LITERARUM   \n",
       "1  SCRIPTORES AETATIS INCERTAE EX ORDINE LITERARUM   \n",
       "\n",
       "                       author                      section  \\\n",
       "0                        ABAS               ABAE FRAGMENTA   \n",
       "1                        ABAS               ABAE FRAGMENTA   \n",
       "0  ABRON VEL HABRON BATIENSIS  ABRONIS BATIENSIS FRAGMENTA   \n",
       "0                    ABYDENUS            ABYDENI FRAGMENTA   \n",
       "1                    ABYDENUS            ABYDENI FRAGMENTA   \n",
       "\n",
       "                   work work_note work_section work_section_note book  ...  \\\n",
       "0   ΙΣΤΟΡΙΚΑ ΥΠΟΜΝΗΜΑΤΑ                                                ...   \n",
       "1                ΤΡΩΙΚΑ                                                ...   \n",
       "0                                                                      ...   \n",
       "0  ΑΣΣΥΡΙΑΚΑ ΚΑΙ ΜΗΔΙΚΑ                                                ...   \n",
       "1  ΑΣΣΥΡΙΑΚΑ ΚΑΙ ΜΗΔΙΚΑ                                                ...   \n",
       "\n",
       "  fragment_number fragment_letter fragment_note  \\\n",
       "0               1                                 \n",
       "1               2                                 \n",
       "0               1                                 \n",
       "0               1                                 \n",
       "1               2                                 \n",
       "\n",
       "                                             witness  \\\n",
       "0   Ptolemaeus Hephaest. ap. Phot cod. 190, p. 15...   \n",
       "1   Servius ad Virgil. Aen. IX, 264: Devicta Arisbe]   \n",
       "0                                     Stephan. Byz.:   \n",
       "0                                Syncellus p. 38, B:   \n",
       "1   Eusebius Arm. p. 22 ed. Mai, postquam Chaldae...   \n",
       "\n",
       "                                                text  \\\n",
       "0  Ἡ Κανδαύλου γυνὴ, ἧς Ἡρόδοτος οὐ λέγει τοὔνομα...   \n",
       "1  Scilicet ab Achille. Dicta est Arisba a Meropi...   \n",
       "0  Βατὴ, δῆμος τῆς Αἰγηίδος φυλῆς, ὅθεν ἦν Ἄβρων ...   \n",
       "0  Ἐκ τῶν Ἀβυδηνοῦ Περὶ τῆς τῶν Χαλδαίων βασιλεία...   \n",
       "1  Quoe hactenus dicta sunt, Abydenus etiam satis...   \n",
       "\n",
       "                                         translation  \\\n",
       "0   Candaulae uxor, cujus nomen non prodit Herodo...   \n",
       "1                                                      \n",
       "0                                                      \n",
       "0   EX ABYDENO. De Chaldoeorum regno. Et de Chald...   \n",
       "1                                                      \n",
       "\n",
       "                                          commentary note  \\\n",
       "0  De Habrone aliunde non constat. De Tudû v. not...        \n",
       "1                                                           \n",
       "0  Ἄβρων (rectius scribitur Ἄβρων) Βατῆθεν, pater...        \n",
       "0  Λέγεται Ἄλωρον] sic Scalig.; λέγων cod. A. An ...        \n",
       "1   Iotages, etc.] «Ita in margine codicis, quae ...        \n",
       "\n",
       "                                                 urn  \\\n",
       "0  urn:lofts:fhg.4.abas.abae_fragmenta.commentari...   \n",
       "1       urn:lofts:fhg.4.abas.abae_fragmenta.troica:2   \n",
       "0  urn:lofts:fhg.4.abron_vel_habron_batiensis.abr...   \n",
       "0  urn:lofts:fhg.4.abydenus.abydeni_fragmenta.ass...   \n",
       "1  urn:lofts:fhg.4.abydenus.abydeni_fragmenta.ass...   \n",
       "\n",
       "                                           cite_urn  \n",
       "0                        urn:cite:lofts:fhg4.abas:1  \n",
       "1                        urn:cite:lofts:fhg4.abas:2  \n",
       "0  urn:cite:lofts:fhg4.abron_vel_habron_batiensis:1  \n",
       "0                    urn:cite:lofts:fhg4.abydenus:1  \n",
       "1                    urn:cite:lofts:fhg4.abydenus:2  \n",
       "\n",
       "[5 rows x 27 columns]"
      ]
     },
     "execution_count": 110,
     "metadata": {},
     "output_type": "execute_result"
    }
   ],
   "source": [
    "out.head()"
   ]
  },
  {
   "cell_type": "code",
   "execution_count": 111,
   "metadata": {},
   "outputs": [
    {
     "name": "stdout",
     "output_type": "stream",
     "text": [
      "<class 'pandas.core.frame.DataFrame'>\n",
      "Int64Index: 8330 entries, 0 to 0\n",
      "Data columns (total 27 columns):\n",
      "volume               8330 non-null object\n",
      "sub_volume           8330 non-null object\n",
      "sub_volume_note      8330 non-null object\n",
      "author               8330 non-null object\n",
      "section              8330 non-null object\n",
      "work                 8330 non-null object\n",
      "work_note            8330 non-null object\n",
      "work_section         8330 non-null object\n",
      "work_section_note    8330 non-null object\n",
      "book                 8330 non-null object\n",
      "book_note            8330 non-null object\n",
      "chapter              8330 non-null object\n",
      "paragraph            8330 non-null object\n",
      "sub_paragraph        8330 non-null object\n",
      "page                 8330 non-null object\n",
      "type                 8330 non-null object\n",
      "sub_type             8330 non-null object\n",
      "fragment_number      8330 non-null object\n",
      "fragment_letter      8330 non-null object\n",
      "fragment_note        8330 non-null object\n",
      "witness              8330 non-null object\n",
      "text                 8330 non-null object\n",
      "translation          8330 non-null object\n",
      "commentary           8330 non-null object\n",
      "note                 8330 non-null object\n",
      "urn                  8330 non-null object\n",
      "cite_urn             8330 non-null object\n",
      "dtypes: object(27)\n",
      "memory usage: 1.8+ MB\n"
     ]
    }
   ],
   "source": [
    "out.info()"
   ]
  },
  {
   "cell_type": "code",
   "execution_count": 112,
   "metadata": {},
   "outputs": [
    {
     "data": {
      "text/plain": [
       "JOANNES ANTIOCHENUS     486\n",
       "ARISTOTELES             452\n",
       "HECATAEUS               395\n",
       "THEOPOMPUS              362\n",
       "APOLLODORUS             280\n",
       "                       ... \n",
       "ANTILOCHUS                1\n",
       "SCYLAX CARYANDENSIS       1\n",
       "CLODIUS NEAPOLITANUS      1\n",
       "EUEMERIDAS CNIDIUS        1\n",
       "LYSANIAS MALLOTES         1\n",
       "Name: author, Length: 587, dtype: int64"
      ]
     },
     "execution_count": 112,
     "metadata": {},
     "output_type": "execute_result"
    }
   ],
   "source": [
    "out.author.value_counts()"
   ]
  },
  {
   "cell_type": "code",
   "execution_count": 115,
   "metadata": {},
   "outputs": [
    {
     "data": {
      "text/plain": [
       "265"
      ]
     },
     "execution_count": 115,
     "metadata": {},
     "output_type": "execute_result"
    }
   ],
   "source": [
    "len(out) - len(out.drop_duplicates())"
   ]
  },
  {
   "cell_type": "code",
   "execution_count": 116,
   "metadata": {},
   "outputs": [],
   "source": [
    "out = out.drop_duplicates()"
   ]
  },
  {
   "cell_type": "code",
   "execution_count": 117,
   "metadata": {},
   "outputs": [
    {
     "name": "stdout",
     "output_type": "stream",
     "text": [
      "<class 'pandas.core.frame.DataFrame'>\n",
      "Int64Index: 8065 entries, 0 to 0\n",
      "Data columns (total 27 columns):\n",
      "volume               8065 non-null object\n",
      "sub_volume           8065 non-null object\n",
      "sub_volume_note      8065 non-null object\n",
      "author               8065 non-null object\n",
      "section              8065 non-null object\n",
      "work                 8065 non-null object\n",
      "work_note            8065 non-null object\n",
      "work_section         8065 non-null object\n",
      "work_section_note    8065 non-null object\n",
      "book                 8065 non-null object\n",
      "book_note            8065 non-null object\n",
      "chapter              8065 non-null object\n",
      "paragraph            8065 non-null object\n",
      "sub_paragraph        8065 non-null object\n",
      "page                 8065 non-null object\n",
      "type                 8065 non-null object\n",
      "sub_type             8065 non-null object\n",
      "fragment_number      8065 non-null object\n",
      "fragment_letter      8065 non-null object\n",
      "fragment_note        8065 non-null object\n",
      "witness              8065 non-null object\n",
      "text                 8065 non-null object\n",
      "translation          8065 non-null object\n",
      "commentary           8065 non-null object\n",
      "note                 8065 non-null object\n",
      "urn                  8065 non-null object\n",
      "cite_urn             8065 non-null object\n",
      "dtypes: object(27)\n",
      "memory usage: 1.7+ MB\n"
     ]
    }
   ],
   "source": [
    "out.info()"
   ]
  },
  {
   "cell_type": "code",
   "execution_count": 119,
   "metadata": {},
   "outputs": [],
   "source": [
    "out.to_csv('dfhg.csv')"
   ]
  }
 ],
 "metadata": {
  "kernelspec": {
   "display_name": "Python 3",
   "language": "python",
   "name": "python3"
  },
  "language_info": {
   "codemirror_mode": {
    "name": "ipython",
    "version": 3
   },
   "file_extension": ".py",
   "mimetype": "text/x-python",
   "name": "python",
   "nbconvert_exporter": "python",
   "pygments_lexer": "ipython3",
   "version": "3.7.3"
  }
 },
 "nbformat": 4,
 "nbformat_minor": 2
}
