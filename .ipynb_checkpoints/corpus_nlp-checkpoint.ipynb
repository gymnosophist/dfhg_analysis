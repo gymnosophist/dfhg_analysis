{
 "cells": [
  {
   "cell_type": "markdown",
   "metadata": {},
   "source": [
    "# Import"
   ]
  },
  {
   "cell_type": "code",
   "execution_count": 1,
   "metadata": {},
   "outputs": [],
   "source": [
    "%%capture\n",
    "!pip install cltk"
   ]
  },
  {
   "cell_type": "code",
   "execution_count": 19,
   "metadata": {},
   "outputs": [],
   "source": [
    "## Set up for lemmatization, stop word filtering \n",
    "import pandas as pd \n",
    "import os\n",
    "from cltk.stop.greek.stops import STOPS_LIST # for processing\n",
    "from cltk.corpus.utils.importer import CorpusImporter # For comparison later \n",
    "corpusimporter = CorpusImporter('greek') # For comparison later \n",
    "from cltk.stem.lemma import LemmaReplacer # For processing \n",
    "from cltk.corpus.utils.formatter import cltk_normalize # Helps with processing\n",
    "stops = STOPS_LIST \n",
    "df = pd.read_csv('dfhg.csv')\n",
    "punct = ['.', '(', ')', ',', \"'\", '\"']\n",
    "LATIN = ['a','b','c','d','e','f','g','h','i','j','k','l','m','n','o','p','q', 'r', 's', 't','u','v','w','x','y','z']\n",
    "LATIN.append([letter.capitalize() for letter in LATIN])\n",
    "\n",
    "corpus_importer = CorpusImporter('greek')\n",
    "corpus_importer.import_corpus('greek_models_cltk')\n",
    "lemmatizer = LemmaReplacer('greek')\n",
    "\n",
    "from cltk.tokenize.word import WordTokenizer\n",
    "word_tokenizer = WordTokenizer('greek')\n",
    "# word_tokenizer.tokenize().lower()\n",
    "# [token for token in athenaeus_word_tokens if token not in ['.', ',', ':', ';']]\n",
    "\n",
    "from cltk.stem.lemma import LemmaReplacer\n",
    "lemmatizer = LemmaReplacer('greek')\n",
    "# lemmata = lemmatizer.lemmatize()"
   ]
  },
  {
   "cell_type": "code",
   "execution_count": 7,
   "metadata": {},
   "outputs": [],
   "source": [
    "from cltk.tokenize.sentence import TokenizeSentence\n",
    "sentence_tokenizer = TokenizeSentence('greek')\n",
    "\n",
    "from cltk.tokenize.word import WordTokenizer\n",
    "word_tokenizer = WordTokenizer('greek')"
   ]
  },
  {
   "cell_type": "code",
   "execution_count": 8,
   "metadata": {},
   "outputs": [
    {
     "data": {
      "text/html": [
       "<div>\n",
       "<style scoped>\n",
       "    .dataframe tbody tr th:only-of-type {\n",
       "        vertical-align: middle;\n",
       "    }\n",
       "\n",
       "    .dataframe tbody tr th {\n",
       "        vertical-align: top;\n",
       "    }\n",
       "\n",
       "    .dataframe thead th {\n",
       "        text-align: right;\n",
       "    }\n",
       "</style>\n",
       "<table border=\"1\" class=\"dataframe\">\n",
       "  <thead>\n",
       "    <tr style=\"text-align: right;\">\n",
       "      <th></th>\n",
       "      <th>volume</th>\n",
       "      <th>sub_volume</th>\n",
       "      <th>sub_volume_note</th>\n",
       "      <th>author</th>\n",
       "      <th>section</th>\n",
       "      <th>work</th>\n",
       "      <th>work_note</th>\n",
       "      <th>work_section</th>\n",
       "      <th>work_section_note</th>\n",
       "      <th>book</th>\n",
       "      <th>...</th>\n",
       "      <th>fragment_number</th>\n",
       "      <th>fragment_letter</th>\n",
       "      <th>fragment_note</th>\n",
       "      <th>witness</th>\n",
       "      <th>text</th>\n",
       "      <th>translation</th>\n",
       "      <th>commentary</th>\n",
       "      <th>note</th>\n",
       "      <th>urn</th>\n",
       "      <th>cite_urn</th>\n",
       "    </tr>\n",
       "  </thead>\n",
       "  <tbody>\n",
       "    <tr>\n",
       "      <th>0</th>\n",
       "      <td>Volumen quartum</td>\n",
       "      <td>LIBER DECIMUS</td>\n",
       "      <td>SCRIPTORES AETATIS INCERTAE EX ORDINE LITERARUM</td>\n",
       "      <td>ABAS</td>\n",
       "      <td>ABAE FRAGMENTA</td>\n",
       "      <td>ΙΣΤΟΡΙΚΑ ΥΠΟΜΝΗΜΑΤΑ</td>\n",
       "      <td>NaN</td>\n",
       "      <td>NaN</td>\n",
       "      <td>NaN</td>\n",
       "      <td>NaN</td>\n",
       "      <td>...</td>\n",
       "      <td>1</td>\n",
       "      <td>NaN</td>\n",
       "      <td>NaN</td>\n",
       "      <td>Ptolemaeus Hephaest. ap. Phot cod. 190, p. 15...</td>\n",
       "      <td>Ἡ Κανδαύλου γυνὴ, ἧς Ἡρόδοτος οὐ λέγει τοὔνομα...</td>\n",
       "      <td>Candaulae uxor, cujus nomen non prodit Herodo...</td>\n",
       "      <td>De Habrone aliunde non constat. De Tudû v. not...</td>\n",
       "      <td>NaN</td>\n",
       "      <td>urn:lofts:fhg.4.abas.abae_fragmenta.commentari...</td>\n",
       "      <td>urn:cite:lofts:fhg4.abas:1</td>\n",
       "    </tr>\n",
       "    <tr>\n",
       "      <th>1</th>\n",
       "      <td>Volumen quartum</td>\n",
       "      <td>LIBER DECIMUS</td>\n",
       "      <td>SCRIPTORES AETATIS INCERTAE EX ORDINE LITERARUM</td>\n",
       "      <td>ABAS</td>\n",
       "      <td>ABAE FRAGMENTA</td>\n",
       "      <td>ΤΡΩΙΚΑ</td>\n",
       "      <td>NaN</td>\n",
       "      <td>NaN</td>\n",
       "      <td>NaN</td>\n",
       "      <td>NaN</td>\n",
       "      <td>...</td>\n",
       "      <td>2</td>\n",
       "      <td>NaN</td>\n",
       "      <td>NaN</td>\n",
       "      <td>Servius ad Virgil. Aen. IX, 264: Devicta Arisbe]</td>\n",
       "      <td>Scilicet ab Achille. Dicta est Arisba a Meropi...</td>\n",
       "      <td>NaN</td>\n",
       "      <td>NaN</td>\n",
       "      <td>NaN</td>\n",
       "      <td>urn:lofts:fhg.4.abas.abae_fragmenta.troica:2</td>\n",
       "      <td>urn:cite:lofts:fhg4.abas:2</td>\n",
       "    </tr>\n",
       "    <tr>\n",
       "      <th>2</th>\n",
       "      <td>Volumen quartum</td>\n",
       "      <td>LIBER DECIMUS</td>\n",
       "      <td>SCRIPTORES AETATIS INCERTAE EX ORDINE LITERARUM</td>\n",
       "      <td>ABRON VEL HABRON BATIENSIS</td>\n",
       "      <td>ABRONIS BATIENSIS FRAGMENTA</td>\n",
       "      <td>NaN</td>\n",
       "      <td>NaN</td>\n",
       "      <td>NaN</td>\n",
       "      <td>NaN</td>\n",
       "      <td>NaN</td>\n",
       "      <td>...</td>\n",
       "      <td>1</td>\n",
       "      <td>NaN</td>\n",
       "      <td>NaN</td>\n",
       "      <td>Stephan. Byz.:</td>\n",
       "      <td>Βατὴ, δῆμος τῆς Αἰγηίδος φυλῆς, ὅθεν ἦν Ἄβρων ...</td>\n",
       "      <td>NaN</td>\n",
       "      <td>Ἄβρων (rectius scribitur Ἄβρων) Βατῆθεν, pater...</td>\n",
       "      <td>NaN</td>\n",
       "      <td>urn:lofts:fhg.4.abron_vel_habron_batiensis.abr...</td>\n",
       "      <td>urn:cite:lofts:fhg4.abron_vel_habron_batiensis:1</td>\n",
       "    </tr>\n",
       "    <tr>\n",
       "      <th>3</th>\n",
       "      <td>Volumen quartum</td>\n",
       "      <td>LIBER DECIMUS</td>\n",
       "      <td>SCRIPTORES AETATIS INCERTAE EX ORDINE LITERARUM</td>\n",
       "      <td>ABYDENUS</td>\n",
       "      <td>ABYDENI FRAGMENTA</td>\n",
       "      <td>ΑΣΣΥΡΙΑΚΑ ΚΑΙ ΜΗΔΙΚΑ</td>\n",
       "      <td>NaN</td>\n",
       "      <td>NaN</td>\n",
       "      <td>NaN</td>\n",
       "      <td>NaN</td>\n",
       "      <td>...</td>\n",
       "      <td>1</td>\n",
       "      <td>NaN</td>\n",
       "      <td>NaN</td>\n",
       "      <td>Syncellus p. 38, B:</td>\n",
       "      <td>Ἐκ τῶν Ἀβυδηνοῦ Περὶ τῆς τῶν Χαλδαίων βασιλεία...</td>\n",
       "      <td>EX ABYDENO. De Chaldoeorum regno. Et de Chald...</td>\n",
       "      <td>Λέγεται Ἄλωρον] sic Scalig.; λέγων cod. A. An ...</td>\n",
       "      <td>NaN</td>\n",
       "      <td>urn:lofts:fhg.4.abydenus.abydeni_fragmenta.ass...</td>\n",
       "      <td>urn:cite:lofts:fhg4.abydenus:1</td>\n",
       "    </tr>\n",
       "    <tr>\n",
       "      <th>4</th>\n",
       "      <td>Volumen quartum</td>\n",
       "      <td>LIBER DECIMUS</td>\n",
       "      <td>SCRIPTORES AETATIS INCERTAE EX ORDINE LITERARUM</td>\n",
       "      <td>ABYDENUS</td>\n",
       "      <td>ABYDENI FRAGMENTA</td>\n",
       "      <td>ΑΣΣΥΡΙΑΚΑ ΚΑΙ ΜΗΔΙΚΑ</td>\n",
       "      <td>NaN</td>\n",
       "      <td>NaN</td>\n",
       "      <td>NaN</td>\n",
       "      <td>NaN</td>\n",
       "      <td>...</td>\n",
       "      <td>2</td>\n",
       "      <td>NaN</td>\n",
       "      <td>NaN</td>\n",
       "      <td>Eusebius Arm. p. 22 ed. Mai, postquam Chaldae...</td>\n",
       "      <td>Quoe hactenus dicta sunt, Abydenus etiam satis...</td>\n",
       "      <td>NaN</td>\n",
       "      <td>Iotages, etc.] «Ita in margine codicis, quae ...</td>\n",
       "      <td>NaN</td>\n",
       "      <td>urn:lofts:fhg.4.abydenus.abydeni_fragmenta.ass...</td>\n",
       "      <td>urn:cite:lofts:fhg4.abydenus:2</td>\n",
       "    </tr>\n",
       "  </tbody>\n",
       "</table>\n",
       "<p>5 rows × 27 columns</p>\n",
       "</div>"
      ],
      "text/plain": [
       "            volume     sub_volume  \\\n",
       "0  Volumen quartum  LIBER DECIMUS   \n",
       "1  Volumen quartum  LIBER DECIMUS   \n",
       "2  Volumen quartum  LIBER DECIMUS   \n",
       "3  Volumen quartum  LIBER DECIMUS   \n",
       "4  Volumen quartum  LIBER DECIMUS   \n",
       "\n",
       "                                   sub_volume_note  \\\n",
       "0  SCRIPTORES AETATIS INCERTAE EX ORDINE LITERARUM   \n",
       "1  SCRIPTORES AETATIS INCERTAE EX ORDINE LITERARUM   \n",
       "2  SCRIPTORES AETATIS INCERTAE EX ORDINE LITERARUM   \n",
       "3  SCRIPTORES AETATIS INCERTAE EX ORDINE LITERARUM   \n",
       "4  SCRIPTORES AETATIS INCERTAE EX ORDINE LITERARUM   \n",
       "\n",
       "                       author                      section  \\\n",
       "0                        ABAS               ABAE FRAGMENTA   \n",
       "1                        ABAS               ABAE FRAGMENTA   \n",
       "2  ABRON VEL HABRON BATIENSIS  ABRONIS BATIENSIS FRAGMENTA   \n",
       "3                    ABYDENUS            ABYDENI FRAGMENTA   \n",
       "4                    ABYDENUS            ABYDENI FRAGMENTA   \n",
       "\n",
       "                   work work_note work_section work_section_note book  ...  \\\n",
       "0   ΙΣΤΟΡΙΚΑ ΥΠΟΜΝΗΜΑΤΑ       NaN          NaN               NaN  NaN  ...   \n",
       "1                ΤΡΩΙΚΑ       NaN          NaN               NaN  NaN  ...   \n",
       "2                   NaN       NaN          NaN               NaN  NaN  ...   \n",
       "3  ΑΣΣΥΡΙΑΚΑ ΚΑΙ ΜΗΔΙΚΑ       NaN          NaN               NaN  NaN  ...   \n",
       "4  ΑΣΣΥΡΙΑΚΑ ΚΑΙ ΜΗΔΙΚΑ       NaN          NaN               NaN  NaN  ...   \n",
       "\n",
       "  fragment_number  fragment_letter  fragment_note  \\\n",
       "0               1              NaN            NaN   \n",
       "1               2              NaN            NaN   \n",
       "2               1              NaN            NaN   \n",
       "3               1              NaN            NaN   \n",
       "4               2              NaN            NaN   \n",
       "\n",
       "                                             witness  \\\n",
       "0   Ptolemaeus Hephaest. ap. Phot cod. 190, p. 15...   \n",
       "1   Servius ad Virgil. Aen. IX, 264: Devicta Arisbe]   \n",
       "2                                     Stephan. Byz.:   \n",
       "3                                Syncellus p. 38, B:   \n",
       "4   Eusebius Arm. p. 22 ed. Mai, postquam Chaldae...   \n",
       "\n",
       "                                                text  \\\n",
       "0  Ἡ Κανδαύλου γυνὴ, ἧς Ἡρόδοτος οὐ λέγει τοὔνομα...   \n",
       "1  Scilicet ab Achille. Dicta est Arisba a Meropi...   \n",
       "2  Βατὴ, δῆμος τῆς Αἰγηίδος φυλῆς, ὅθεν ἦν Ἄβρων ...   \n",
       "3  Ἐκ τῶν Ἀβυδηνοῦ Περὶ τῆς τῶν Χαλδαίων βασιλεία...   \n",
       "4  Quoe hactenus dicta sunt, Abydenus etiam satis...   \n",
       "\n",
       "                                         translation  \\\n",
       "0   Candaulae uxor, cujus nomen non prodit Herodo...   \n",
       "1                                                NaN   \n",
       "2                                                NaN   \n",
       "3   EX ABYDENO. De Chaldoeorum regno. Et de Chald...   \n",
       "4                                                NaN   \n",
       "\n",
       "                                          commentary note  \\\n",
       "0  De Habrone aliunde non constat. De Tudû v. not...  NaN   \n",
       "1                                                NaN  NaN   \n",
       "2  Ἄβρων (rectius scribitur Ἄβρων) Βατῆθεν, pater...  NaN   \n",
       "3  Λέγεται Ἄλωρον] sic Scalig.; λέγων cod. A. An ...  NaN   \n",
       "4   Iotages, etc.] «Ita in margine codicis, quae ...  NaN   \n",
       "\n",
       "                                                 urn  \\\n",
       "0  urn:lofts:fhg.4.abas.abae_fragmenta.commentari...   \n",
       "1       urn:lofts:fhg.4.abas.abae_fragmenta.troica:2   \n",
       "2  urn:lofts:fhg.4.abron_vel_habron_batiensis.abr...   \n",
       "3  urn:lofts:fhg.4.abydenus.abydeni_fragmenta.ass...   \n",
       "4  urn:lofts:fhg.4.abydenus.abydeni_fragmenta.ass...   \n",
       "\n",
       "                                           cite_urn  \n",
       "0                        urn:cite:lofts:fhg4.abas:1  \n",
       "1                        urn:cite:lofts:fhg4.abas:2  \n",
       "2  urn:cite:lofts:fhg4.abron_vel_habron_batiensis:1  \n",
       "3                    urn:cite:lofts:fhg4.abydenus:1  \n",
       "4                    urn:cite:lofts:fhg4.abydenus:2  \n",
       "\n",
       "[5 rows x 27 columns]"
      ]
     },
     "execution_count": 8,
     "metadata": {},
     "output_type": "execute_result"
    }
   ],
   "source": [
    "df = pd.read_csv('dfhg.csv')\n",
    "df = df.drop(columns = [x for x in df.columns if 'Unnamed' in x])\n",
    "df.head()"
   ]
  },
  {
   "cell_type": "code",
   "execution_count": 9,
   "metadata": {},
   "outputs": [
    {
     "data": {
      "text/plain": [
       "587"
      ]
     },
     "execution_count": 9,
     "metadata": {},
     "output_type": "execute_result"
    }
   ],
   "source": [
    "df.author.nunique() # Missing a few (~26?)"
   ]
  },
  {
   "cell_type": "code",
   "execution_count": 13,
   "metadata": {},
   "outputs": [],
   "source": [
    "def clean_text(text): \n",
    "    \"\"\"tokenizes text chunks. Returns list of words in a text chunk\"\"\"\n",
    "    punct = ['.', '(', ')', ',', \"'\", '\"']\n",
    "    try:    \n",
    "        words = word_tokenizer.tokenize(text.lower())\n",
    "        words = [word for word in words if word not in [punct, stops]] # clean up words \n",
    "    except AttributeError as e: \n",
    "        print('failed at', )\n",
    "    return words\n",
    "    "
   ]
  },
  {
   "cell_type": "code",
   "execution_count": 38,
   "metadata": {},
   "outputs": [
    {
     "name": "stdout",
     "output_type": "stream",
     "text": [
      "failed at 23\n"
     ]
    }
   ],
   "source": [
    "out = find_error(author_df['text'])"
   ]
  },
  {
   "cell_type": "code",
   "execution_count": 14,
   "metadata": {},
   "outputs": [],
   "source": [
    "def process_author(author): \n",
    "    author_words = []\n",
    "    for text in author: \n",
    "        add = clean_text(text.lower())\n",
    "        author_words.append(add)\n",
    "    return author_words"
   ]
  },
  {
   "cell_type": "code",
   "execution_count": 161,
   "metadata": {},
   "outputs": [],
   "source": [
    "from collections import Counter"
   ]
  },
  {
   "cell_type": "code",
   "execution_count": 163,
   "metadata": {},
   "outputs": [],
   "source": [
    "from itertools import chain\n",
    "test = list(chain(*test))\n",
    "count = Counter(test)"
   ]
  },
  {
   "cell_type": "code",
   "execution_count": 10,
   "metadata": {},
   "outputs": [],
   "source": [
    "author_df = df.reset_index()[['author','text']]"
   ]
  },
  {
   "cell_type": "code",
   "execution_count": 68,
   "metadata": {},
   "outputs": [],
   "source": [
    "author_df['words'] = author_df['text'].apply(clean_text)"
   ]
  },
  {
   "cell_type": "markdown",
   "metadata": {},
   "source": [
    "## Lemmatize and create measures of lexical density"
   ]
  },
  {
   "cell_type": "code",
   "execution_count": 71,
   "metadata": {},
   "outputs": [],
   "source": [
    "def lemmatize(text): \n",
    "    lemmata = lemmatizer.lemmatize(text)\n",
    "    return lemmata"
   ]
  },
  {
   "cell_type": "code",
   "execution_count": 80,
   "metadata": {},
   "outputs": [],
   "source": [
    "author_df['lemmata'] = author_df['words'].apply(lemmatize)\n",
    "\n",
    "author_df['lexical_density'] = author_df.apply(lambda x: len(set(x['lemmata'])) / len(x['lemmata']), 1)"
   ]
  },
  {
   "cell_type": "code",
   "execution_count": 88,
   "metadata": {},
   "outputs": [
    {
     "data": {
      "text/plain": [
       "<matplotlib.axes._subplots.AxesSubplot at 0x1a311bf048>"
      ]
     },
     "execution_count": 88,
     "metadata": {},
     "output_type": "execute_result"
    },
    {
     "data": {
      "image/png": "[encoded data removed]",
      "text/plain": [
       "<Figure size 432x288 with 1 Axes>"
      ]
     },
     "metadata": {
      "needs_background": "light"
     },
     "output_type": "display_data"
    }
   ],
   "source": [
    "author_df['lexical_density'].plot(kind = 'hist', bins = 100, alpha = .5, legend = True)"
   ]
  },
  {
   "cell_type": "code",
   "execution_count": 149,
   "metadata": {},
   "outputs": [
    {
     "data": {
      "text/html": [
       "<div>\n",
       "<style scoped>\n",
       "    .dataframe tbody tr th:only-of-type {\n",
       "        vertical-align: middle;\n",
       "    }\n",
       "\n",
       "    .dataframe tbody tr th {\n",
       "        vertical-align: top;\n",
       "    }\n",
       "\n",
       "    .dataframe thead th {\n",
       "        text-align: right;\n",
       "    }\n",
       "</style>\n",
       "<table border=\"1\" class=\"dataframe\">\n",
       "  <thead>\n",
       "    <tr style=\"text-align: right;\">\n",
       "      <th></th>\n",
       "      <th>lexical_density</th>\n",
       "    </tr>\n",
       "    <tr>\n",
       "      <th>author</th>\n",
       "      <th></th>\n",
       "    </tr>\n",
       "  </thead>\n",
       "  <tbody>\n",
       "    <tr>\n",
       "      <th>LINUS OECHALIENSIS</th>\n",
       "      <td>1.000000</td>\n",
       "    </tr>\n",
       "    <tr>\n",
       "      <th>HEGESANDER SALAMINIUS</th>\n",
       "      <td>1.000000</td>\n",
       "    </tr>\n",
       "    <tr>\n",
       "      <th>HERACLITUS LESBIUS</th>\n",
       "      <td>1.000000</td>\n",
       "    </tr>\n",
       "    <tr>\n",
       "      <th>THEODORUS SAMOTHRAX</th>\n",
       "      <td>0.954545</td>\n",
       "    </tr>\n",
       "    <tr>\n",
       "      <th>PHILONIDES PHILOGENES</th>\n",
       "      <td>0.950000</td>\n",
       "    </tr>\n",
       "    <tr>\n",
       "      <th>MENECRATES OLYNTHIUS</th>\n",
       "      <td>0.947368</td>\n",
       "    </tr>\n",
       "    <tr>\n",
       "      <th>AUTOCHARIS</th>\n",
       "      <td>0.941176</td>\n",
       "    </tr>\n",
       "    <tr>\n",
       "      <th>AMPHILOCHUS</th>\n",
       "      <td>0.941176</td>\n",
       "    </tr>\n",
       "    <tr>\n",
       "      <th>CNAEUS AUFIDIUS</th>\n",
       "      <td>0.937500</td>\n",
       "    </tr>\n",
       "    <tr>\n",
       "      <th>AGESILAUS</th>\n",
       "      <td>0.933333</td>\n",
       "    </tr>\n",
       "    <tr>\n",
       "      <th>EUALCES</th>\n",
       "      <td>0.928571</td>\n",
       "    </tr>\n",
       "    <tr>\n",
       "      <th>AUTOCRATES</th>\n",
       "      <td>0.928261</td>\n",
       "    </tr>\n",
       "    <tr>\n",
       "      <th>EUPHANTUS OLYNTHIUS</th>\n",
       "      <td>0.926829</td>\n",
       "    </tr>\n",
       "    <tr>\n",
       "      <th>LEO ALABANDENSIS</th>\n",
       "      <td>0.923077</td>\n",
       "    </tr>\n",
       "    <tr>\n",
       "      <th>CLEOBULUS</th>\n",
       "      <td>0.923077</td>\n",
       "    </tr>\n",
       "    <tr>\n",
       "      <th>BOTRYAS MYNDIUS</th>\n",
       "      <td>0.916667</td>\n",
       "    </tr>\n",
       "    <tr>\n",
       "      <th>BEMARCHIUS CAESARIENSIS</th>\n",
       "      <td>0.913043</td>\n",
       "    </tr>\n",
       "    <tr>\n",
       "      <th>DEMODAMAS MILESIUS</th>\n",
       "      <td>0.907468</td>\n",
       "    </tr>\n",
       "    <tr>\n",
       "      <th>TELESARCHUS</th>\n",
       "      <td>0.907407</td>\n",
       "    </tr>\n",
       "    <tr>\n",
       "      <th>EUCRATES</th>\n",
       "      <td>0.900000</td>\n",
       "    </tr>\n",
       "  </tbody>\n",
       "</table>\n",
       "</div>"
      ],
      "text/plain": [
       "                         lexical_density\n",
       "author                                  \n",
       "LINUS OECHALIENSIS              1.000000\n",
       "HEGESANDER SALAMINIUS           1.000000\n",
       "HERACLITUS LESBIUS              1.000000\n",
       "THEODORUS SAMOTHRAX             0.954545\n",
       "PHILONIDES PHILOGENES           0.950000\n",
       "MENECRATES OLYNTHIUS            0.947368\n",
       "AUTOCHARIS                      0.941176\n",
       "AMPHILOCHUS                     0.941176\n",
       "CNAEUS AUFIDIUS                 0.937500\n",
       "AGESILAUS                       0.933333\n",
       "EUALCES                         0.928571\n",
       "AUTOCRATES                      0.928261\n",
       "EUPHANTUS OLYNTHIUS             0.926829\n",
       "LEO ALABANDENSIS                0.923077\n",
       "CLEOBULUS                       0.923077\n",
       "BOTRYAS MYNDIUS                 0.916667\n",
       "BEMARCHIUS CAESARIENSIS         0.913043\n",
       "DEMODAMAS MILESIUS              0.907468\n",
       "TELESARCHUS                     0.907407\n",
       "EUCRATES                        0.900000"
      ]
     },
     "execution_count": 149,
     "metadata": {},
     "output_type": "execute_result"
    }
   ],
   "source": [
    "author_df.groupby('author').agg({'lexical_density' : 'mean'}).sort_values('lexical_density',ascending = False).head(20)"
   ]
  },
  {
   "cell_type": "markdown",
   "metadata": {},
   "source": [
    "### Investigate Linus Oechaliensis, Hegesander Salaminus, and Heraclitus Lesbius "
   ]
  },
  {
   "cell_type": "markdown",
   "metadata": {},
   "source": [
    "## Still some more cleaning to do -- eliminate entries that are **majority** Latin"
   ]
  },
  {
   "cell_type": "code",
   "execution_count": 343,
   "metadata": {},
   "outputs": [],
   "source": [
    "def find_latin(text_list): \n",
    "    index = []\n",
    "    for i in range(len(text_list)): \n",
    "        if text_list[i][0] in latin: \n",
    "            index.append(i)\n",
    "    return index"
   ]
  },
  {
   "cell_type": "code",
   "execution_count": 345,
   "metadata": {},
   "outputs": [],
   "source": [
    "drops = author_df['words'].apply(find_latin)"
   ]
  },
  {
   "cell_type": "markdown",
   "metadata": {},
   "source": [
    " - An easier way to do this might be to do str.contains(LATIN) -- "
   ]
  },
  {
   "cell_type": "code",
   "execution_count": 369,
   "metadata": {},
   "outputs": [],
   "source": [
    "latin_index = author_df['text'].str.contains('([a-zA-Z])\\)', regex = True)"
   ]
  },
  {
   "cell_type": "markdown",
   "metadata": {},
   "source": [
    "## We now have an index of texts with **some** Latin in the 'text' column  \n",
    "\n",
    "#### We need to do some further cleaning to ensure we don't throw out texts that are **majority** Greek"
   ]
  },
  {
   "cell_type": "code",
   "execution_count": 404,
   "metadata": {},
   "outputs": [],
   "source": [
    "latin_index = author_df[latin_index]"
   ]
  },
  {
   "cell_type": "code",
   "execution_count": 390,
   "metadata": {},
   "outputs": [],
   "source": [
    "texts = ['neque μέν, nec δέ', 'o tempora, o mores']\n",
    "out = []\n",
    "def count_latin_characters(text):\n",
    "    count = 0\n",
    "    for letter in text: \n",
    "        if letter in latin: \n",
    "            count += 1\n",
    "    return count"
   ]
  },
  {
   "cell_type": "code",
   "execution_count": 399,
   "metadata": {},
   "outputs": [],
   "source": [
    "def find_latin_index(list_of_words): \n",
    "    indicies = []\n",
    "    for word in list_of_words: \n",
    "        count = count_latin_characters(word)\n",
    "        if count >= 2:\n",
    "            indicies.append(list_of_words.index(word))\n",
    "    return indicies"
   ]
  },
  {
   "cell_type": "code",
   "execution_count": 410,
   "metadata": {},
   "outputs": [],
   "source": [
    "latin_index['latin_word_count'] = latin_index['words'].apply(find_latin_index)\n",
    "\n",
    "latin_index.head()"
   ]
  },
  {
   "cell_type": "code",
   "execution_count": 423,
   "metadata": {},
   "outputs": [],
   "source": [
    "latin_index.rename(columns = {'latin_word_count' : 'latin_word_index'}, inplace = True)\n",
    "\n",
    "latin_index['latin_word_count_'] =latin_index['latin_word_index'].apply(lambda x: len(x))\n",
    "\n",
    "latin_index['total_words_in_fragment'] = latin_index['words'].apply(lambda x: len(x))\n",
    "\n",
    "latin_index['latin_word_freq'] = latin_index['latin_word_count_'] / latin_index['total_words_in_fragment']"
   ]
  },
  {
   "cell_type": "code",
   "execution_count": 425,
   "metadata": {},
   "outputs": [],
   "source": [
    "latin_index.to_csv('passages_with_latin.csv')"
   ]
  },
  {
   "cell_type": "code",
   "execution_count": 428,
   "metadata": {},
   "outputs": [
    {
     "data": {
      "text/plain": [
       "<matplotlib.axes._subplots.AxesSubplot at 0x1a3fc66c88>"
      ]
     },
     "execution_count": 428,
     "metadata": {},
     "output_type": "execute_result"
    },
    {
     "data": {
      "image/png": "[encoded data removed]",
      "text/plain": [
       "<Figure size 432x288 with 1 Axes>"
      ]
     },
     "metadata": {
      "needs_background": "light"
     },
     "output_type": "display_data"
    }
   ],
   "source": [
    "latin_index['latin_word_freq'].sort_values().plot(kind = 'bar')"
   ]
  },
  {
   "cell_type": "code",
   "execution_count": 445,
   "metadata": {},
   "outputs": [
    {
     "data": {
      "text/plain": [
       "<matplotlib.axes._subplots.AxesSubplot at 0x1a4a934d68>"
      ]
     },
     "execution_count": 445,
     "metadata": {},
     "output_type": "execute_result"
    },
    {
     "data": {
      "image/png": "[encoded data removed]",
      "text/plain": [
       "<Figure size 432x288 with 2 Axes>"
      ]
     },
     "metadata": {
      "needs_background": "light"
     },
     "output_type": "display_data"
    }
   ],
   "source": [
    "import matplotlib.pyplot as plt \n",
    "%matplotlib inline\n",
    "\n",
    "fig = plt.figure() # Create matplotlib figure\n",
    "ax = fig.add_subplot(111) # Create matplotlib axes\n",
    "ax2 = ax.twinx() \n",
    "\n",
    "latin_index.latin_word_count_.sort_values().plot(kind = 'bar', color = 'red', ax = ax)\n",
    "latin_index.total_words_in_fragment.sort_values().plot(kind = 'bar', color = 'blue', ax = ax2)"
   ]
  },
  {
   "cell_type": "code",
   "execution_count": 439,
   "metadata": {},
   "outputs": [
    {
     "data": {
      "text/html": [
       "<div>\n",
       "<style scoped>\n",
       "    .dataframe tbody tr th:only-of-type {\n",
       "        vertical-align: middle;\n",
       "    }\n",
       "\n",
       "    .dataframe tbody tr th {\n",
       "        vertical-align: top;\n",
       "    }\n",
       "\n",
       "    .dataframe thead th {\n",
       "        text-align: right;\n",
       "    }\n",
       "</style>\n",
       "<table border=\"1\" class=\"dataframe\">\n",
       "  <thead>\n",
       "    <tr style=\"text-align: right;\">\n",
       "      <th></th>\n",
       "      <th>author</th>\n",
       "      <th>text</th>\n",
       "      <th>words</th>\n",
       "      <th>lemmata</th>\n",
       "      <th>lexical_density</th>\n",
       "      <th>latin_word_index</th>\n",
       "      <th>latin_word_count_</th>\n",
       "      <th>total_words_in_fragment</th>\n",
       "      <th>latin_word_freq</th>\n",
       "    </tr>\n",
       "  </thead>\n",
       "  <tbody>\n",
       "    <tr>\n",
       "      <th>6781</th>\n",
       "      <td>POSIDONIUS APAMENSIS</td>\n",
       "      <td>Admiror autem etiam eos qui ei (Apioni) ejusmo...</td>\n",
       "      <td>[admiror, autem, etiam, eos, qui, ei, (, apion...</td>\n",
       "      <td>[admiror, autem, etiam, eos, qui, ei, (, apion...</td>\n",
       "      <td>0.771186</td>\n",
       "      <td>[0, 1, 2, 3, 4, 5, 7, 9, 10, 11, 13, 14, 15, 1...</td>\n",
       "      <td>102</td>\n",
       "      <td>118</td>\n",
       "      <td>0.864407</td>\n",
       "    </tr>\n",
       "    <tr>\n",
       "      <th>1629</th>\n",
       "      <td>BARDESANE</td>\n",
       "      <td>Leges sunt in unaquaque regione vel regno ab  ...</td>\n",
       "      <td>[leges, sunt, in, unaquaque, regione, vel, reg...</td>\n",
       "      <td>[leges, sunt, in, unaquaque, regione, vel, reg...</td>\n",
       "      <td>0.474695</td>\n",
       "      <td>[0, 1, 2, 3, 4, 5, 6, 7, 8, 9, 11, 12, 11, 14,...</td>\n",
       "      <td>1474</td>\n",
       "      <td>1719</td>\n",
       "      <td>0.857475</td>\n",
       "    </tr>\n",
       "    <tr>\n",
       "      <th>2451</th>\n",
       "      <td>DEXIPPUS ATHENIENSIS</td>\n",
       "      <td>Cordus dixit uxorem eum (Gordianum juniorem) n...</td>\n",
       "      <td>[cordus, dixit, uxorem, eum, (, gordianum, jun...</td>\n",
       "      <td>[cordus, dixit, uxorem, eum, (, gordianum, jun...</td>\n",
       "      <td>0.942857</td>\n",
       "      <td>[0, 1, 2, 3, 5, 6, 8, 9, 10, 12, 13, 14, 15, 1...</td>\n",
       "      <td>30</td>\n",
       "      <td>35</td>\n",
       "      <td>0.857143</td>\n",
       "    </tr>\n",
       "    <tr>\n",
       "      <th>6619</th>\n",
       "      <td>PHYLARCHUS</td>\n",
       "      <td>«De cratera autem (coelesti nimirum) hanc hist...</td>\n",
       "      <td>[«, de, cratera, autem, (, coelesti, nimirum, ...</td>\n",
       "      <td>[«, de, cratera, autem, (, coelesti, nimirum, ...</td>\n",
       "      <td>0.682274</td>\n",
       "      <td>[1, 2, 3, 5, 6, 8, 9, 10, 11, 13, 14, 16, 17, ...</td>\n",
       "      <td>255</td>\n",
       "      <td>299</td>\n",
       "      <td>0.852843</td>\n",
       "    </tr>\n",
       "    <tr>\n",
       "      <th>5563</th>\n",
       "      <td>NICOLAUS DAMASCENUS</td>\n",
       "      <td>Quia vero Antiochus (Epiphanes) neque justam f...</td>\n",
       "      <td>[quia, vero, antiochus, (, epiphanes, ), neque...</td>\n",
       "      <td>[quia, vero, antiochus, (, epiphanes, ), neque...</td>\n",
       "      <td>0.839506</td>\n",
       "      <td>[0, 1, 2, 4, 6, 7, 8, 9, 10, 11, 12, 13, 14, 1...</td>\n",
       "      <td>69</td>\n",
       "      <td>81</td>\n",
       "      <td>0.851852</td>\n",
       "    </tr>\n",
       "    <tr>\n",
       "      <th>...</th>\n",
       "      <td>...</td>\n",
       "      <td>...</td>\n",
       "      <td>...</td>\n",
       "      <td>...</td>\n",
       "      <td>...</td>\n",
       "      <td>...</td>\n",
       "      <td>...</td>\n",
       "      <td>...</td>\n",
       "      <td>...</td>\n",
       "    </tr>\n",
       "    <tr>\n",
       "      <th>2466</th>\n",
       "      <td>DEXIPPUS ATHENIENSIS</td>\n",
       "      <td>«.. καὶ καρτερίᾳ οἱ πόλεμοι μᾶλλον ἢ πλήθει κρ...</td>\n",
       "      <td>[«, .., καὶ, καρτερίᾳ, οἱ, πόλεμοι, μᾶλλον, ἢ,...</td>\n",
       "      <td>[«, .., καὶ, καρτερία, ὁ, πόλεμος, μᾶλλον, ἢ, ...</td>\n",
       "      <td>0.450954</td>\n",
       "      <td>[642]</td>\n",
       "      <td>1</td>\n",
       "      <td>734</td>\n",
       "      <td>0.001362</td>\n",
       "    </tr>\n",
       "    <tr>\n",
       "      <th>6810</th>\n",
       "      <td>POSIDONIUS APAMENSIS</td>\n",
       "      <td>Ὁ δ ̓ Ἀλέξανδρος (sc. Bala) προσηνὴς ἦν ἐν πᾶσ...</td>\n",
       "      <td>[ὁ, δ, ̓, ἀλέξανδρος, (, sc, ., bala, ), προση...</td>\n",
       "      <td>[ὁ, δ, ̓, ἀλέξανδρος, (, sc, ., bala, ), προση...</td>\n",
       "      <td>0.406751</td>\n",
       "      <td>[5, 7]</td>\n",
       "      <td>2</td>\n",
       "      <td>1748</td>\n",
       "      <td>0.001144</td>\n",
       "    </tr>\n",
       "    <tr>\n",
       "      <th>5217</th>\n",
       "      <td>MENANDER PROTECTOR</td>\n",
       "      <td>Ὅτι ἠγγέλθη Ἰουστίνῳ ὡς ἐκ τῆς Περσῶν ἐπικρατε...</td>\n",
       "      <td>[ὅτι, ἠγγέλθη, ἰουστίνῳ, ,, ὡς, ἐκ, τῆς, περσῶ...</td>\n",
       "      <td>[ὅστις, ἀγγέλλω, ἰουστῖνος, ,, ὡς, ἐκ, ὁ, πέρ...</td>\n",
       "      <td>0.361484</td>\n",
       "      <td>[1237]</td>\n",
       "      <td>1</td>\n",
       "      <td>1267</td>\n",
       "      <td>0.000789</td>\n",
       "    </tr>\n",
       "    <tr>\n",
       "      <th>5549</th>\n",
       "      <td>NICOLAUS DAMASCENUS</td>\n",
       "      <td>Ὅτι Περιάνδρῳ τῷ τυράννῳ Κορινθίων γηραιῷ ἤδη ...</td>\n",
       "      <td>[ὅτι, περιάνδρῳ, τῷ, τυράννῳ, κορινθίων, γηραι...</td>\n",
       "      <td>[ὅστις, περίανδρος, ὁ, τύραννος, κορίνθιος, γη...</td>\n",
       "      <td>0.518519</td>\n",
       "      <td>[]</td>\n",
       "      <td>0</td>\n",
       "      <td>324</td>\n",
       "      <td>0.000000</td>\n",
       "    </tr>\n",
       "    <tr>\n",
       "      <th>634</th>\n",
       "      <td>APOLLODORUS</td>\n",
       "      <td>Σελευκὶς ὅτι ἀπὸ Σλεύκου βασιλέως τὴν προσηγορ...</td>\n",
       "      <td>[σελευκὶς, ,, ὅτι, ἀπὸ, σλεύκου, βασιλέως, τὴν...</td>\n",
       "      <td>[σελευκὶς, ,, ὅστις, ἀπὸ, σλεύκου, βασιλίς, τὴ...</td>\n",
       "      <td>0.857143</td>\n",
       "      <td>[]</td>\n",
       "      <td>0</td>\n",
       "      <td>28</td>\n",
       "      <td>0.000000</td>\n",
       "    </tr>\n",
       "  </tbody>\n",
       "</table>\n",
       "<p>496 rows × 9 columns</p>\n",
       "</div>"
      ],
      "text/plain": [
       "                    author                                               text  \\\n",
       "6781  POSIDONIUS APAMENSIS  Admiror autem etiam eos qui ei (Apioni) ejusmo...   \n",
       "1629             BARDESANE  Leges sunt in unaquaque regione vel regno ab  ...   \n",
       "2451  DEXIPPUS ATHENIENSIS  Cordus dixit uxorem eum (Gordianum juniorem) n...   \n",
       "6619            PHYLARCHUS  «De cratera autem (coelesti nimirum) hanc hist...   \n",
       "5563   NICOLAUS DAMASCENUS  Quia vero Antiochus (Epiphanes) neque justam f...   \n",
       "...                    ...                                                ...   \n",
       "2466  DEXIPPUS ATHENIENSIS  «.. καὶ καρτερίᾳ οἱ πόλεμοι μᾶλλον ἢ πλήθει κρ...   \n",
       "6810  POSIDONIUS APAMENSIS  Ὁ δ ̓ Ἀλέξανδρος (sc. Bala) προσηνὴς ἦν ἐν πᾶσ...   \n",
       "5217    MENANDER PROTECTOR  Ὅτι ἠγγέλθη Ἰουστίνῳ ὡς ἐκ τῆς Περσῶν ἐπικρατε...   \n",
       "5549   NICOLAUS DAMASCENUS  Ὅτι Περιάνδρῳ τῷ τυράννῳ Κορινθίων γηραιῷ ἤδη ...   \n",
       "634            APOLLODORUS  Σελευκὶς ὅτι ἀπὸ Σλεύκου βασιλέως τὴν προσηγορ...   \n",
       "\n",
       "                                                  words  \\\n",
       "6781  [admiror, autem, etiam, eos, qui, ei, (, apion...   \n",
       "1629  [leges, sunt, in, unaquaque, regione, vel, reg...   \n",
       "2451  [cordus, dixit, uxorem, eum, (, gordianum, jun...   \n",
       "6619  [«, de, cratera, autem, (, coelesti, nimirum, ...   \n",
       "5563  [quia, vero, antiochus, (, epiphanes, ), neque...   \n",
       "...                                                 ...   \n",
       "2466  [«, .., καὶ, καρτερίᾳ, οἱ, πόλεμοι, μᾶλλον, ἢ,...   \n",
       "6810  [ὁ, δ, ̓, ἀλέξανδρος, (, sc, ., bala, ), προση...   \n",
       "5217  [ὅτι, ἠγγέλθη, ἰουστίνῳ, ,, ὡς, ἐκ, τῆς, περσῶ...   \n",
       "5549  [ὅτι, περιάνδρῳ, τῷ, τυράννῳ, κορινθίων, γηραι...   \n",
       "634   [σελευκὶς, ,, ὅτι, ἀπὸ, σλεύκου, βασιλέως, τὴν...   \n",
       "\n",
       "                                                lemmata  lexical_density  \\\n",
       "6781  [admiror, autem, etiam, eos, qui, ei, (, apion...         0.771186   \n",
       "1629  [leges, sunt, in, unaquaque, regione, vel, reg...         0.474695   \n",
       "2451  [cordus, dixit, uxorem, eum, (, gordianum, jun...         0.942857   \n",
       "6619  [«, de, cratera, autem, (, coelesti, nimirum, ...         0.682274   \n",
       "5563  [quia, vero, antiochus, (, epiphanes, ), neque...         0.839506   \n",
       "...                                                 ...              ...   \n",
       "2466  [«, .., καὶ, καρτερία, ὁ, πόλεμος, μᾶλλον, ἢ, ...         0.450954   \n",
       "6810  [ὁ, δ, ̓, ἀλέξανδρος, (, sc, ., bala, ), προση...         0.406751   \n",
       "5217  [ὅστις, ἀγγέλλω, ἰουστῖνος, ,, ὡς, ἐκ, ὁ, πέρ...         0.361484   \n",
       "5549  [ὅστις, περίανδρος, ὁ, τύραννος, κορίνθιος, γη...         0.518519   \n",
       "634   [σελευκὶς, ,, ὅστις, ἀπὸ, σλεύκου, βασιλίς, τὴ...         0.857143   \n",
       "\n",
       "                                       latin_word_index  latin_word_count_  \\\n",
       "6781  [0, 1, 2, 3, 4, 5, 7, 9, 10, 11, 13, 14, 15, 1...                102   \n",
       "1629  [0, 1, 2, 3, 4, 5, 6, 7, 8, 9, 11, 12, 11, 14,...               1474   \n",
       "2451  [0, 1, 2, 3, 5, 6, 8, 9, 10, 12, 13, 14, 15, 1...                 30   \n",
       "6619  [1, 2, 3, 5, 6, 8, 9, 10, 11, 13, 14, 16, 17, ...                255   \n",
       "5563  [0, 1, 2, 4, 6, 7, 8, 9, 10, 11, 12, 13, 14, 1...                 69   \n",
       "...                                                 ...                ...   \n",
       "2466                                              [642]                  1   \n",
       "6810                                             [5, 7]                  2   \n",
       "5217                                             [1237]                  1   \n",
       "5549                                                 []                  0   \n",
       "634                                                  []                  0   \n",
       "\n",
       "      total_words_in_fragment  latin_word_freq  \n",
       "6781                      118         0.864407  \n",
       "1629                     1719         0.857475  \n",
       "2451                       35         0.857143  \n",
       "6619                      299         0.852843  \n",
       "5563                       81         0.851852  \n",
       "...                       ...              ...  \n",
       "2466                      734         0.001362  \n",
       "6810                     1748         0.001144  \n",
       "5217                     1267         0.000789  \n",
       "5549                      324         0.000000  \n",
       "634                        28         0.000000  \n",
       "\n",
       "[496 rows x 9 columns]"
      ]
     },
     "execution_count": 439,
     "metadata": {},
     "output_type": "execute_result"
    }
   ],
   "source": [
    "latin_index.sort_values('latin_word_freq',ascending = False)"
   ]
  },
  {
   "cell_type": "code",
   "execution_count": 443,
   "metadata": {},
   "outputs": [
    {
     "name": "stderr",
     "output_type": "stream",
     "text": [
      "/Users/aleedom/anaconda3/lib/python3.7/site-packages/ipykernel_launcher.py:1: SettingWithCopyWarning: \n",
      "A value is trying to be set on a copy of a slice from a DataFrame.\n",
      "Try using .loc[row_indexer,col_indexer] = value instead\n",
      "\n",
      "See the caveats in the documentation: http://pandas.pydata.org/pandas-docs/stable/user_guide/indexing.html#returning-a-view-versus-a-copy\n",
      "  \"\"\"Entry point for launching an IPython kernel.\n"
     ]
    }
   ],
   "source": [
    "latin_index['word_sum'] = latin_index['total_words_in_fragment'].cumsum()"
   ]
  },
  {
   "cell_type": "code",
   "execution_count": 461,
   "metadata": {},
   "outputs": [
    {
     "data": {
      "text/plain": [
       "<matplotlib.axes._subplots.AxesSubplot at 0x1a4f18a358>"
      ]
     },
     "execution_count": 461,
     "metadata": {},
     "output_type": "execute_result"
    },
    {
     "data": {
      "image/png": "[encoded data removed]",
      "text/plain": [
       "<Figure size 432x288 with 1 Axes>"
      ]
     },
     "metadata": {
      "needs_background": "light"
     },
     "output_type": "display_data"
    }
   ],
   "source": [
    "latin_index.latin_word_count_.value_counts(ascending = False)[:10].plot(kind = 'bar')"
   ]
  },
  {
   "cell_type": "code",
   "execution_count": 470,
   "metadata": {},
   "outputs": [],
   "source": [
    "plt.style.use('ggplot')"
   ]
  },
  {
   "cell_type": "code",
   "execution_count": 476,
   "metadata": {},
   "outputs": [
    {
     "data": {
      "text/html": [
       "<div>\n",
       "<style scoped>\n",
       "    .dataframe tbody tr th:only-of-type {\n",
       "        vertical-align: middle;\n",
       "    }\n",
       "\n",
       "    .dataframe tbody tr th {\n",
       "        vertical-align: top;\n",
       "    }\n",
       "\n",
       "    .dataframe thead th {\n",
       "        text-align: right;\n",
       "    }\n",
       "</style>\n",
       "<table border=\"1\" class=\"dataframe\">\n",
       "  <thead>\n",
       "    <tr style=\"text-align: right;\">\n",
       "      <th></th>\n",
       "      <th>author</th>\n",
       "      <th>text</th>\n",
       "      <th>words</th>\n",
       "      <th>lemmata</th>\n",
       "      <th>lexical_density</th>\n",
       "      <th>latin_word_index</th>\n",
       "      <th>latin_word_count_</th>\n",
       "      <th>total_words_in_fragment</th>\n",
       "      <th>latin_word_freq</th>\n",
       "      <th>word_sum</th>\n",
       "    </tr>\n",
       "  </thead>\n",
       "  <tbody>\n",
       "    <tr>\n",
       "      <th>1629</th>\n",
       "      <td>BARDESANE</td>\n",
       "      <td>Leges sunt in unaquaque regione vel regno ab  ...</td>\n",
       "      <td>[leges, sunt, in, unaquaque, regione, vel, reg...</td>\n",
       "      <td>[leges, sunt, in, unaquaque, regione, vel, reg...</td>\n",
       "      <td>0.474695</td>\n",
       "      <td>[0, 1, 2, 3, 4, 5, 6, 7, 8, 9, 11, 12, 11, 14,...</td>\n",
       "      <td>1474</td>\n",
       "      <td>1719</td>\n",
       "      <td>0.857475</td>\n",
       "      <td>11025</td>\n",
       "    </tr>\n",
       "    <tr>\n",
       "      <th>6753</th>\n",
       "      <td>PORPHYRIUS TYRIUS</td>\n",
       "      <td>THESSALORUM REGES. 1. Thessali et Epirotoe diu...</td>\n",
       "      <td>[thessalorum, reges, ., 1, ., thessali, et, ep...</td>\n",
       "      <td>[thessalorum, reges, ., 1, ., thessali, et, ep...</td>\n",
       "      <td>0.348577</td>\n",
       "      <td>[0, 1, 5, 6, 7, 8, 9, 10, 11, 12, 13, 16, 17, ...</td>\n",
       "      <td>573</td>\n",
       "      <td>984</td>\n",
       "      <td>0.582317</td>\n",
       "      <td>60053</td>\n",
       "    </tr>\n",
       "    <tr>\n",
       "      <th>1661</th>\n",
       "      <td>BEROSUS CHALDAEUS</td>\n",
       "      <td>Ejusdem Alexandri de Senecheribo deque Nabuch...</td>\n",
       "      <td>[ejusdem, alexandri, de, senecheribo, deque, n...</td>\n",
       "      <td>[ejusdem, alexandri, de, senecheribo, deque, n...</td>\n",
       "      <td>0.571429</td>\n",
       "      <td>[0, 1, 2, 3, 4, 5, 6, 7, 8, 9, 10, 11, 13, 14,...</td>\n",
       "      <td>565</td>\n",
       "      <td>714</td>\n",
       "      <td>0.791317</td>\n",
       "      <td>13159</td>\n",
       "    </tr>\n",
       "    <tr>\n",
       "      <th>6756</th>\n",
       "      <td>PORPHYRIUS TYRIUS</td>\n",
       "      <td>5. Successit filius Antiochus ex Apame (1) Per...</td>\n",
       "      <td>[5, ., successit, filius, antiochus, ex, apame...</td>\n",
       "      <td>[5, ., successit, filius, antiochus, ex, apame...</td>\n",
       "      <td>0.475871</td>\n",
       "      <td>[2, 3, 4, 5, 6, 10, 12, 13, 14, 16, 17, 20, 21...</td>\n",
       "      <td>553</td>\n",
       "      <td>746</td>\n",
       "      <td>0.741287</td>\n",
       "      <td>60799</td>\n",
       "    </tr>\n",
       "    <tr>\n",
       "      <th>1763</th>\n",
       "      <td>CEPHALION</td>\n",
       "      <td>Cephalionis Historici De Begno Assyriorum. — «...</td>\n",
       "      <td>[cephalionis, historici, de, begno, assyriorum...</td>\n",
       "      <td>[cephalionis, historici, de, begno, assyriorum...</td>\n",
       "      <td>0.636986</td>\n",
       "      <td>[0, 1, 2, 3, 4, 8, 9, 10, 12, 13, 14, 15, 17, ...</td>\n",
       "      <td>460</td>\n",
       "      <td>584</td>\n",
       "      <td>0.787671</td>\n",
       "      <td>14942</td>\n",
       "    </tr>\n",
       "    <tr>\n",
       "      <th>...</th>\n",
       "      <td>...</td>\n",
       "      <td>...</td>\n",
       "      <td>...</td>\n",
       "      <td>...</td>\n",
       "      <td>...</td>\n",
       "      <td>...</td>\n",
       "      <td>...</td>\n",
       "      <td>...</td>\n",
       "      <td>...</td>\n",
       "      <td>...</td>\n",
       "    </tr>\n",
       "    <tr>\n",
       "      <th>1949</th>\n",
       "      <td>CLEARCHUS SOLENSIS</td>\n",
       "      <td>Παροιμία ἐστὶν ἐπὶ τῶν μηδενὸς ἀξίων φησὶ δὲ ὁ...</td>\n",
       "      <td>[παροιμία, ἐστὶν, ἐπὶ, τῶν, μηδενὸς, ἀξίων·, φ...</td>\n",
       "      <td>[παροιμία, ἐστὶν, ἐπὶ, ὁ, μηδενὸς, ἀξίων·, φησ...</td>\n",
       "      <td>0.897436</td>\n",
       "      <td>[12]</td>\n",
       "      <td>1</td>\n",
       "      <td>39</td>\n",
       "      <td>0.025641</td>\n",
       "      <td>15795</td>\n",
       "    </tr>\n",
       "    <tr>\n",
       "      <th>1581</th>\n",
       "      <td>ATHANAS SYRACUSANUS</td>\n",
       "      <td>Τοιοῦτοί τινές εἰσιν ... πολλῶν ὀνομάτων ποιητ...</td>\n",
       "      <td>[τοιοῦτοί, τινές, εἰσιν, ..., πολλῶν, ὀνομάτων...</td>\n",
       "      <td>[τοιοῦτοί, τις, εἰμί, ..., πολύς, ὄνομα, ποιητ...</td>\n",
       "      <td>0.670732</td>\n",
       "      <td>[60]</td>\n",
       "      <td>1</td>\n",
       "      <td>82</td>\n",
       "      <td>0.012195</td>\n",
       "      <td>9272</td>\n",
       "    </tr>\n",
       "    <tr>\n",
       "      <th>5843</th>\n",
       "      <td>PHANIAS ERESIUS</td>\n",
       "      <td>Κίτριον. Φάνης (sic) ὁ Ἐρέσιος ἔννοιαν ἡμῖν δί...</td>\n",
       "      <td>[κίτριον, ., φάνης, (, sic, ), ὁ, ἐρέσιος, ἔνν...</td>\n",
       "      <td>[κίτριον, ., φαίνω, (, sic, ), ὁ, ἐρέσιος, ἔνν...</td>\n",
       "      <td>0.761905</td>\n",
       "      <td>[4]</td>\n",
       "      <td>1</td>\n",
       "      <td>42</td>\n",
       "      <td>0.023810</td>\n",
       "      <td>49620</td>\n",
       "    </tr>\n",
       "    <tr>\n",
       "      <th>634</th>\n",
       "      <td>APOLLODORUS</td>\n",
       "      <td>Σελευκὶς ὅτι ἀπὸ Σλεύκου βασιλέως τὴν προσηγορ...</td>\n",
       "      <td>[σελευκὶς, ,, ὅτι, ἀπὸ, σλεύκου, βασιλέως, τὴν...</td>\n",
       "      <td>[σελευκὶς, ,, ὅστις, ἀπὸ, σλεύκου, βασιλίς, τὴ...</td>\n",
       "      <td>0.857143</td>\n",
       "      <td>[]</td>\n",
       "      <td>0</td>\n",
       "      <td>28</td>\n",
       "      <td>0.000000</td>\n",
       "      <td>4849</td>\n",
       "    </tr>\n",
       "    <tr>\n",
       "      <th>5549</th>\n",
       "      <td>NICOLAUS DAMASCENUS</td>\n",
       "      <td>Ὅτι Περιάνδρῳ τῷ τυράννῳ Κορινθίων γηραιῷ ἤδη ...</td>\n",
       "      <td>[ὅτι, περιάνδρῳ, τῷ, τυράννῳ, κορινθίων, γηραι...</td>\n",
       "      <td>[ὅστις, περίανδρος, ὁ, τύραννος, κορίνθιος, γη...</td>\n",
       "      <td>0.518519</td>\n",
       "      <td>[]</td>\n",
       "      <td>0</td>\n",
       "      <td>324</td>\n",
       "      <td>0.000000</td>\n",
       "      <td>48524</td>\n",
       "    </tr>\n",
       "  </tbody>\n",
       "</table>\n",
       "<p>496 rows × 10 columns</p>\n",
       "</div>"
      ],
      "text/plain": [
       "                   author                                               text  \\\n",
       "1629            BARDESANE  Leges sunt in unaquaque regione vel regno ab  ...   \n",
       "6753    PORPHYRIUS TYRIUS  THESSALORUM REGES. 1. Thessali et Epirotoe diu...   \n",
       "1661    BEROSUS CHALDAEUS   Ejusdem Alexandri de Senecheribo deque Nabuch...   \n",
       "6756    PORPHYRIUS TYRIUS  5. Successit filius Antiochus ex Apame (1) Per...   \n",
       "1763            CEPHALION  Cephalionis Historici De Begno Assyriorum. — «...   \n",
       "...                   ...                                                ...   \n",
       "1949   CLEARCHUS SOLENSIS  Παροιμία ἐστὶν ἐπὶ τῶν μηδενὸς ἀξίων φησὶ δὲ ὁ...   \n",
       "1581  ATHANAS SYRACUSANUS  Τοιοῦτοί τινές εἰσιν ... πολλῶν ὀνομάτων ποιητ...   \n",
       "5843      PHANIAS ERESIUS  Κίτριον. Φάνης (sic) ὁ Ἐρέσιος ἔννοιαν ἡμῖν δί...   \n",
       "634           APOLLODORUS  Σελευκὶς ὅτι ἀπὸ Σλεύκου βασιλέως τὴν προσηγορ...   \n",
       "5549  NICOLAUS DAMASCENUS  Ὅτι Περιάνδρῳ τῷ τυράννῳ Κορινθίων γηραιῷ ἤδη ...   \n",
       "\n",
       "                                                  words  \\\n",
       "1629  [leges, sunt, in, unaquaque, regione, vel, reg...   \n",
       "6753  [thessalorum, reges, ., 1, ., thessali, et, ep...   \n",
       "1661  [ejusdem, alexandri, de, senecheribo, deque, n...   \n",
       "6756  [5, ., successit, filius, antiochus, ex, apame...   \n",
       "1763  [cephalionis, historici, de, begno, assyriorum...   \n",
       "...                                                 ...   \n",
       "1949  [παροιμία, ἐστὶν, ἐπὶ, τῶν, μηδενὸς, ἀξίων·, φ...   \n",
       "1581  [τοιοῦτοί, τινές, εἰσιν, ..., πολλῶν, ὀνομάτων...   \n",
       "5843  [κίτριον, ., φάνης, (, sic, ), ὁ, ἐρέσιος, ἔνν...   \n",
       "634   [σελευκὶς, ,, ὅτι, ἀπὸ, σλεύκου, βασιλέως, τὴν...   \n",
       "5549  [ὅτι, περιάνδρῳ, τῷ, τυράννῳ, κορινθίων, γηραι...   \n",
       "\n",
       "                                                lemmata  lexical_density  \\\n",
       "1629  [leges, sunt, in, unaquaque, regione, vel, reg...         0.474695   \n",
       "6753  [thessalorum, reges, ., 1, ., thessali, et, ep...         0.348577   \n",
       "1661  [ejusdem, alexandri, de, senecheribo, deque, n...         0.571429   \n",
       "6756  [5, ., successit, filius, antiochus, ex, apame...         0.475871   \n",
       "1763  [cephalionis, historici, de, begno, assyriorum...         0.636986   \n",
       "...                                                 ...              ...   \n",
       "1949  [παροιμία, ἐστὶν, ἐπὶ, ὁ, μηδενὸς, ἀξίων·, φησ...         0.897436   \n",
       "1581  [τοιοῦτοί, τις, εἰμί, ..., πολύς, ὄνομα, ποιητ...         0.670732   \n",
       "5843  [κίτριον, ., φαίνω, (, sic, ), ὁ, ἐρέσιος, ἔνν...         0.761905   \n",
       "634   [σελευκὶς, ,, ὅστις, ἀπὸ, σλεύκου, βασιλίς, τὴ...         0.857143   \n",
       "5549  [ὅστις, περίανδρος, ὁ, τύραννος, κορίνθιος, γη...         0.518519   \n",
       "\n",
       "                                       latin_word_index  latin_word_count_  \\\n",
       "1629  [0, 1, 2, 3, 4, 5, 6, 7, 8, 9, 11, 12, 11, 14,...               1474   \n",
       "6753  [0, 1, 5, 6, 7, 8, 9, 10, 11, 12, 13, 16, 17, ...                573   \n",
       "1661  [0, 1, 2, 3, 4, 5, 6, 7, 8, 9, 10, 11, 13, 14,...                565   \n",
       "6756  [2, 3, 4, 5, 6, 10, 12, 13, 14, 16, 17, 20, 21...                553   \n",
       "1763  [0, 1, 2, 3, 4, 8, 9, 10, 12, 13, 14, 15, 17, ...                460   \n",
       "...                                                 ...                ...   \n",
       "1949                                               [12]                  1   \n",
       "1581                                               [60]                  1   \n",
       "5843                                                [4]                  1   \n",
       "634                                                  []                  0   \n",
       "5549                                                 []                  0   \n",
       "\n",
       "      total_words_in_fragment  latin_word_freq  word_sum  \n",
       "1629                     1719         0.857475     11025  \n",
       "6753                      984         0.582317     60053  \n",
       "1661                      714         0.791317     13159  \n",
       "6756                      746         0.741287     60799  \n",
       "1763                      584         0.787671     14942  \n",
       "...                       ...              ...       ...  \n",
       "1949                       39         0.025641     15795  \n",
       "1581                       82         0.012195      9272  \n",
       "5843                       42         0.023810     49620  \n",
       "634                        28         0.000000      4849  \n",
       "5549                      324         0.000000     48524  \n",
       "\n",
       "[496 rows x 10 columns]"
      ]
     },
     "execution_count": 476,
     "metadata": {},
     "output_type": "execute_result"
    }
   ],
   "source": [
    "latin_index.sort_values('latin_word_count_',ascending = False)"
   ]
  },
  {
   "cell_type": "code",
   "execution_count": 475,
   "metadata": {},
   "outputs": [
    {
     "data": {
      "text/plain": [
       "<matplotlib.axes._subplots.AxesSubplot at 0x1a4fc4e908>"
      ]
     },
     "execution_count": 475,
     "metadata": {},
     "output_type": "execute_result"
    },
    {
     "data": {
      "image/png": "[encoded data removed]",
      "text/plain": [
       "<Figure size 432x288 with 1 Axes>"
      ]
     },
     "metadata": {},
     "output_type": "display_data"
    }
   ],
   "source": [
    "latin_index.sort_values('latin_word_count_',ascending = False)['latin_word_count_'][:10].plot(kind = 'bar', alpha = .75, legend = True)\n",
    "latin_index.sort_values('latin_word_count_', ascending = False)['latin_word_freq'][:10].plot(kind = 'bar', color = 'blue')"
   ]
  },
  {
   "cell_type": "markdown",
   "metadata": {},
   "source": [
    "## Our goal is to minimize the number of words we filter while maximizing the number of Latin words we filter \n",
    "\n",
    "- That means that we'll focus on high Latin frequency passages, with a preference for fewer words \n",
    "\n",
    "- This suggests we should filter twice: once for frquency, and another for unique words (I think the word counts are already done on lemmas) "
   ]
  },
  {
   "cell_type": "code",
   "execution_count": 483,
   "metadata": {},
   "outputs": [],
   "source": [
    "df = latin_index.sort_values(by = ['latin_word_freq',\"total_words_in_fragment\"], ascending = False)"
   ]
  },
  {
   "cell_type": "code",
   "execution_count": 508,
   "metadata": {},
   "outputs": [
    {
     "data": {
      "text/plain": [
       "80783"
      ]
     },
     "execution_count": 508,
     "metadata": {},
     "output_type": "execute_result"
    }
   ],
   "source": [
    "df['total_words_in_fragment'].sum()"
   ]
  },
  {
   "cell_type": "code",
   "execution_count": 509,
   "metadata": {},
   "outputs": [
    {
     "data": {
      "text/plain": [
       "1.0"
      ]
     },
     "execution_count": 509,
     "metadata": {},
     "output_type": "execute_result"
    }
   ],
   "source": [
    "df.cum_pct.max()"
   ]
  },
  {
   "cell_type": "code",
   "execution_count": 484,
   "metadata": {},
   "outputs": [],
   "source": [
    "df['word_sum'] = df.copy()['total_words_in_fragment']"
   ]
  },
  {
   "cell_type": "code",
   "execution_count": 491,
   "metadata": {},
   "outputs": [],
   "source": [
    "df['cum_pct'] = df['word_sum'] / df.total_words_in_fragment.sum()"
   ]
  },
  {
   "cell_type": "code",
   "execution_count": 511,
   "metadata": {},
   "outputs": [
    {
     "data": {
      "text/html": [
       "<div>\n",
       "<style scoped>\n",
       "    .dataframe tbody tr th:only-of-type {\n",
       "        vertical-align: middle;\n",
       "    }\n",
       "\n",
       "    .dataframe tbody tr th {\n",
       "        vertical-align: top;\n",
       "    }\n",
       "\n",
       "    .dataframe thead th {\n",
       "        text-align: right;\n",
       "    }\n",
       "</style>\n",
       "<table border=\"1\" class=\"dataframe\">\n",
       "  <thead>\n",
       "    <tr style=\"text-align: right;\">\n",
       "      <th></th>\n",
       "      <th>author</th>\n",
       "      <th>text</th>\n",
       "      <th>words</th>\n",
       "      <th>lemmata</th>\n",
       "      <th>lexical_density</th>\n",
       "      <th>latin_word_index</th>\n",
       "      <th>latin_word_count_</th>\n",
       "      <th>total_words_in_fragment</th>\n",
       "      <th>latin_word_freq</th>\n",
       "      <th>word_sum</th>\n",
       "      <th>cum_pct</th>\n",
       "    </tr>\n",
       "  </thead>\n",
       "  <tbody>\n",
       "    <tr>\n",
       "      <th>2466</th>\n",
       "      <td>DEXIPPUS ATHENIENSIS</td>\n",
       "      <td>«.. καὶ καρτερίᾳ οἱ πόλεμοι μᾶλλον ἢ πλήθει κρ...</td>\n",
       "      <td>[«, .., καὶ, καρτερίᾳ, οἱ, πόλεμοι, μᾶλλον, ἢ,...</td>\n",
       "      <td>[«, .., καὶ, καρτερία, ὁ, πόλεμος, μᾶλλον, ἢ, ...</td>\n",
       "      <td>0.450954</td>\n",
       "      <td>[642]</td>\n",
       "      <td>1</td>\n",
       "      <td>734</td>\n",
       "      <td>0.001362</td>\n",
       "      <td>77416</td>\n",
       "      <td>0.958320</td>\n",
       "    </tr>\n",
       "    <tr>\n",
       "      <th>6810</th>\n",
       "      <td>POSIDONIUS APAMENSIS</td>\n",
       "      <td>Ὁ δ ̓ Ἀλέξανδρος (sc. Bala) προσηνὴς ἦν ἐν πᾶσ...</td>\n",
       "      <td>[ὁ, δ, ̓, ἀλέξανδρος, (, sc, ., bala, ), προση...</td>\n",
       "      <td>[ὁ, δ, ̓, ἀλέξανδρος, (, sc, ., bala, ), προση...</td>\n",
       "      <td>0.406751</td>\n",
       "      <td>[5, 7]</td>\n",
       "      <td>2</td>\n",
       "      <td>1748</td>\n",
       "      <td>0.001144</td>\n",
       "      <td>79164</td>\n",
       "      <td>0.979959</td>\n",
       "    </tr>\n",
       "    <tr>\n",
       "      <th>5217</th>\n",
       "      <td>MENANDER PROTECTOR</td>\n",
       "      <td>Ὅτι ἠγγέλθη Ἰουστίνῳ ὡς ἐκ τῆς Περσῶν ἐπικρατε...</td>\n",
       "      <td>[ὅτι, ἠγγέλθη, ἰουστίνῳ, ,, ὡς, ἐκ, τῆς, περσῶ...</td>\n",
       "      <td>[ὅστις, ἀγγέλλω, ἰουστῖνος, ,, ὡς, ἐκ, ὁ, πέρ...</td>\n",
       "      <td>0.361484</td>\n",
       "      <td>[1237]</td>\n",
       "      <td>1</td>\n",
       "      <td>1267</td>\n",
       "      <td>0.000789</td>\n",
       "      <td>80431</td>\n",
       "      <td>0.995643</td>\n",
       "    </tr>\n",
       "    <tr>\n",
       "      <th>5549</th>\n",
       "      <td>NICOLAUS DAMASCENUS</td>\n",
       "      <td>Ὅτι Περιάνδρῳ τῷ τυράννῳ Κορινθίων γηραιῷ ἤδη ...</td>\n",
       "      <td>[ὅτι, περιάνδρῳ, τῷ, τυράννῳ, κορινθίων, γηραι...</td>\n",
       "      <td>[ὅστις, περίανδρος, ὁ, τύραννος, κορίνθιος, γη...</td>\n",
       "      <td>0.518519</td>\n",
       "      <td>[]</td>\n",
       "      <td>0</td>\n",
       "      <td>324</td>\n",
       "      <td>0.000000</td>\n",
       "      <td>80755</td>\n",
       "      <td>0.999653</td>\n",
       "    </tr>\n",
       "    <tr>\n",
       "      <th>634</th>\n",
       "      <td>APOLLODORUS</td>\n",
       "      <td>Σελευκὶς ὅτι ἀπὸ Σλεύκου βασιλέως τὴν προσηγορ...</td>\n",
       "      <td>[σελευκὶς, ,, ὅτι, ἀπὸ, σλεύκου, βασιλέως, τὴν...</td>\n",
       "      <td>[σελευκὶς, ,, ὅστις, ἀπὸ, σλεύκου, βασιλίς, τὴ...</td>\n",
       "      <td>0.857143</td>\n",
       "      <td>[]</td>\n",
       "      <td>0</td>\n",
       "      <td>28</td>\n",
       "      <td>0.000000</td>\n",
       "      <td>80783</td>\n",
       "      <td>1.000000</td>\n",
       "    </tr>\n",
       "  </tbody>\n",
       "</table>\n",
       "</div>"
      ],
      "text/plain": [
       "                    author                                               text  \\\n",
       "2466  DEXIPPUS ATHENIENSIS  «.. καὶ καρτερίᾳ οἱ πόλεμοι μᾶλλον ἢ πλήθει κρ...   \n",
       "6810  POSIDONIUS APAMENSIS  Ὁ δ ̓ Ἀλέξανδρος (sc. Bala) προσηνὴς ἦν ἐν πᾶσ...   \n",
       "5217    MENANDER PROTECTOR  Ὅτι ἠγγέλθη Ἰουστίνῳ ὡς ἐκ τῆς Περσῶν ἐπικρατε...   \n",
       "5549   NICOLAUS DAMASCENUS  Ὅτι Περιάνδρῳ τῷ τυράννῳ Κορινθίων γηραιῷ ἤδη ...   \n",
       "634            APOLLODORUS  Σελευκὶς ὅτι ἀπὸ Σλεύκου βασιλέως τὴν προσηγορ...   \n",
       "\n",
       "                                                  words  \\\n",
       "2466  [«, .., καὶ, καρτερίᾳ, οἱ, πόλεμοι, μᾶλλον, ἢ,...   \n",
       "6810  [ὁ, δ, ̓, ἀλέξανδρος, (, sc, ., bala, ), προση...   \n",
       "5217  [ὅτι, ἠγγέλθη, ἰουστίνῳ, ,, ὡς, ἐκ, τῆς, περσῶ...   \n",
       "5549  [ὅτι, περιάνδρῳ, τῷ, τυράννῳ, κορινθίων, γηραι...   \n",
       "634   [σελευκὶς, ,, ὅτι, ἀπὸ, σλεύκου, βασιλέως, τὴν...   \n",
       "\n",
       "                                                lemmata  lexical_density  \\\n",
       "2466  [«, .., καὶ, καρτερία, ὁ, πόλεμος, μᾶλλον, ἢ, ...         0.450954   \n",
       "6810  [ὁ, δ, ̓, ἀλέξανδρος, (, sc, ., bala, ), προση...         0.406751   \n",
       "5217  [ὅστις, ἀγγέλλω, ἰουστῖνος, ,, ὡς, ἐκ, ὁ, πέρ...         0.361484   \n",
       "5549  [ὅστις, περίανδρος, ὁ, τύραννος, κορίνθιος, γη...         0.518519   \n",
       "634   [σελευκὶς, ,, ὅστις, ἀπὸ, σλεύκου, βασιλίς, τὴ...         0.857143   \n",
       "\n",
       "     latin_word_index  latin_word_count_  total_words_in_fragment  \\\n",
       "2466            [642]                  1                      734   \n",
       "6810           [5, 7]                  2                     1748   \n",
       "5217           [1237]                  1                     1267   \n",
       "5549               []                  0                      324   \n",
       "634                []                  0                       28   \n",
       "\n",
       "      latin_word_freq  word_sum   cum_pct  \n",
       "2466         0.001362     77416  0.958320  \n",
       "6810         0.001144     79164  0.979959  \n",
       "5217         0.000789     80431  0.995643  \n",
       "5549         0.000000     80755  0.999653  \n",
       "634          0.000000     80783  1.000000  "
      ]
     },
     "execution_count": 511,
     "metadata": {},
     "output_type": "execute_result"
    }
   ],
   "source": [
    "df.tail()"
   ]
  },
  {
   "cell_type": "code",
   "execution_count": 517,
   "metadata": {},
   "outputs": [
    {
     "data": {
      "text/plain": [
       "<matplotlib.axes._subplots.AxesSubplot at 0x1a523722e8>"
      ]
     },
     "execution_count": 517,
     "metadata": {},
     "output_type": "execute_result"
    },
    {
     "data": {
      "image/png": "[encoded data removed]",
      "text/plain": [
       "<Figure size 432x288 with 2 Axes>"
      ]
     },
     "metadata": {},
     "output_type": "display_data"
    }
   ],
   "source": [
    "fig = plt.figure() # Create matplotlib figure\n",
    "\n",
    "ax = fig.add_subplot(111) # Create matplotlib axes\n",
    "ax2 = ax.twinx() \n",
    "\n",
    "df.reset_index()['cum_pct'].plot(ax = ax)\n",
    "df.reset_index()['word_sum'].plot(ax = ax2)"
   ]
  },
  {
   "cell_type": "code",
   "execution_count": 522,
   "metadata": {},
   "outputs": [
    {
     "data": {
      "text/plain": [
       "<matplotlib.axes._subplots.AxesSubplot at 0x1a522ec208>"
      ]
     },
     "execution_count": 522,
     "metadata": {},
     "output_type": "execute_result"
    },
    {
     "data": {
      "image/png": "[encoded data removed]",
      "text/plain": [
       "<Figure size 432x288 with 1 Axes>"
      ]
     },
     "metadata": {},
     "output_type": "display_data"
    }
   ],
   "source": [
    "df.reset_index().latin_word_freq.sort_values(ascending = False).plot()"
   ]
  },
  {
   "cell_type": "code",
   "execution_count": 524,
   "metadata": {},
   "outputs": [
    {
     "data": {
      "text/plain": [
       "6172    Τὴν τῶν ὅλων ἀρχὴν ὑποτίθεται ἀέρα ζοφώδη καὶ ...\n",
       "7830    Φησὶ δ ̓ αὐτὸν (Empedoclem) καὶ Ἀριστοτέλης ἐλ...\n",
       "6752    Ἡ Μακεδονικὴ βασιλεία ἀπὸ τῶν Πορφυρίου ρίου τ...\n",
       "11      Εὗρον δὲ καὶ ἐν τῇ Ἀβυδηνοῦ Περὶ Ἀσσυρίων γραφ...\n",
       "7383    Συνακμάσαι δὲ αὐτὸς ἑαυτὸν λέγει (Theopompus) ...\n",
       "5419    Οἱ δὲ Πελασγοὶ πολλῆς καὶ ἀγαθῆς χώρας (in Ita...\n",
       "303     περὶ δὲ τῆς κτίσεως (Tarenti) λέγων Ἀντίοχος φ...\n",
       "73      Κυψελιδῶν ἀνάθημα ἐν Ὀλυμπίᾳ Πλάτων ἐν Φαίδρῳ ...\n",
       "7805    Ἀλλ ̓ ὅμως οὐκ ὤκνησα καὶ λέγειν καὶ γράφειν ὅ...\n",
       "2745    Πρίαμος δὲ παρὰ τῷ ποιητῇ καὶ ὀνειδίζει τοῖς υ...\n",
       "4949    Ὅτι ὁ Βαλαμήρου ὑπὸ τῶν Ῥωμαίων στρατηγῶν πολλ...\n",
       "3828    Εἶναι δέ φασι καὶ τάφους ἐνταῦθα (Thebis) τῶν ...\n",
       "4589    Ὅτι ὁ Γάῖος μιαρώτατός τις καὶ ἀνοσιώτατος ἐγέ...\n",
       "6895    Ὅτι τοῦ Χρυσαφίου τοῦ εὐνούχου παραινέσαντος Ἐ...\n",
       "7083    Αἰγύπτιοι γοῦν πρῶτοι ἀστρολογίαν εἰς ἀνθρώπου...\n",
       "2466    «.. καὶ καρτερίᾳ οἱ πόλεμοι μᾶλλον ἢ πλήθει κρ...\n",
       "6810    Ὁ δ ̓ Ἀλέξανδρος (sc. Bala) προσηνὴς ἦν ἐν πᾶσ...\n",
       "5217    Ὅτι ἠγγέλθη Ἰουστίνῳ ὡς ἐκ τῆς Περσῶν ἐπικρατε...\n",
       "5549    Ὅτι Περιάνδρῳ τῷ τυράννῳ Κορινθίων γηραιῷ ἤδη ...\n",
       "634     Σελευκὶς ὅτι ἀπὸ Σλεύκου βασιλέως τὴν προσηγορ...\n",
       "Name: text, dtype: object"
      ]
     },
     "execution_count": 524,
     "metadata": {},
     "output_type": "execute_result"
    }
   ],
   "source": [
    "df.tail(20)['text']"
   ]
  },
  {
   "cell_type": "markdown",
   "metadata": {},
   "source": [
    "### We can see that there's a major dropoff here -- the difference is clear if we look at the texts: There are those that are written primarily in Latin, and represent quotations or summaries of other authors, and those in Greek with marginalia\n",
    "\n",
    "- We should keep the latter and jettison the former \n",
    "- To do so we'll identify some heuristic based on the word counts -- we need to establish the 'area under the curve' of the chart above "
   ]
  },
  {
   "cell_type": "code",
   "execution_count": 525,
   "metadata": {},
   "outputs": [],
   "source": [
    "### "
   ]
  },
  {
   "cell_type": "code",
   "execution_count": 526,
   "metadata": {},
   "outputs": [
    {
     "data": {
      "text/html": [
       "<div>\n",
       "<style scoped>\n",
       "    .dataframe tbody tr th:only-of-type {\n",
       "        vertical-align: middle;\n",
       "    }\n",
       "\n",
       "    .dataframe tbody tr th {\n",
       "        vertical-align: top;\n",
       "    }\n",
       "\n",
       "    .dataframe thead th {\n",
       "        text-align: right;\n",
       "    }\n",
       "</style>\n",
       "<table border=\"1\" class=\"dataframe\">\n",
       "  <thead>\n",
       "    <tr style=\"text-align: right;\">\n",
       "      <th></th>\n",
       "      <th>author</th>\n",
       "      <th>text</th>\n",
       "      <th>words</th>\n",
       "      <th>lemmata</th>\n",
       "      <th>lexical_density</th>\n",
       "      <th>latin_word_index</th>\n",
       "      <th>latin_word_count_</th>\n",
       "      <th>total_words_in_fragment</th>\n",
       "      <th>latin_word_freq</th>\n",
       "      <th>word_sum</th>\n",
       "      <th>cum_pct</th>\n",
       "    </tr>\n",
       "  </thead>\n",
       "  <tbody>\n",
       "    <tr>\n",
       "      <th>6781</th>\n",
       "      <td>POSIDONIUS APAMENSIS</td>\n",
       "      <td>Admiror autem etiam eos qui ei (Apioni) ejusmo...</td>\n",
       "      <td>[admiror, autem, etiam, eos, qui, ei, (, apion...</td>\n",
       "      <td>[admiror, autem, etiam, eos, qui, ei, (, apion...</td>\n",
       "      <td>0.771186</td>\n",
       "      <td>[0, 1, 2, 3, 4, 5, 7, 9, 10, 11, 13, 14, 15, 1...</td>\n",
       "      <td>102</td>\n",
       "      <td>118</td>\n",
       "      <td>0.864407</td>\n",
       "      <td>118</td>\n",
       "      <td>0.001461</td>\n",
       "    </tr>\n",
       "  </tbody>\n",
       "</table>\n",
       "</div>"
      ],
      "text/plain": [
       "                    author                                               text  \\\n",
       "6781  POSIDONIUS APAMENSIS  Admiror autem etiam eos qui ei (Apioni) ejusmo...   \n",
       "\n",
       "                                                  words  \\\n",
       "6781  [admiror, autem, etiam, eos, qui, ei, (, apion...   \n",
       "\n",
       "                                                lemmata  lexical_density  \\\n",
       "6781  [admiror, autem, etiam, eos, qui, ei, (, apion...         0.771186   \n",
       "\n",
       "                                       latin_word_index  latin_word_count_  \\\n",
       "6781  [0, 1, 2, 3, 4, 5, 7, 9, 10, 11, 13, 14, 15, 1...                102   \n",
       "\n",
       "      total_words_in_fragment  latin_word_freq  word_sum   cum_pct  \n",
       "6781                      118         0.864407       118  0.001461  "
      ]
     },
     "execution_count": 526,
     "metadata": {},
     "output_type": "execute_result"
    }
   ],
   "source": [
    "df.head(1)"
   ]
  },
  {
   "cell_type": "code",
   "execution_count": 530,
   "metadata": {},
   "outputs": [],
   "source": [
    "df = df.reset_index()"
   ]
  },
  {
   "cell_type": "code",
   "execution_count": 533,
   "metadata": {},
   "outputs": [],
   "source": [
    "import seaborn as sns "
   ]
  },
  {
   "cell_type": "code",
   "execution_count": 532,
   "metadata": {},
   "outputs": [
    {
     "data": {
      "image/png": "[encoded data removed]",
      "text/plain": [
       "<Figure size 432x288 with 2 Axes>"
      ]
     },
     "metadata": {},
     "output_type": "display_data"
    }
   ],
   "source": [
    "from matplotlib.ticker import PercentFormatter\n",
    "\n",
    "\n",
    "fig, ax = plt.subplots() # make plots\n",
    "ax.bar(df.index, df[\"total_words_in_fragment\"], color=\"C0\")\n",
    "ax2 = ax.twinx()\n",
    "ax2.plot(df.index, df[\"cum_pct\"], color=\"C1\", ms=7)\n",
    "ax2.yaxis.set_major_formatter(PercentFormatter())\n",
    "\n",
    "ax.tick_params(axis=\"y\", colors=\"C0\")\n",
    "ax2.tick_params(axis=\"y\", colors=\"C1\")\n",
    "plt.show()\n"
   ]
  },
  {
   "cell_type": "code",
   "execution_count": 548,
   "metadata": {},
   "outputs": [
    {
     "data": {
      "text/html": [
       "<div>\n",
       "<style scoped>\n",
       "    .dataframe tbody tr th:only-of-type {\n",
       "        vertical-align: middle;\n",
       "    }\n",
       "\n",
       "    .dataframe tbody tr th {\n",
       "        vertical-align: top;\n",
       "    }\n",
       "\n",
       "    .dataframe thead th {\n",
       "        text-align: right;\n",
       "    }\n",
       "</style>\n",
       "<table border=\"1\" class=\"dataframe\">\n",
       "  <thead>\n",
       "    <tr style=\"text-align: right;\">\n",
       "      <th></th>\n",
       "      <th>index</th>\n",
       "      <th>author</th>\n",
       "      <th>text</th>\n",
       "      <th>words</th>\n",
       "      <th>lemmata</th>\n",
       "      <th>lexical_density</th>\n",
       "      <th>latin_word_index</th>\n",
       "      <th>latin_word_count_</th>\n",
       "      <th>total_words_in_fragment</th>\n",
       "      <th>latin_word_freq</th>\n",
       "      <th>word_sum</th>\n",
       "      <th>cum_pct</th>\n",
       "    </tr>\n",
       "  </thead>\n",
       "  <tbody>\n",
       "    <tr>\n",
       "      <th>0</th>\n",
       "      <td>6781</td>\n",
       "      <td>POSIDONIUS APAMENSIS</td>\n",
       "      <td>Admiror autem etiam eos qui ei (Apioni) ejusmo...</td>\n",
       "      <td>[admiror, autem, etiam, eos, qui, ei, (, apion...</td>\n",
       "      <td>[admiror, autem, etiam, eos, qui, ei, (, apion...</td>\n",
       "      <td>0.771186</td>\n",
       "      <td>[0, 1, 2, 3, 4, 5, 7, 9, 10, 11, 13, 14, 15, 1...</td>\n",
       "      <td>102</td>\n",
       "      <td>118</td>\n",
       "      <td>0.864407</td>\n",
       "      <td>118</td>\n",
       "      <td>0.001461</td>\n",
       "    </tr>\n",
       "    <tr>\n",
       "      <th>1</th>\n",
       "      <td>1629</td>\n",
       "      <td>BARDESANE</td>\n",
       "      <td>Leges sunt in unaquaque regione vel regno ab  ...</td>\n",
       "      <td>[leges, sunt, in, unaquaque, regione, vel, reg...</td>\n",
       "      <td>[leges, sunt, in, unaquaque, regione, vel, reg...</td>\n",
       "      <td>0.474695</td>\n",
       "      <td>[0, 1, 2, 3, 4, 5, 6, 7, 8, 9, 11, 12, 11, 14,...</td>\n",
       "      <td>1474</td>\n",
       "      <td>1719</td>\n",
       "      <td>0.857475</td>\n",
       "      <td>1837</td>\n",
       "      <td>0.022740</td>\n",
       "    </tr>\n",
       "    <tr>\n",
       "      <th>2</th>\n",
       "      <td>2451</td>\n",
       "      <td>DEXIPPUS ATHENIENSIS</td>\n",
       "      <td>Cordus dixit uxorem eum (Gordianum juniorem) n...</td>\n",
       "      <td>[cordus, dixit, uxorem, eum, (, gordianum, jun...</td>\n",
       "      <td>[cordus, dixit, uxorem, eum, (, gordianum, jun...</td>\n",
       "      <td>0.942857</td>\n",
       "      <td>[0, 1, 2, 3, 5, 6, 8, 9, 10, 12, 13, 14, 15, 1...</td>\n",
       "      <td>30</td>\n",
       "      <td>35</td>\n",
       "      <td>0.857143</td>\n",
       "      <td>1872</td>\n",
       "      <td>0.023173</td>\n",
       "    </tr>\n",
       "    <tr>\n",
       "      <th>3</th>\n",
       "      <td>6619</td>\n",
       "      <td>PHYLARCHUS</td>\n",
       "      <td>«De cratera autem (coelesti nimirum) hanc hist...</td>\n",
       "      <td>[«, de, cratera, autem, (, coelesti, nimirum, ...</td>\n",
       "      <td>[«, de, cratera, autem, (, coelesti, nimirum, ...</td>\n",
       "      <td>0.682274</td>\n",
       "      <td>[1, 2, 3, 5, 6, 8, 9, 10, 11, 13, 14, 16, 17, ...</td>\n",
       "      <td>255</td>\n",
       "      <td>299</td>\n",
       "      <td>0.852843</td>\n",
       "      <td>2171</td>\n",
       "      <td>0.026874</td>\n",
       "    </tr>\n",
       "    <tr>\n",
       "      <th>4</th>\n",
       "      <td>5563</td>\n",
       "      <td>NICOLAUS DAMASCENUS</td>\n",
       "      <td>Quia vero Antiochus (Epiphanes) neque justam f...</td>\n",
       "      <td>[quia, vero, antiochus, (, epiphanes, ), neque...</td>\n",
       "      <td>[quia, vero, antiochus, (, epiphanes, ), neque...</td>\n",
       "      <td>0.839506</td>\n",
       "      <td>[0, 1, 2, 4, 6, 7, 8, 9, 10, 11, 12, 13, 14, 1...</td>\n",
       "      <td>69</td>\n",
       "      <td>81</td>\n",
       "      <td>0.851852</td>\n",
       "      <td>2252</td>\n",
       "      <td>0.027877</td>\n",
       "    </tr>\n",
       "    <tr>\n",
       "      <th>...</th>\n",
       "      <td>...</td>\n",
       "      <td>...</td>\n",
       "      <td>...</td>\n",
       "      <td>...</td>\n",
       "      <td>...</td>\n",
       "      <td>...</td>\n",
       "      <td>...</td>\n",
       "      <td>...</td>\n",
       "      <td>...</td>\n",
       "      <td>...</td>\n",
       "      <td>...</td>\n",
       "      <td>...</td>\n",
       "    </tr>\n",
       "    <tr>\n",
       "      <th>102</th>\n",
       "      <td>3412</td>\n",
       "      <td>HADRIANUS CAESAR</td>\n",
       "      <td>Nigrini insidias quas ille sacrificanti Adrian...</td>\n",
       "      <td>[nigrini, insidias, ,, quas, ille, sacrificant...</td>\n",
       "      <td>[nigrini, insidias, ,, quas, ille, sacrificant...</td>\n",
       "      <td>0.789474</td>\n",
       "      <td>[0, 1, 3, 4, 5, 6, 8, 9, 10, 11, 12, 13, 15, 1...</td>\n",
       "      <td>43</td>\n",
       "      <td>57</td>\n",
       "      <td>0.754386</td>\n",
       "      <td>13303</td>\n",
       "      <td>0.164676</td>\n",
       "    </tr>\n",
       "    <tr>\n",
       "      <th>103</th>\n",
       "      <td>1877</td>\n",
       "      <td>CLAUDIUS EUSTHENES</td>\n",
       "      <td>Hic trium principum finis fuit Cari Numeriani ...</td>\n",
       "      <td>[hic, trium, principum, finis, fuit, ,, cari, ...</td>\n",
       "      <td>[hic, trium, principum, finis, fuit, ,, cari, ...</td>\n",
       "      <td>0.854167</td>\n",
       "      <td>[0, 1, 2, 3, 4, 6, 8, 9, 10, 12, 13, 14, 9, 16...</td>\n",
       "      <td>36</td>\n",
       "      <td>48</td>\n",
       "      <td>0.750000</td>\n",
       "      <td>13351</td>\n",
       "      <td>0.165270</td>\n",
       "    </tr>\n",
       "    <tr>\n",
       "      <th>104</th>\n",
       "      <td>2044</td>\n",
       "      <td>CNAEUS AUFIDIUS</td>\n",
       "      <td>Aufidius sane in Epitomis et Domitius lib. I (...</td>\n",
       "      <td>[aufidius, sane, in, epitomis, et, domitius, l...</td>\n",
       "      <td>[aufidius, sane, in, epitomis, et, domitius, l...</td>\n",
       "      <td>0.875000</td>\n",
       "      <td>[0, 1, 2, 3, 4, 5, 6, 10, 11, 13, 14, 15, 17, ...</td>\n",
       "      <td>24</td>\n",
       "      <td>32</td>\n",
       "      <td>0.750000</td>\n",
       "      <td>13383</td>\n",
       "      <td>0.165666</td>\n",
       "    </tr>\n",
       "    <tr>\n",
       "      <th>105</th>\n",
       "      <td>351</td>\n",
       "      <td>APION OASITA</td>\n",
       "      <td>Anacampserotem (sc. herbam magicam dicit) cele...</td>\n",
       "      <td>[anacampserotem, (, sc, ., herbam, magicam, di...</td>\n",
       "      <td>[anacampserotem, (, sc, ., herbam, magicam, di...</td>\n",
       "      <td>0.892857</td>\n",
       "      <td>[0, 2, 4, 5, 6, 8, 9, 10, 11, 12, 14, 15, 18, ...</td>\n",
       "      <td>21</td>\n",
       "      <td>28</td>\n",
       "      <td>0.750000</td>\n",
       "      <td>13411</td>\n",
       "      <td>0.166013</td>\n",
       "    </tr>\n",
       "    <tr>\n",
       "      <th>106</th>\n",
       "      <td>4782</td>\n",
       "      <td>JUBA MAURITANUS</td>\n",
       "      <td>Proedam ipsi (elephanti) in se expetendam sciu...</td>\n",
       "      <td>[proedam, ipsi, (, elephanti, ), in, se, expet...</td>\n",
       "      <td>[proedam, ipsi, (, elephanti, ), in, se, expet...</td>\n",
       "      <td>0.916667</td>\n",
       "      <td>[0, 1, 3, 5, 6, 7, 8, 9, 10, 5, 12, 13, 15, 16...</td>\n",
       "      <td>18</td>\n",
       "      <td>24</td>\n",
       "      <td>0.750000</td>\n",
       "      <td>13435</td>\n",
       "      <td>0.166310</td>\n",
       "    </tr>\n",
       "  </tbody>\n",
       "</table>\n",
       "<p>107 rows × 12 columns</p>\n",
       "</div>"
      ],
      "text/plain": [
       "     index                author  \\\n",
       "0     6781  POSIDONIUS APAMENSIS   \n",
       "1     1629             BARDESANE   \n",
       "2     2451  DEXIPPUS ATHENIENSIS   \n",
       "3     6619            PHYLARCHUS   \n",
       "4     5563   NICOLAUS DAMASCENUS   \n",
       "..     ...                   ...   \n",
       "102   3412      HADRIANUS CAESAR   \n",
       "103   1877    CLAUDIUS EUSTHENES   \n",
       "104   2044       CNAEUS AUFIDIUS   \n",
       "105    351          APION OASITA   \n",
       "106   4782       JUBA MAURITANUS   \n",
       "\n",
       "                                                  text  \\\n",
       "0    Admiror autem etiam eos qui ei (Apioni) ejusmo...   \n",
       "1    Leges sunt in unaquaque regione vel regno ab  ...   \n",
       "2    Cordus dixit uxorem eum (Gordianum juniorem) n...   \n",
       "3    «De cratera autem (coelesti nimirum) hanc hist...   \n",
       "4    Quia vero Antiochus (Epiphanes) neque justam f...   \n",
       "..                                                 ...   \n",
       "102  Nigrini insidias quas ille sacrificanti Adrian...   \n",
       "103  Hic trium principum finis fuit Cari Numeriani ...   \n",
       "104  Aufidius sane in Epitomis et Domitius lib. I (...   \n",
       "105  Anacampserotem (sc. herbam magicam dicit) cele...   \n",
       "106  Proedam ipsi (elephanti) in se expetendam sciu...   \n",
       "\n",
       "                                                 words  \\\n",
       "0    [admiror, autem, etiam, eos, qui, ei, (, apion...   \n",
       "1    [leges, sunt, in, unaquaque, regione, vel, reg...   \n",
       "2    [cordus, dixit, uxorem, eum, (, gordianum, jun...   \n",
       "3    [«, de, cratera, autem, (, coelesti, nimirum, ...   \n",
       "4    [quia, vero, antiochus, (, epiphanes, ), neque...   \n",
       "..                                                 ...   \n",
       "102  [nigrini, insidias, ,, quas, ille, sacrificant...   \n",
       "103  [hic, trium, principum, finis, fuit, ,, cari, ...   \n",
       "104  [aufidius, sane, in, epitomis, et, domitius, l...   \n",
       "105  [anacampserotem, (, sc, ., herbam, magicam, di...   \n",
       "106  [proedam, ipsi, (, elephanti, ), in, se, expet...   \n",
       "\n",
       "                                               lemmata  lexical_density  \\\n",
       "0    [admiror, autem, etiam, eos, qui, ei, (, apion...         0.771186   \n",
       "1    [leges, sunt, in, unaquaque, regione, vel, reg...         0.474695   \n",
       "2    [cordus, dixit, uxorem, eum, (, gordianum, jun...         0.942857   \n",
       "3    [«, de, cratera, autem, (, coelesti, nimirum, ...         0.682274   \n",
       "4    [quia, vero, antiochus, (, epiphanes, ), neque...         0.839506   \n",
       "..                                                 ...              ...   \n",
       "102  [nigrini, insidias, ,, quas, ille, sacrificant...         0.789474   \n",
       "103  [hic, trium, principum, finis, fuit, ,, cari, ...         0.854167   \n",
       "104  [aufidius, sane, in, epitomis, et, domitius, l...         0.875000   \n",
       "105  [anacampserotem, (, sc, ., herbam, magicam, di...         0.892857   \n",
       "106  [proedam, ipsi, (, elephanti, ), in, se, expet...         0.916667   \n",
       "\n",
       "                                      latin_word_index  latin_word_count_  \\\n",
       "0    [0, 1, 2, 3, 4, 5, 7, 9, 10, 11, 13, 14, 15, 1...                102   \n",
       "1    [0, 1, 2, 3, 4, 5, 6, 7, 8, 9, 11, 12, 11, 14,...               1474   \n",
       "2    [0, 1, 2, 3, 5, 6, 8, 9, 10, 12, 13, 14, 15, 1...                 30   \n",
       "3    [1, 2, 3, 5, 6, 8, 9, 10, 11, 13, 14, 16, 17, ...                255   \n",
       "4    [0, 1, 2, 4, 6, 7, 8, 9, 10, 11, 12, 13, 14, 1...                 69   \n",
       "..                                                 ...                ...   \n",
       "102  [0, 1, 3, 4, 5, 6, 8, 9, 10, 11, 12, 13, 15, 1...                 43   \n",
       "103  [0, 1, 2, 3, 4, 6, 8, 9, 10, 12, 13, 14, 9, 16...                 36   \n",
       "104  [0, 1, 2, 3, 4, 5, 6, 10, 11, 13, 14, 15, 17, ...                 24   \n",
       "105  [0, 2, 4, 5, 6, 8, 9, 10, 11, 12, 14, 15, 18, ...                 21   \n",
       "106  [0, 1, 3, 5, 6, 7, 8, 9, 10, 5, 12, 13, 15, 16...                 18   \n",
       "\n",
       "     total_words_in_fragment  latin_word_freq  word_sum   cum_pct  \n",
       "0                        118         0.864407       118  0.001461  \n",
       "1                       1719         0.857475      1837  0.022740  \n",
       "2                         35         0.857143      1872  0.023173  \n",
       "3                        299         0.852843      2171  0.026874  \n",
       "4                         81         0.851852      2252  0.027877  \n",
       "..                       ...              ...       ...       ...  \n",
       "102                       57         0.754386     13303  0.164676  \n",
       "103                       48         0.750000     13351  0.165270  \n",
       "104                       32         0.750000     13383  0.165666  \n",
       "105                       28         0.750000     13411  0.166013  \n",
       "106                       24         0.750000     13435  0.166310  \n",
       "\n",
       "[107 rows x 12 columns]"
      ]
     },
     "execution_count": 548,
     "metadata": {},
     "output_type": "execute_result"
    }
   ],
   "source": [
    "df.loc[df['latin_word_freq'] >= .75]"
   ]
  },
  {
   "cell_type": "code",
   "execution_count": 549,
   "metadata": {},
   "outputs": [],
   "source": [
    "indicies = sorted(df['latin_word_index'], reverse=True)"
   ]
  },
  {
   "cell_type": "code",
   "execution_count": 551,
   "metadata": {},
   "outputs": [],
   "source": [
    "df['non_latin_words'] = df['total_words_in_fragment'] - df['latin_word_count_']"
   ]
  },
  {
   "cell_type": "code",
   "execution_count": 569,
   "metadata": {},
   "outputs": [],
   "source": [
    "df['greek_pct'] = 1- df['latin_word_freq']"
   ]
  },
  {
   "cell_type": "code",
   "execution_count": 749,
   "metadata": {},
   "outputs": [
    {
     "name": "stderr",
     "output_type": "stream",
     "text": [
      "/Users/aleedom/anaconda3/lib/python3.7/site-packages/ipykernel_launcher.py:1: FutureWarning: `Series.plot()` should not be called with positional arguments, only keyword arguments. The order of positional arguments will change in the future. Use `Series.plot(kind='hist')` instead of `Series.plot('hist',)`.\n",
      "  \"\"\"Entry point for launching an IPython kernel.\n"
     ]
    },
    {
     "data": {
      "text/plain": [
       "<matplotlib.axes._subplots.AxesSubplot at 0x1a5e894cf8>"
      ]
     },
     "execution_count": 749,
     "metadata": {},
     "output_type": "execute_result"
    },
    {
     "data": {
      "image/png": "[encoded data removed]",
      "text/plain": [
       "<Figure size 432x288 with 1 Axes>"
      ]
     },
     "metadata": {},
     "output_type": "display_data"
    }
   ],
   "source": [
    "df.total_words_in_fragment.plot('hist', bins = 30)"
   ]
  },
  {
   "cell_type": "code",
   "execution_count": 583,
   "metadata": {},
   "outputs": [],
   "source": [
    "mask = df['latin_word_freq'] >= .45"
   ]
  },
  {
   "cell_type": "code",
   "execution_count": 588,
   "metadata": {},
   "outputs": [
    {
     "data": {
      "text/plain": [
       "'«Peloponnesias civitates omnes maritimas esse hominis non nequam sed etiam tuo judicio probati Dicoearchi tabulis (fabulis conj. Fuhr.) credidi. Is enim multis nominibus in Trophoniana Choeronis (Charonis var. l.) narratione Groecos in eo reprehendit quod mare tam secuti sunt nec ullum in Peloponneso locum excipit. Quum mihi auctor placeret (etenim erat ἱστορικώτατος et vixerat in Peloponneso) admirabar tamen; et vix accredens communicavi cum Dionysio. Atque is primo est commotus deinde quod tum de isto Dicoearcho non minus bene existimabat quam tu de C. Vestorio ego de M. Cluverio non dubitabat quin ei crederemus. Arcadioe censebat esse Lepreon quoddam maritimum; Tenea autem et Aliphera et Tritia νεόκτιστα ei videbantur; idque τῷ τῶν νεῶν καταλόγῳ confirmabat ubi meatio non fit istorum. Atque istum ego locum totidem verbis a Dicoearcho transtuli.»'"
      ]
     },
     "execution_count": 588,
     "metadata": {},
     "output_type": "execute_result"
    }
   ],
   "source": [
    "df[mask].sort_values('non_latin_words', ascending = False)['text'][100]"
   ]
  },
  {
   "cell_type": "code",
   "execution_count": 654,
   "metadata": {},
   "outputs": [],
   "source": [
    "final_df = author_df.drop(df['index'])"
   ]
  },
  {
   "cell_type": "code",
   "execution_count": 663,
   "metadata": {},
   "outputs": [],
   "source": [
    "final_df['latin_word_index'] = final_df['words'].apply(find_latin_index)\n",
    "final_df['latin_word_count'] = final_df['latin_word_index'].apply(lambda x: len(x))"
   ]
  },
  {
   "cell_type": "code",
   "execution_count": 656,
   "metadata": {},
   "outputs": [],
   "source": [
    "final_df['non_latin_words'] = final_df.apply(lambda x: len(x['words']) - x['latin_word_count'], 1)"
   ]
  },
  {
   "cell_type": "code",
   "execution_count": 657,
   "metadata": {},
   "outputs": [],
   "source": [
    "final_df['words'] = [word for word in final_df['words'] if word not in punct]"
   ]
  },
  {
   "cell_type": "code",
   "execution_count": 658,
   "metadata": {},
   "outputs": [],
   "source": [
    "def clean_punct(text): \n",
    "    text = [word for word in text if word not in punct]\n",
    "    return text"
   ]
  },
  {
   "cell_type": "code",
   "execution_count": 659,
   "metadata": {},
   "outputs": [],
   "source": [
    "final_df['lemmata'] = final_df['lemmata'].apply(clean_punct)"
   ]
  },
  {
   "cell_type": "code",
   "execution_count": 684,
   "metadata": {},
   "outputs": [],
   "source": [
    "for index, row in final_df.iterrows(): \n",
    "    indicies = row['latin_word_index']\n",
    "    for index in sorted(indicies, reverse = True): \n",
    "        del row['words'][index]\n",
    "    "
   ]
  },
  {
   "cell_type": "code",
   "execution_count": 671,
   "metadata": {},
   "outputs": [],
   "source": [
    "final_df = final_df.drop(final_df[final_df['latin_word_count'] != 0].index) "
   ]
  },
  {
   "cell_type": "code",
   "execution_count": 674,
   "metadata": {},
   "outputs": [],
   "source": [
    "final_df.drop(1, inplace = True)"
   ]
  },
  {
   "cell_type": "code",
   "execution_count": 677,
   "metadata": {},
   "outputs": [],
   "source": [
    "final_df.drop(12, inplace = True)"
   ]
  },
  {
   "cell_type": "code",
   "execution_count": 683,
   "metadata": {},
   "outputs": [
    {
     "data": {
      "text/plain": [
       "'Δευτέρα (quod ad tempus per quod stetit) δὲ περὶ Κόρινθον ἡ τῶν Κυψελιδῶν (sc. τυραννίς) καὶ γὰρ αὕτη διετέλεσεν ἔτη τρία [ἑπτὰ Sylb.; ἓξ Müller. Aegin. p. 64 Dor. I 163] καὶ ἑβδομήκοντα καὶ ἓξ μῆνας. Κύψελος μὲν γὰρ ἐτυράννησεν ἔτη τριάκοντα Περίανδρος δὲ τετταράκοντα καὶ τέτταρα. Ψαμμήτιχος δ ̓ ὁ Γορδίου τρία ἕτη. Τὰ δ ̓ αἴτια ταυτὰ καὶ ταύτης ὁ μὲν γὲρ Κύψελος δημαγωγὸς ἦν καὶ κατὰ τὴ ἀρχὴν διετέλεσεν ἀδορυφόρητος Περίανδρος δ ̓ ἐγένετο μὲν τυραννικὸς ἀλλὰ πολεμικός.'"
      ]
     },
     "execution_count": 683,
     "metadata": {},
     "output_type": "execute_result"
    }
   ],
   "source": [
    "df.loc[232]['text']"
   ]
  },
  {
   "cell_type": "code",
   "execution_count": 774,
   "metadata": {},
   "outputs": [],
   "source": [
    "df = df.drop(df.loc[df['word_count'] == 0].index)"
   ]
  },
  {
   "cell_type": "code",
   "execution_count": 689,
   "metadata": {},
   "outputs": [],
   "source": [
    "final_df.to_csv('./outputs/final_df.csv')"
   ]
  },
  {
   "cell_type": "code",
   "execution_count": 706,
   "metadata": {},
   "outputs": [],
   "source": [
    "final_df['lemmata'] = final_df['words'].apply(lemmatize)\n",
    "\n",
    "final_df['lexical_density'] = final_df.apply(lambda x: len(set(x['lemmata'])) / len(x['lemmata']), 1)"
   ]
  },
  {
   "cell_type": "code",
   "execution_count": 716,
   "metadata": {},
   "outputs": [
    {
     "data": {
      "text/plain": [
       "<matplotlib.axes._subplots.AxesSubplot at 0x1a5dffa128>"
      ]
     },
     "execution_count": 716,
     "metadata": {},
     "output_type": "execute_result"
    },
    {
     "data": {
      "image/png": "[encoded data removed]",
      "text/plain": [
       "<Figure size 432x288 with 1 Axes>"
      ]
     },
     "metadata": {},
     "output_type": "display_data"
    }
   ],
   "source": [
    "final_df['lexical_density'].plot(kind = 'hist', bins = 100, alpha = .5, legend = True, grid = True)"
   ]
  },
  {
   "cell_type": "code",
   "execution_count": 717,
   "metadata": {},
   "outputs": [
    {
     "data": {
      "text/html": [
       "<div>\n",
       "<style scoped>\n",
       "    .dataframe tbody tr th:only-of-type {\n",
       "        vertical-align: middle;\n",
       "    }\n",
       "\n",
       "    .dataframe tbody tr th {\n",
       "        vertical-align: top;\n",
       "    }\n",
       "\n",
       "    .dataframe thead th {\n",
       "        text-align: right;\n",
       "    }\n",
       "</style>\n",
       "<table border=\"1\" class=\"dataframe\">\n",
       "  <thead>\n",
       "    <tr style=\"text-align: right;\">\n",
       "      <th></th>\n",
       "      <th>author</th>\n",
       "      <th>text</th>\n",
       "      <th>words</th>\n",
       "      <th>lemmata</th>\n",
       "      <th>lexical_density</th>\n",
       "      <th>latin_word_index</th>\n",
       "      <th>latin_word_count</th>\n",
       "      <th>non_latin_words</th>\n",
       "      <th>len_lemmata</th>\n",
       "    </tr>\n",
       "  </thead>\n",
       "  <tbody>\n",
       "    <tr>\n",
       "      <th>0</th>\n",
       "      <td>ABAS</td>\n",
       "      <td>Ἡ Κανδαύλου γυνὴ ἧς Ἡρόδοτος οὐ λέγει τοὔνομα ...</td>\n",
       "      <td>[ἡ, κανδαύλου, γυνὴ, ,, ἧς, ἡρόδοτος, οὐ, λέγε...</td>\n",
       "      <td>[ὁ, κανδαύλης, γυνὴ, ,, ὅς, ἡρόδοτος, οὐ, λέγ...</td>\n",
       "      <td>0.666667</td>\n",
       "      <td>[]</td>\n",
       "      <td>0</td>\n",
       "      <td>96</td>\n",
       "      <td>96</td>\n",
       "    </tr>\n",
       "    <tr>\n",
       "      <th>2</th>\n",
       "      <td>ABRON VEL HABRON BATIENSIS</td>\n",
       "      <td>Βατὴ δῆμος τῆς Αἰγηίδος φυλῆς ὅθεν ἦν Ἄβρων ὁ ...</td>\n",
       "      <td>[βατὴ, ,, δῆμος, τῆς, αἰγηίδος, φυλῆς, ,, ὅθεν...</td>\n",
       "      <td>[βατὴ, ,, δῆμος, ὁ, αἰγηίδος, φυλάζω, ,, ὅθεν...</td>\n",
       "      <td>0.809524</td>\n",
       "      <td>[]</td>\n",
       "      <td>0</td>\n",
       "      <td>21</td>\n",
       "      <td>21</td>\n",
       "    </tr>\n",
       "    <tr>\n",
       "      <th>3</th>\n",
       "      <td>ABYDENUS</td>\n",
       "      <td>Ἐκ τῶν Ἀβυδηνοῦ Περὶ τῆς τῶν Χαλδαίων βασιλεία...</td>\n",
       "      <td>[ἐκ, τῶν, ἀβυδηνοῦ, περὶ, τῆς, τῶν, χαλδαίων, ...</td>\n",
       "      <td>[ἐκ, ὁ, ἀβυδηνός, περὶ, ὁ, ὁ, χαλδαῖος, βασιλ...</td>\n",
       "      <td>0.534328</td>\n",
       "      <td>[]</td>\n",
       "      <td>0</td>\n",
       "      <td>335</td>\n",
       "      <td>335</td>\n",
       "    </tr>\n",
       "    <tr>\n",
       "      <th>7</th>\n",
       "      <td>ABYDENUS</td>\n",
       "      <td>ΑΒΥΔΗΝΟΥ. Ἐντὶ δ ̓ οἳ λέγουσι τοὺς πρώτους ἀνα...</td>\n",
       "      <td>[αβυδηνου, ., ἐντὶ, δ, ̓, οἳ, λέγουσι, τοὺς, π...</td>\n",
       "      <td>[αβυδηνου, ., ἐντὶ, δ, ̓, οἳ, λέγω1, τοὺς, πρό...</td>\n",
       "      <td>0.757143</td>\n",
       "      <td>[]</td>\n",
       "      <td>0</td>\n",
       "      <td>70</td>\n",
       "      <td>70</td>\n",
       "    </tr>\n",
       "    <tr>\n",
       "      <th>13</th>\n",
       "      <td>ABYDENUS</td>\n",
       "      <td>Μετὰ τοῦτον (sc. τὸν Ναβουχοδονόσωρ) υἱὸς αὐτο...</td>\n",
       "      <td>[μετὰ, τοῦτον, (, ., τὸν, ναβουχοδονόσωρ, ), υ...</td>\n",
       "      <td>[μετὰ, οὗτος, (, ., τὸν, ναβουχοδονόσωρ, ), υἱ...</td>\n",
       "      <td>0.777778</td>\n",
       "      <td>[]</td>\n",
       "      <td>0</td>\n",
       "      <td>45</td>\n",
       "      <td>45</td>\n",
       "    </tr>\n",
       "  </tbody>\n",
       "</table>\n",
       "</div>"
      ],
      "text/plain": [
       "                        author  \\\n",
       "0                         ABAS   \n",
       "2   ABRON VEL HABRON BATIENSIS   \n",
       "3                     ABYDENUS   \n",
       "7                     ABYDENUS   \n",
       "13                    ABYDENUS   \n",
       "\n",
       "                                                 text  \\\n",
       "0   Ἡ Κανδαύλου γυνὴ ἧς Ἡρόδοτος οὐ λέγει τοὔνομα ...   \n",
       "2   Βατὴ δῆμος τῆς Αἰγηίδος φυλῆς ὅθεν ἦν Ἄβρων ὁ ...   \n",
       "3   Ἐκ τῶν Ἀβυδηνοῦ Περὶ τῆς τῶν Χαλδαίων βασιλεία...   \n",
       "7   ΑΒΥΔΗΝΟΥ. Ἐντὶ δ ̓ οἳ λέγουσι τοὺς πρώτους ἀνα...   \n",
       "13  Μετὰ τοῦτον (sc. τὸν Ναβουχοδονόσωρ) υἱὸς αὐτο...   \n",
       "\n",
       "                                                words  \\\n",
       "0   [ἡ, κανδαύλου, γυνὴ, ,, ἧς, ἡρόδοτος, οὐ, λέγε...   \n",
       "2   [βατὴ, ,, δῆμος, τῆς, αἰγηίδος, φυλῆς, ,, ὅθεν...   \n",
       "3   [ἐκ, τῶν, ἀβυδηνοῦ, περὶ, τῆς, τῶν, χαλδαίων, ...   \n",
       "7   [αβυδηνου, ., ἐντὶ, δ, ̓, οἳ, λέγουσι, τοὺς, π...   \n",
       "13  [μετὰ, τοῦτον, (, ., τὸν, ναβουχοδονόσωρ, ), υ...   \n",
       "\n",
       "                                              lemmata  lexical_density  \\\n",
       "0   [ὁ, κανδαύλης, γυνὴ, ,, ὅς, ἡρόδοτος, οὐ, λέγ...         0.666667   \n",
       "2   [βατὴ, ,, δῆμος, ὁ, αἰγηίδος, φυλάζω, ,, ὅθεν...         0.809524   \n",
       "3   [ἐκ, ὁ, ἀβυδηνός, περὶ, ὁ, ὁ, χαλδαῖος, βασιλ...         0.534328   \n",
       "7   [αβυδηνου, ., ἐντὶ, δ, ̓, οἳ, λέγω1, τοὺς, πρό...         0.757143   \n",
       "13  [μετὰ, οὗτος, (, ., τὸν, ναβουχοδονόσωρ, ), υἱ...         0.777778   \n",
       "\n",
       "   latin_word_index  latin_word_count  non_latin_words  len_lemmata  \n",
       "0                []                 0               96           96  \n",
       "2                []                 0               21           21  \n",
       "3                []                 0              335          335  \n",
       "7                []                 0               70           70  \n",
       "13               []                 0               45           45  "
      ]
     },
     "execution_count": 717,
     "metadata": {},
     "output_type": "execute_result"
    }
   ],
   "source": [
    "final_df.head()"
   ]
  },
  {
   "cell_type": "code",
   "execution_count": 734,
   "metadata": {},
   "outputs": [],
   "source": [
    "def filter_punct(words): \n",
    "    out = [word for word in words if word not in punct]\n",
    "    out = [word for word in out if word not in stops]"
   ]
  },
  {
   "cell_type": "code",
   "execution_count": 735,
   "metadata": {},
   "outputs": [],
   "source": [
    "final_df['clean_lemmata'] = final_df['lemmata'].apply(clean_punct)"
   ]
  },
  {
   "cell_type": "code",
   "execution_count": 741,
   "metadata": {},
   "outputs": [],
   "source": [
    "final_df['clean_words'] = final_df['words'].apply(clean_punct)"
   ]
  },
  {
   "cell_type": "code",
   "execution_count": 742,
   "metadata": {},
   "outputs": [],
   "source": [
    "bins = [50 * x for x in range(10)]"
   ]
  },
  {
   "cell_type": "code",
   "execution_count": 752,
   "metadata": {},
   "outputs": [],
   "source": [
    "final_df['word_count'] = final_df['clean_words'].apply(lambda x: len(x))"
   ]
  },
  {
   "cell_type": "code",
   "execution_count": 759,
   "metadata": {},
   "outputs": [
    {
     "data": {
      "text/plain": [
       "<matplotlib.axes._subplots.AxesSubplot at 0x1a5f125c88>"
      ]
     },
     "execution_count": 759,
     "metadata": {},
     "output_type": "execute_result"
    },
    {
     "data": {
      "image/png": "[encoded data removed]",
      "text/plain": [
       "<Figure size 432x288 with 1 Axes>"
      ]
     },
     "metadata": {},
     "output_type": "display_data"
    }
   ],
   "source": [
    "final_df[final_df['word_count'] < 500].word_count.plot(kind = 'hist', bins = 100)"
   ]
  },
  {
   "cell_type": "code",
   "execution_count": 761,
   "metadata": {},
   "outputs": [],
   "source": [
    "final_df.to_csv('outputs/final_df_cleaned.csv')"
   ]
  },
  {
   "cell_type": "markdown",
   "metadata": {},
   "source": [
    "## Calculate Lexical Density"
   ]
  },
  {
   "cell_type": "code",
   "execution_count": 768,
   "metadata": {},
   "outputs": [
    {
     "data": {
      "text/html": [
       "<div>\n",
       "<style scoped>\n",
       "    .dataframe tbody tr th:only-of-type {\n",
       "        vertical-align: middle;\n",
       "    }\n",
       "\n",
       "    .dataframe tbody tr th {\n",
       "        vertical-align: top;\n",
       "    }\n",
       "\n",
       "    .dataframe thead th {\n",
       "        text-align: right;\n",
       "    }\n",
       "</style>\n",
       "<table border=\"1\" class=\"dataframe\">\n",
       "  <thead>\n",
       "    <tr style=\"text-align: right;\">\n",
       "      <th></th>\n",
       "      <th>author</th>\n",
       "      <th>text</th>\n",
       "      <th>words</th>\n",
       "      <th>lemmata</th>\n",
       "      <th>lexical_density</th>\n",
       "      <th>latin_word_index</th>\n",
       "      <th>latin_word_count</th>\n",
       "      <th>non_latin_words</th>\n",
       "      <th>len_lemmata</th>\n",
       "      <th>clean_lemmata</th>\n",
       "      <th>clean_words</th>\n",
       "      <th>word_count</th>\n",
       "    </tr>\n",
       "  </thead>\n",
       "  <tbody>\n",
       "    <tr>\n",
       "      <th>0</th>\n",
       "      <td>ABAS</td>\n",
       "      <td>Ἡ Κανδαύλου γυνὴ ἧς Ἡρόδοτος οὐ λέγει τοὔνομα ...</td>\n",
       "      <td>[ἡ, κανδαύλου, γυνὴ, ,, ἧς, ἡρόδοτος, οὐ, λέγε...</td>\n",
       "      <td>[ὁ, κανδαύλης, γυνὴ, ,, ὅς, ἡρόδοτος, οὐ, λέγ...</td>\n",
       "      <td>0.666667</td>\n",
       "      <td>[]</td>\n",
       "      <td>0</td>\n",
       "      <td>96</td>\n",
       "      <td>96</td>\n",
       "      <td>[ὁ, κανδαύλης, γυνὴ, ὅς, ἡρόδοτος, οὐ, λέγω1,...</td>\n",
       "      <td>[ἡ, κανδαύλου, γυνὴ, ἧς, ἡρόδοτος, οὐ, λέγει, ...</td>\n",
       "      <td>83</td>\n",
       "    </tr>\n",
       "    <tr>\n",
       "      <th>2</th>\n",
       "      <td>ABRON VEL HABRON BATIENSIS</td>\n",
       "      <td>Βατὴ δῆμος τῆς Αἰγηίδος φυλῆς ὅθεν ἦν Ἄβρων ὁ ...</td>\n",
       "      <td>[βατὴ, ,, δῆμος, τῆς, αἰγηίδος, φυλῆς, ,, ὅθεν...</td>\n",
       "      <td>[βατὴ, ,, δῆμος, ὁ, αἰγηίδος, φυλάζω, ,, ὅθεν...</td>\n",
       "      <td>0.809524</td>\n",
       "      <td>[]</td>\n",
       "      <td>0</td>\n",
       "      <td>21</td>\n",
       "      <td>21</td>\n",
       "      <td>[βατὴ, δῆμος, ὁ, αἰγηίδος, φυλάζω, ὅθεν, εἰμί...</td>\n",
       "      <td>[βατὴ, δῆμος, τῆς, αἰγηίδος, φυλῆς, ὅθεν, ἦν, ...</td>\n",
       "      <td>16</td>\n",
       "    </tr>\n",
       "    <tr>\n",
       "      <th>3</th>\n",
       "      <td>ABYDENUS</td>\n",
       "      <td>Ἐκ τῶν Ἀβυδηνοῦ Περὶ τῆς τῶν Χαλδαίων βασιλεία...</td>\n",
       "      <td>[ἐκ, τῶν, ἀβυδηνοῦ, περὶ, τῆς, τῶν, χαλδαίων, ...</td>\n",
       "      <td>[ἐκ, ὁ, ἀβυδηνός, περὶ, ὁ, ὁ, χαλδαῖος, βασιλ...</td>\n",
       "      <td>0.534328</td>\n",
       "      <td>[]</td>\n",
       "      <td>0</td>\n",
       "      <td>335</td>\n",
       "      <td>335</td>\n",
       "      <td>[ἐκ, ὁ, ἀβυδηνός, περὶ, ὁ, ὁ, χαλδαῖος, βασιλ...</td>\n",
       "      <td>[ἐκ, τῶν, ἀβυδηνοῦ, περὶ, τῆς, τῶν, χαλδαίων, ...</td>\n",
       "      <td>289</td>\n",
       "    </tr>\n",
       "    <tr>\n",
       "      <th>7</th>\n",
       "      <td>ABYDENUS</td>\n",
       "      <td>ΑΒΥΔΗΝΟΥ. Ἐντὶ δ ̓ οἳ λέγουσι τοὺς πρώτους ἀνα...</td>\n",
       "      <td>[αβυδηνου, ., ἐντὶ, δ, ̓, οἳ, λέγουσι, τοὺς, π...</td>\n",
       "      <td>[αβυδηνου, ., ἐντὶ, δ, ̓, οἳ, λέγω1, τοὺς, πρό...</td>\n",
       "      <td>0.757143</td>\n",
       "      <td>[]</td>\n",
       "      <td>0</td>\n",
       "      <td>70</td>\n",
       "      <td>70</td>\n",
       "      <td>[αβυδηνου, ἐντὶ, δ, ̓, οἳ, λέγω1, τοὺς, πρότερ...</td>\n",
       "      <td>[αβυδηνου, ἐντὶ, δ, ̓, οἳ, λέγουσι, τοὺς, πρώτ...</td>\n",
       "      <td>65</td>\n",
       "    </tr>\n",
       "    <tr>\n",
       "      <th>13</th>\n",
       "      <td>ABYDENUS</td>\n",
       "      <td>Μετὰ τοῦτον (sc. τὸν Ναβουχοδονόσωρ) υἱὸς αὐτο...</td>\n",
       "      <td>[μετὰ, τοῦτον, (, ., τὸν, ναβουχοδονόσωρ, ), υ...</td>\n",
       "      <td>[μετὰ, οὗτος, (, ., τὸν, ναβουχοδονόσωρ, ), υἱ...</td>\n",
       "      <td>0.777778</td>\n",
       "      <td>[]</td>\n",
       "      <td>0</td>\n",
       "      <td>45</td>\n",
       "      <td>45</td>\n",
       "      <td>[μετὰ, οὗτος, τὸν, ναβουχοδονόσωρ, υἱὸς, αὐτό...</td>\n",
       "      <td>[μετὰ, τοῦτον, τὸν, ναβουχοδονόσωρ, υἱὸς, αὐτο...</td>\n",
       "      <td>38</td>\n",
       "    </tr>\n",
       "  </tbody>\n",
       "</table>\n",
       "</div>"
      ],
      "text/plain": [
       "                        author  \\\n",
       "0                         ABAS   \n",
       "2   ABRON VEL HABRON BATIENSIS   \n",
       "3                     ABYDENUS   \n",
       "7                     ABYDENUS   \n",
       "13                    ABYDENUS   \n",
       "\n",
       "                                                 text  \\\n",
       "0   Ἡ Κανδαύλου γυνὴ ἧς Ἡρόδοτος οὐ λέγει τοὔνομα ...   \n",
       "2   Βατὴ δῆμος τῆς Αἰγηίδος φυλῆς ὅθεν ἦν Ἄβρων ὁ ...   \n",
       "3   Ἐκ τῶν Ἀβυδηνοῦ Περὶ τῆς τῶν Χαλδαίων βασιλεία...   \n",
       "7   ΑΒΥΔΗΝΟΥ. Ἐντὶ δ ̓ οἳ λέγουσι τοὺς πρώτους ἀνα...   \n",
       "13  Μετὰ τοῦτον (sc. τὸν Ναβουχοδονόσωρ) υἱὸς αὐτο...   \n",
       "\n",
       "                                                words  \\\n",
       "0   [ἡ, κανδαύλου, γυνὴ, ,, ἧς, ἡρόδοτος, οὐ, λέγε...   \n",
       "2   [βατὴ, ,, δῆμος, τῆς, αἰγηίδος, φυλῆς, ,, ὅθεν...   \n",
       "3   [ἐκ, τῶν, ἀβυδηνοῦ, περὶ, τῆς, τῶν, χαλδαίων, ...   \n",
       "7   [αβυδηνου, ., ἐντὶ, δ, ̓, οἳ, λέγουσι, τοὺς, π...   \n",
       "13  [μετὰ, τοῦτον, (, ., τὸν, ναβουχοδονόσωρ, ), υ...   \n",
       "\n",
       "                                              lemmata  lexical_density  \\\n",
       "0   [ὁ, κανδαύλης, γυνὴ, ,, ὅς, ἡρόδοτος, οὐ, λέγ...         0.666667   \n",
       "2   [βατὴ, ,, δῆμος, ὁ, αἰγηίδος, φυλάζω, ,, ὅθεν...         0.809524   \n",
       "3   [ἐκ, ὁ, ἀβυδηνός, περὶ, ὁ, ὁ, χαλδαῖος, βασιλ...         0.534328   \n",
       "7   [αβυδηνου, ., ἐντὶ, δ, ̓, οἳ, λέγω1, τοὺς, πρό...         0.757143   \n",
       "13  [μετὰ, οὗτος, (, ., τὸν, ναβουχοδονόσωρ, ), υἱ...         0.777778   \n",
       "\n",
       "   latin_word_index  latin_word_count  non_latin_words  len_lemmata  \\\n",
       "0                []                 0               96           96   \n",
       "2                []                 0               21           21   \n",
       "3                []                 0              335          335   \n",
       "7                []                 0               70           70   \n",
       "13               []                 0               45           45   \n",
       "\n",
       "                                        clean_lemmata  \\\n",
       "0   [ὁ, κανδαύλης, γυνὴ, ὅς, ἡρόδοτος, οὐ, λέγω1,...   \n",
       "2   [βατὴ, δῆμος, ὁ, αἰγηίδος, φυλάζω, ὅθεν, εἰμί...   \n",
       "3   [ἐκ, ὁ, ἀβυδηνός, περὶ, ὁ, ὁ, χαλδαῖος, βασιλ...   \n",
       "7   [αβυδηνου, ἐντὶ, δ, ̓, οἳ, λέγω1, τοὺς, πρότερ...   \n",
       "13  [μετὰ, οὗτος, τὸν, ναβουχοδονόσωρ, υἱὸς, αὐτό...   \n",
       "\n",
       "                                          clean_words  word_count  \n",
       "0   [ἡ, κανδαύλου, γυνὴ, ἧς, ἡρόδοτος, οὐ, λέγει, ...          83  \n",
       "2   [βατὴ, δῆμος, τῆς, αἰγηίδος, φυλῆς, ὅθεν, ἦν, ...          16  \n",
       "3   [ἐκ, τῶν, ἀβυδηνοῦ, περὶ, τῆς, τῶν, χαλδαίων, ...         289  \n",
       "7   [αβυδηνου, ἐντὶ, δ, ̓, οἳ, λέγουσι, τοὺς, πρώτ...          65  \n",
       "13  [μετὰ, τοῦτον, τὸν, ναβουχοδονόσωρ, υἱὸς, αὐτο...          38  "
      ]
     },
     "execution_count": 768,
     "metadata": {},
     "output_type": "execute_result"
    }
   ],
   "source": [
    "df.head()"
   ]
  },
  {
   "cell_type": "code",
   "execution_count": 775,
   "metadata": {},
   "outputs": [],
   "source": [
    "df['lemmata'] = df['clean_words'].apply(lemmatize)\n",
    "\n",
    "df['lexical_density'] = df.apply(lambda x: len(set(x['lemmata'])) / len(x['lemmata']), 1)"
   ]
  },
  {
   "cell_type": "code",
   "execution_count": 785,
   "metadata": {},
   "outputs": [
    {
     "data": {
      "text/plain": [
       "<matplotlib.axes._subplots.AxesSubplot at 0x1a7aa8eba8>"
      ]
     },
     "execution_count": 785,
     "metadata": {},
     "output_type": "execute_result"
    },
    {
     "data": {
      "image/png": "[encoded data removed]",
      "text/plain": [
       "<Figure size 432x288 with 1 Axes>"
      ]
     },
     "metadata": {},
     "output_type": "display_data"
    }
   ],
   "source": [
    "df[df['lexical_density'] != 1].lexical_density.plot(kind = 'hist', bins  = 100)"
   ]
  },
  {
   "cell_type": "markdown",
   "metadata": {},
   "source": [
    "### Why omit fragments where density < 1? "
   ]
  },
  {
   "cell_type": "code",
   "execution_count": 786,
   "metadata": {},
   "outputs": [
    {
     "data": {
      "text/plain": [
       "count    1370.000000\n",
       "mean        9.783942\n",
       "std         5.223426\n",
       "min         1.000000\n",
       "25%         6.000000\n",
       "50%         9.000000\n",
       "75%        13.000000\n",
       "max        33.000000\n",
       "Name: word_count, dtype: float64"
      ]
     },
     "execution_count": 786,
     "metadata": {},
     "output_type": "execute_result"
    }
   ],
   "source": [
    "df[df['lexical_density'] == 1].word_count.describe()"
   ]
  },
  {
   "cell_type": "code",
   "execution_count": 787,
   "metadata": {},
   "outputs": [
    {
     "data": {
      "text/html": [
       "<div>\n",
       "<style scoped>\n",
       "    .dataframe tbody tr th:only-of-type {\n",
       "        vertical-align: middle;\n",
       "    }\n",
       "\n",
       "    .dataframe tbody tr th {\n",
       "        vertical-align: top;\n",
       "    }\n",
       "\n",
       "    .dataframe thead th {\n",
       "        text-align: right;\n",
       "    }\n",
       "</style>\n",
       "<table border=\"1\" class=\"dataframe\">\n",
       "  <thead>\n",
       "    <tr style=\"text-align: right;\">\n",
       "      <th></th>\n",
       "      <th>lexical_density</th>\n",
       "      <th>latin_word_count</th>\n",
       "      <th>non_latin_words</th>\n",
       "      <th>len_lemmata</th>\n",
       "      <th>word_count</th>\n",
       "    </tr>\n",
       "  </thead>\n",
       "  <tbody>\n",
       "    <tr>\n",
       "      <th>count</th>\n",
       "      <td>5716.000000</td>\n",
       "      <td>5716.0</td>\n",
       "      <td>5716.000000</td>\n",
       "      <td>5716.000000</td>\n",
       "      <td>5716.000000</td>\n",
       "    </tr>\n",
       "    <tr>\n",
       "      <th>mean</th>\n",
       "      <td>0.789847</td>\n",
       "      <td>0.0</td>\n",
       "      <td>94.377187</td>\n",
       "      <td>94.377187</td>\n",
       "      <td>82.263996</td>\n",
       "    </tr>\n",
       "    <tr>\n",
       "      <th>std</th>\n",
       "      <td>0.113970</td>\n",
       "      <td>0.0</td>\n",
       "      <td>218.026678</td>\n",
       "      <td>218.026678</td>\n",
       "      <td>190.198470</td>\n",
       "    </tr>\n",
       "    <tr>\n",
       "      <th>min</th>\n",
       "      <td>0.225822</td>\n",
       "      <td>0.0</td>\n",
       "      <td>3.000000</td>\n",
       "      <td>3.000000</td>\n",
       "      <td>2.000000</td>\n",
       "    </tr>\n",
       "    <tr>\n",
       "      <th>25%</th>\n",
       "      <td>0.720000</td>\n",
       "      <td>0.0</td>\n",
       "      <td>28.000000</td>\n",
       "      <td>28.000000</td>\n",
       "      <td>24.000000</td>\n",
       "    </tr>\n",
       "    <tr>\n",
       "      <th>50%</th>\n",
       "      <td>0.805556</td>\n",
       "      <td>0.0</td>\n",
       "      <td>46.000000</td>\n",
       "      <td>46.000000</td>\n",
       "      <td>40.000000</td>\n",
       "    </tr>\n",
       "    <tr>\n",
       "      <th>75%</th>\n",
       "      <td>0.875000</td>\n",
       "      <td>0.0</td>\n",
       "      <td>88.000000</td>\n",
       "      <td>88.000000</td>\n",
       "      <td>76.000000</td>\n",
       "    </tr>\n",
       "    <tr>\n",
       "      <th>max</th>\n",
       "      <td>0.975610</td>\n",
       "      <td>0.0</td>\n",
       "      <td>9887.000000</td>\n",
       "      <td>9887.000000</td>\n",
       "      <td>8520.000000</td>\n",
       "    </tr>\n",
       "  </tbody>\n",
       "</table>\n",
       "</div>"
      ],
      "text/plain": [
       "       lexical_density  latin_word_count  non_latin_words  len_lemmata  \\\n",
       "count      5716.000000            5716.0      5716.000000  5716.000000   \n",
       "mean          0.789847               0.0        94.377187    94.377187   \n",
       "std           0.113970               0.0       218.026678   218.026678   \n",
       "min           0.225822               0.0         3.000000     3.000000   \n",
       "25%           0.720000               0.0        28.000000    28.000000   \n",
       "50%           0.805556               0.0        46.000000    46.000000   \n",
       "75%           0.875000               0.0        88.000000    88.000000   \n",
       "max           0.975610               0.0      9887.000000  9887.000000   \n",
       "\n",
       "        word_count  \n",
       "count  5716.000000  \n",
       "mean     82.263996  \n",
       "std     190.198470  \n",
       "min       2.000000  \n",
       "25%      24.000000  \n",
       "50%      40.000000  \n",
       "75%      76.000000  \n",
       "max    8520.000000  "
      ]
     },
     "execution_count": 787,
     "metadata": {},
     "output_type": "execute_result"
    }
   ],
   "source": [
    "df[df['lexical_density'] != 1].describe()"
   ]
  },
  {
   "cell_type": "markdown",
   "metadata": {},
   "source": [
    "## Make author df"
   ]
  },
  {
   "cell_type": "code",
   "execution_count": 788,
   "metadata": {},
   "outputs": [
    {
     "data": {
      "text/html": [
       "<div>\n",
       "<style scoped>\n",
       "    .dataframe tbody tr th:only-of-type {\n",
       "        vertical-align: middle;\n",
       "    }\n",
       "\n",
       "    .dataframe tbody tr th {\n",
       "        vertical-align: top;\n",
       "    }\n",
       "\n",
       "    .dataframe thead th {\n",
       "        text-align: right;\n",
       "    }\n",
       "</style>\n",
       "<table border=\"1\" class=\"dataframe\">\n",
       "  <thead>\n",
       "    <tr style=\"text-align: right;\">\n",
       "      <th></th>\n",
       "      <th>author</th>\n",
       "      <th>text</th>\n",
       "      <th>words</th>\n",
       "      <th>lemmata</th>\n",
       "      <th>lexical_density</th>\n",
       "      <th>latin_word_index</th>\n",
       "      <th>latin_word_count</th>\n",
       "      <th>non_latin_words</th>\n",
       "      <th>len_lemmata</th>\n",
       "      <th>clean_lemmata</th>\n",
       "      <th>clean_words</th>\n",
       "      <th>word_count</th>\n",
       "    </tr>\n",
       "  </thead>\n",
       "  <tbody>\n",
       "    <tr>\n",
       "      <th>0</th>\n",
       "      <td>ABAS</td>\n",
       "      <td>Ἡ Κανδαύλου γυνὴ ἧς Ἡρόδοτος οὐ λέγει τοὔνομα ...</td>\n",
       "      <td>[ἡ, κανδαύλου, γυνὴ, ,, ἧς, ἡρόδοτος, οὐ, λέγε...</td>\n",
       "      <td>[ὁ, κανδαύλης, γυνὴ, ὅς, ἡρόδοτος, οὐ, λέγω1,...</td>\n",
       "      <td>0.722892</td>\n",
       "      <td>[]</td>\n",
       "      <td>0</td>\n",
       "      <td>96</td>\n",
       "      <td>96</td>\n",
       "      <td>[ὁ, κανδαύλης, γυνὴ, ὅς, ἡρόδοτος, οὐ, λέγω1,...</td>\n",
       "      <td>[ἡ, κανδαύλου, γυνὴ, ἧς, ἡρόδοτος, οὐ, λέγει, ...</td>\n",
       "      <td>83</td>\n",
       "    </tr>\n",
       "    <tr>\n",
       "      <th>2</th>\n",
       "      <td>ABRON VEL HABRON BATIENSIS</td>\n",
       "      <td>Βατὴ δῆμος τῆς Αἰγηίδος φυλῆς ὅθεν ἦν Ἄβρων ὁ ...</td>\n",
       "      <td>[βατὴ, ,, δῆμος, τῆς, αἰγηίδος, φυλῆς, ,, ὅθεν...</td>\n",
       "      <td>[βατὴ, δῆμος, ὁ, αἰγηίδος, φυλάζω, ὅθεν, εἰμί...</td>\n",
       "      <td>0.937500</td>\n",
       "      <td>[]</td>\n",
       "      <td>0</td>\n",
       "      <td>21</td>\n",
       "      <td>21</td>\n",
       "      <td>[βατὴ, δῆμος, ὁ, αἰγηίδος, φυλάζω, ὅθεν, εἰμί...</td>\n",
       "      <td>[βατὴ, δῆμος, τῆς, αἰγηίδος, φυλῆς, ὅθεν, ἦν, ...</td>\n",
       "      <td>16</td>\n",
       "    </tr>\n",
       "    <tr>\n",
       "      <th>3</th>\n",
       "      <td>ABYDENUS</td>\n",
       "      <td>Ἐκ τῶν Ἀβυδηνοῦ Περὶ τῆς τῶν Χαλδαίων βασιλεία...</td>\n",
       "      <td>[ἐκ, τῶν, ἀβυδηνοῦ, περὶ, τῆς, τῶν, χαλδαίων, ...</td>\n",
       "      <td>[ἐκ, ὁ, ἀβυδηνός, περὶ, ὁ, ὁ, χαλδαῖος, βασιλ...</td>\n",
       "      <td>0.605536</td>\n",
       "      <td>[]</td>\n",
       "      <td>0</td>\n",
       "      <td>335</td>\n",
       "      <td>335</td>\n",
       "      <td>[ἐκ, ὁ, ἀβυδηνός, περὶ, ὁ, ὁ, χαλδαῖος, βασιλ...</td>\n",
       "      <td>[ἐκ, τῶν, ἀβυδηνοῦ, περὶ, τῆς, τῶν, χαλδαίων, ...</td>\n",
       "      <td>289</td>\n",
       "    </tr>\n",
       "    <tr>\n",
       "      <th>7</th>\n",
       "      <td>ABYDENUS</td>\n",
       "      <td>ΑΒΥΔΗΝΟΥ. Ἐντὶ δ ̓ οἳ λέγουσι τοὺς πρώτους ἀνα...</td>\n",
       "      <td>[αβυδηνου, ., ἐντὶ, δ, ̓, οἳ, λέγουσι, τοὺς, π...</td>\n",
       "      <td>[αβυδηνου, ἐντὶ, δ, ̓, οἳ, λέγω1, τοὺς, πρότερ...</td>\n",
       "      <td>0.784615</td>\n",
       "      <td>[]</td>\n",
       "      <td>0</td>\n",
       "      <td>70</td>\n",
       "      <td>70</td>\n",
       "      <td>[αβυδηνου, ἐντὶ, δ, ̓, οἳ, λέγω1, τοὺς, πρότερ...</td>\n",
       "      <td>[αβυδηνου, ἐντὶ, δ, ̓, οἳ, λέγουσι, τοὺς, πρώτ...</td>\n",
       "      <td>65</td>\n",
       "    </tr>\n",
       "    <tr>\n",
       "      <th>13</th>\n",
       "      <td>ABYDENUS</td>\n",
       "      <td>Μετὰ τοῦτον (sc. τὸν Ναβουχοδονόσωρ) υἱὸς αὐτο...</td>\n",
       "      <td>[μετὰ, τοῦτον, (, ., τὸν, ναβουχοδονόσωρ, ), υ...</td>\n",
       "      <td>[μετὰ, οὗτος, τὸν, ναβουχοδονόσωρ, υἱὸς, αὐτό...</td>\n",
       "      <td>0.815789</td>\n",
       "      <td>[]</td>\n",
       "      <td>0</td>\n",
       "      <td>45</td>\n",
       "      <td>45</td>\n",
       "      <td>[μετὰ, οὗτος, τὸν, ναβουχοδονόσωρ, υἱὸς, αὐτό...</td>\n",
       "      <td>[μετὰ, τοῦτον, τὸν, ναβουχοδονόσωρ, υἱὸς, αὐτο...</td>\n",
       "      <td>38</td>\n",
       "    </tr>\n",
       "  </tbody>\n",
       "</table>\n",
       "</div>"
      ],
      "text/plain": [
       "                        author  \\\n",
       "0                         ABAS   \n",
       "2   ABRON VEL HABRON BATIENSIS   \n",
       "3                     ABYDENUS   \n",
       "7                     ABYDENUS   \n",
       "13                    ABYDENUS   \n",
       "\n",
       "                                                 text  \\\n",
       "0   Ἡ Κανδαύλου γυνὴ ἧς Ἡρόδοτος οὐ λέγει τοὔνομα ...   \n",
       "2   Βατὴ δῆμος τῆς Αἰγηίδος φυλῆς ὅθεν ἦν Ἄβρων ὁ ...   \n",
       "3   Ἐκ τῶν Ἀβυδηνοῦ Περὶ τῆς τῶν Χαλδαίων βασιλεία...   \n",
       "7   ΑΒΥΔΗΝΟΥ. Ἐντὶ δ ̓ οἳ λέγουσι τοὺς πρώτους ἀνα...   \n",
       "13  Μετὰ τοῦτον (sc. τὸν Ναβουχοδονόσωρ) υἱὸς αὐτο...   \n",
       "\n",
       "                                                words  \\\n",
       "0   [ἡ, κανδαύλου, γυνὴ, ,, ἧς, ἡρόδοτος, οὐ, λέγε...   \n",
       "2   [βατὴ, ,, δῆμος, τῆς, αἰγηίδος, φυλῆς, ,, ὅθεν...   \n",
       "3   [ἐκ, τῶν, ἀβυδηνοῦ, περὶ, τῆς, τῶν, χαλδαίων, ...   \n",
       "7   [αβυδηνου, ., ἐντὶ, δ, ̓, οἳ, λέγουσι, τοὺς, π...   \n",
       "13  [μετὰ, τοῦτον, (, ., τὸν, ναβουχοδονόσωρ, ), υ...   \n",
       "\n",
       "                                              lemmata  lexical_density  \\\n",
       "0   [ὁ, κανδαύλης, γυνὴ, ὅς, ἡρόδοτος, οὐ, λέγω1,...         0.722892   \n",
       "2   [βατὴ, δῆμος, ὁ, αἰγηίδος, φυλάζω, ὅθεν, εἰμί...         0.937500   \n",
       "3   [ἐκ, ὁ, ἀβυδηνός, περὶ, ὁ, ὁ, χαλδαῖος, βασιλ...         0.605536   \n",
       "7   [αβυδηνου, ἐντὶ, δ, ̓, οἳ, λέγω1, τοὺς, πρότερ...         0.784615   \n",
       "13  [μετὰ, οὗτος, τὸν, ναβουχοδονόσωρ, υἱὸς, αὐτό...         0.815789   \n",
       "\n",
       "   latin_word_index  latin_word_count  non_latin_words  len_lemmata  \\\n",
       "0                []                 0               96           96   \n",
       "2                []                 0               21           21   \n",
       "3                []                 0              335          335   \n",
       "7                []                 0               70           70   \n",
       "13               []                 0               45           45   \n",
       "\n",
       "                                        clean_lemmata  \\\n",
       "0   [ὁ, κανδαύλης, γυνὴ, ὅς, ἡρόδοτος, οὐ, λέγω1,...   \n",
       "2   [βατὴ, δῆμος, ὁ, αἰγηίδος, φυλάζω, ὅθεν, εἰμί...   \n",
       "3   [ἐκ, ὁ, ἀβυδηνός, περὶ, ὁ, ὁ, χαλδαῖος, βασιλ...   \n",
       "7   [αβυδηνου, ἐντὶ, δ, ̓, οἳ, λέγω1, τοὺς, πρότερ...   \n",
       "13  [μετὰ, οὗτος, τὸν, ναβουχοδονόσωρ, υἱὸς, αὐτό...   \n",
       "\n",
       "                                          clean_words  word_count  \n",
       "0   [ἡ, κανδαύλου, γυνὴ, ἧς, ἡρόδοτος, οὐ, λέγει, ...          83  \n",
       "2   [βατὴ, δῆμος, τῆς, αἰγηίδος, φυλῆς, ὅθεν, ἦν, ...          16  \n",
       "3   [ἐκ, τῶν, ἀβυδηνοῦ, περὶ, τῆς, τῶν, χαλδαίων, ...         289  \n",
       "7   [αβυδηνου, ἐντὶ, δ, ̓, οἳ, λέγουσι, τοὺς, πρώτ...          65  \n",
       "13  [μετὰ, τοῦτον, τὸν, ναβουχοδονόσωρ, υἱὸς, αὐτο...          38  "
      ]
     },
     "execution_count": 788,
     "metadata": {},
     "output_type": "execute_result"
    }
   ],
   "source": [
    "df.head()"
   ]
  },
  {
   "cell_type": "code",
   "execution_count": 791,
   "metadata": {},
   "outputs": [],
   "source": [
    "test = df.groupby('author', as_index = False)"
   ]
  },
  {
   "cell_type": "code",
   "execution_count": 802,
   "metadata": {},
   "outputs": [],
   "source": [
    "words_author_df = test.agg({'clean_words' : 'sum'})"
   ]
  },
  {
   "cell_type": "code",
   "execution_count": 803,
   "metadata": {},
   "outputs": [],
   "source": [
    "words_df = words_author_df"
   ]
  },
  {
   "cell_type": "code",
   "execution_count": 805,
   "metadata": {},
   "outputs": [],
   "source": [
    "words_df['clean_lemmata'] = words_df['clean_words'].apply(lemmatize)"
   ]
  },
  {
   "cell_type": "code",
   "execution_count": 806,
   "metadata": {},
   "outputs": [],
   "source": [
    "words_df['lexical_density'] = words_df.apply(lambda x: len(set(x['clean_lemmata'])) / len(x['clean_lemmata']), 1)"
   ]
  },
  {
   "cell_type": "code",
   "execution_count": 807,
   "metadata": {},
   "outputs": [
    {
     "data": {
      "text/html": [
       "<div>\n",
       "<style scoped>\n",
       "    .dataframe tbody tr th:only-of-type {\n",
       "        vertical-align: middle;\n",
       "    }\n",
       "\n",
       "    .dataframe tbody tr th {\n",
       "        vertical-align: top;\n",
       "    }\n",
       "\n",
       "    .dataframe thead th {\n",
       "        text-align: right;\n",
       "    }\n",
       "</style>\n",
       "<table border=\"1\" class=\"dataframe\">\n",
       "  <thead>\n",
       "    <tr style=\"text-align: right;\">\n",
       "      <th></th>\n",
       "      <th>author</th>\n",
       "      <th>clean_words</th>\n",
       "      <th>clean_lemmata</th>\n",
       "      <th>lexical_density</th>\n",
       "    </tr>\n",
       "  </thead>\n",
       "  <tbody>\n",
       "    <tr>\n",
       "      <th>0</th>\n",
       "      <td>ABAS</td>\n",
       "      <td>[ἡ, κανδαύλου, γυνὴ, ἧς, ἡρόδοτος, οὐ, λέγει, ...</td>\n",
       "      <td>[ὁ, κανδαύλης, γυνὴ, ὅς, ἡρόδοτος, οὐ, λέγω1,...</td>\n",
       "      <td>0.722892</td>\n",
       "    </tr>\n",
       "    <tr>\n",
       "      <th>1</th>\n",
       "      <td>ABRON VEL HABRON BATIENSIS</td>\n",
       "      <td>[βατὴ, δῆμος, τῆς, αἰγηίδος, φυλῆς, ὅθεν, ἦν, ...</td>\n",
       "      <td>[βατὴ, δῆμος, ὁ, αἰγηίδος, φυλάζω, ὅθεν, εἰμί...</td>\n",
       "      <td>0.937500</td>\n",
       "    </tr>\n",
       "    <tr>\n",
       "      <th>2</th>\n",
       "      <td>ABYDENUS</td>\n",
       "      <td>[ἐκ, τῶν, ἀβυδηνοῦ, περὶ, τῆς, τῶν, χαλδαίων, ...</td>\n",
       "      <td>[ἐκ, ὁ, ἀβυδηνός, περὶ, ὁ, ὁ, χαλδαῖος, βασιλ...</td>\n",
       "      <td>0.576531</td>\n",
       "    </tr>\n",
       "    <tr>\n",
       "      <th>3</th>\n",
       "      <td>ACESANDER</td>\n",
       "      <td>[εἶπον, ὅτι, καὶ, πελίαν, θάπτων, ἄκαστος, ὁ, ...</td>\n",
       "      <td>[εἶπον, ὅστις, καὶ, πελίης, θάπτω, ἄκαστος, ὁ,...</td>\n",
       "      <td>0.519164</td>\n",
       "    </tr>\n",
       "    <tr>\n",
       "      <th>4</th>\n",
       "      <td>ACUSILAUS</td>\n",
       "      <td>[ἡσίοδος, χάους, καὶ, γῆς, ἔρωτα, υἱὸν, λέγει,...</td>\n",
       "      <td>[ἡσίοδος, χαόω, καὶ, γαῖα, ἔρως, υἱὸν, λέγω1,...</td>\n",
       "      <td>0.441973</td>\n",
       "    </tr>\n",
       "  </tbody>\n",
       "</table>\n",
       "</div>"
      ],
      "text/plain": [
       "                       author  \\\n",
       "0                        ABAS   \n",
       "1  ABRON VEL HABRON BATIENSIS   \n",
       "2                    ABYDENUS   \n",
       "3                   ACESANDER   \n",
       "4                   ACUSILAUS   \n",
       "\n",
       "                                         clean_words  \\\n",
       "0  [ἡ, κανδαύλου, γυνὴ, ἧς, ἡρόδοτος, οὐ, λέγει, ...   \n",
       "1  [βατὴ, δῆμος, τῆς, αἰγηίδος, φυλῆς, ὅθεν, ἦν, ...   \n",
       "2  [ἐκ, τῶν, ἀβυδηνοῦ, περὶ, τῆς, τῶν, χαλδαίων, ...   \n",
       "3  [εἶπον, ὅτι, καὶ, πελίαν, θάπτων, ἄκαστος, ὁ, ...   \n",
       "4  [ἡσίοδος, χάους, καὶ, γῆς, ἔρωτα, υἱὸν, λέγει,...   \n",
       "\n",
       "                                       clean_lemmata  lexical_density  \n",
       "0  [ὁ, κανδαύλης, γυνὴ, ὅς, ἡρόδοτος, οὐ, λέγω1,...         0.722892  \n",
       "1  [βατὴ, δῆμος, ὁ, αἰγηίδος, φυλάζω, ὅθεν, εἰμί...         0.937500  \n",
       "2  [ἐκ, ὁ, ἀβυδηνός, περὶ, ὁ, ὁ, χαλδαῖος, βασιλ...         0.576531  \n",
       "3  [εἶπον, ὅστις, καὶ, πελίης, θάπτω, ἄκαστος, ὁ,...         0.519164  \n",
       "4  [ἡσίοδος, χαόω, καὶ, γαῖα, ἔρως, υἱὸν, λέγω1,...         0.441973  "
      ]
     },
     "execution_count": 807,
     "metadata": {},
     "output_type": "execute_result"
    }
   ],
   "source": [
    "words_df.head()"
   ]
  },
  {
   "cell_type": "code",
   "execution_count": 810,
   "metadata": {},
   "outputs": [
    {
     "data": {
      "text/plain": [
       "<matplotlib.axes._subplots.AxesSubplot at 0x1a7de13320>"
      ]
     },
     "execution_count": 810,
     "metadata": {},
     "output_type": "execute_result"
    },
    {
     "data": {
      "image/png": "[encoded data removed]",
      "text/plain": [
       "<Figure size 432x288 with 1 Axes>"
      ]
     },
     "metadata": {},
     "output_type": "display_data"
    }
   ],
   "source": [
    "words_df[words_df['lexical_density'] != 1].lexical_density.plot(kind = 'hist', bins = 100, alpha = .7)"
   ]
  },
  {
   "cell_type": "code",
   "execution_count": 827,
   "metadata": {},
   "outputs": [
    {
     "data": {
      "text/plain": [
       "0.00       1.0\n",
       "0.05      13.1\n",
       "0.10      21.4\n",
       "0.15      33.3\n",
       "0.20      44.4\n",
       "0.25      57.0\n",
       "0.30      71.0\n",
       "0.35      87.7\n",
       "0.40     112.4\n",
       "0.45     140.0\n",
       "0.50     169.0\n",
       "0.55     190.2\n",
       "0.60     226.2\n",
       "0.65     288.8\n",
       "0.70     377.6\n",
       "0.75     516.0\n",
       "0.80     745.8\n",
       "0.85    1012.9\n",
       "0.90    1645.8\n",
       "0.95    5023.6\n",
       "Name: word_count, dtype: float64"
      ]
     },
     "execution_count": 827,
     "metadata": {},
     "output_type": "execute_result"
    }
   ],
   "source": [
    "words_df.word_count.quantile([x/20 for x in range(20)])"
   ]
  },
  {
   "cell_type": "code",
   "execution_count": 819,
   "metadata": {},
   "outputs": [],
   "source": [
    "words_df['word_count'] = words_df['clean_lemmata'].apply(lambda x: len(x))"
   ]
  },
  {
   "cell_type": "code",
   "execution_count": 826,
   "metadata": {},
   "outputs": [
    {
     "data": {
      "text/html": [
       "<div>\n",
       "<style scoped>\n",
       "    .dataframe tbody tr th:only-of-type {\n",
       "        vertical-align: middle;\n",
       "    }\n",
       "\n",
       "    .dataframe tbody tr th {\n",
       "        vertical-align: top;\n",
       "    }\n",
       "\n",
       "    .dataframe thead th {\n",
       "        text-align: right;\n",
       "    }\n",
       "</style>\n",
       "<table border=\"1\" class=\"dataframe\">\n",
       "  <thead>\n",
       "    <tr style=\"text-align: right;\">\n",
       "      <th></th>\n",
       "      <th>author</th>\n",
       "      <th>clean_words</th>\n",
       "      <th>clean_lemmata</th>\n",
       "      <th>lexical_density</th>\n",
       "      <th>word_count</th>\n",
       "    </tr>\n",
       "  </thead>\n",
       "  <tbody>\n",
       "    <tr>\n",
       "      <th>388</th>\n",
       "      <td>POSIDONIUS OLBIOPOLITA</td>\n",
       "      <td>[ὁ, δὲ, τῶν, μακεδόνων, βασιλεὺς, ὥς, φησι, πο...</td>\n",
       "      <td>[ὁ, δὲ, ὁ, μακεδών, βασιλεὺς, ὅς, φημί, πολύβι...</td>\n",
       "      <td>0.648855</td>\n",
       "      <td>262</td>\n",
       "    </tr>\n",
       "    <tr>\n",
       "      <th>155</th>\n",
       "      <td>CREPEREIUS CALPURNIANUS POMPEIOPOLITANUS</td>\n",
       "      <td>[οὗτος, μὲν, τοιαῦτα, ἕτερος, δὲ, θουκυδίδου, ...</td>\n",
       "      <td>[οὗτος, μὲν, τοιοῦτος, ἕτερος, δὲ, θουκυδίδης...</td>\n",
       "      <td>0.672000</td>\n",
       "      <td>250</td>\n",
       "    </tr>\n",
       "    <tr>\n",
       "      <th>415</th>\n",
       "      <td>SELEUCUS ALEXANDRINUS</td>\n",
       "      <td>[ὁμηρίδαι, σέλευκος, ἐν, β, περὶ, βίων, ἁμαρτά...</td>\n",
       "      <td>[ὁμηρίδης, σέλευκος, ἐν, β, περὶ, βιόω, ἁμαρτά...</td>\n",
       "      <td>0.640693</td>\n",
       "      <td>231</td>\n",
       "    </tr>\n",
       "    <tr>\n",
       "      <th>38</th>\n",
       "      <td>ANONYMUS CORINTHIUS</td>\n",
       "      <td>[ἄλλος, μάλα, καὶ, οὗτος, γελοῖος, οὐδὲ, τὸν, ...</td>\n",
       "      <td>[ἄλλος, μάλης, καὶ, οὗτος, γέλοιος, οὐδὲ, τὸν,...</td>\n",
       "      <td>0.693333</td>\n",
       "      <td>225</td>\n",
       "    </tr>\n",
       "    <tr>\n",
       "      <th>157</th>\n",
       "      <td>CRITOLAUS</td>\n",
       "      <td>[ῥωμαίων, πρὸς, πύρρον, ἠπειρώτην, πολεμούντων...</td>\n",
       "      <td>[ῥωμαίων, πρὸς, πύρρος, ἠπειρόω, πολεμέω, αἱμί...</td>\n",
       "      <td>0.695067</td>\n",
       "      <td>223</td>\n",
       "    </tr>\n",
       "    <tr>\n",
       "      <th>...</th>\n",
       "      <td>...</td>\n",
       "      <td>...</td>\n",
       "      <td>...</td>\n",
       "      <td>...</td>\n",
       "      <td>...</td>\n",
       "    </tr>\n",
       "    <tr>\n",
       "      <th>314</th>\n",
       "      <td>MENYLLUS</td>\n",
       "      <td>[σεπτίμιος, μάρκελλος, γήμας, σιλουίαν, τὰ, πο...</td>\n",
       "      <td>[σεπτίμιος, μάρκελλος, γαμέω, σιλουίαν, τὰ, πο...</td>\n",
       "      <td>0.754717</td>\n",
       "      <td>106</td>\n",
       "    </tr>\n",
       "    <tr>\n",
       "      <th>111</th>\n",
       "      <td>BION SOLENSIS</td>\n",
       "      <td>[a, ;, :, :, ;, καθίστων, δὲ, καὶ, πολλοὶ, τοὺ...</td>\n",
       "      <td>[a, ;, :, :, ;, καθιστάω, δὲ, καὶ, πολλοὶ, τοὺ...</td>\n",
       "      <td>0.695238</td>\n",
       "      <td>105</td>\n",
       "    </tr>\n",
       "    <tr>\n",
       "      <th>480</th>\n",
       "      <td>ZENODOTUS TROEZENIUS</td>\n",
       "      <td>[ζηνόδοτος, δὲ, τροιζήνιος, συγγραφεὺς, ὀμβρικ...</td>\n",
       "      <td>[ζηνόδοτος, δὲ, τροιζήνιος, συγγραφεὺς, ὀμβρικ...</td>\n",
       "      <td>0.701923</td>\n",
       "      <td>104</td>\n",
       "    </tr>\n",
       "    <tr>\n",
       "      <th>289</th>\n",
       "      <td>LUCILLUS TARRHAEUS</td>\n",
       "      <td>[θεσσαλονίκη, πόλις, μακεδονίας, ἥτις, ἄρα, ἐκ...</td>\n",
       "      <td>[θεσσαλονίκη, πόλις, μακεδονία, ὅστις, ἄρον, κ...</td>\n",
       "      <td>0.676471</td>\n",
       "      <td>102</td>\n",
       "    </tr>\n",
       "    <tr>\n",
       "      <th>172</th>\n",
       "      <td>DEMAGORAS SAMIUS</td>\n",
       "      <td>[δημαγόρας, δὲ, ἀπὸ, λιβύης, ἐλθοῦσαν, τὴν, ἠλ...</td>\n",
       "      <td>[δημαγ/ορας, δὲ, ἀπὸ, λιβύη, ἔρχομαι, τὴν, ἠλέ...</td>\n",
       "      <td>0.712871</td>\n",
       "      <td>101</td>\n",
       "    </tr>\n",
       "  </tbody>\n",
       "</table>\n",
       "<p>71 rows × 5 columns</p>\n",
       "</div>"
      ],
      "text/plain": [
       "                                       author  \\\n",
       "388                    POSIDONIUS OLBIOPOLITA   \n",
       "155  CREPEREIUS CALPURNIANUS POMPEIOPOLITANUS   \n",
       "415                     SELEUCUS ALEXANDRINUS   \n",
       "38                        ANONYMUS CORINTHIUS   \n",
       "157                                 CRITOLAUS   \n",
       "..                                        ...   \n",
       "314                                  MENYLLUS   \n",
       "111                             BION SOLENSIS   \n",
       "480                      ZENODOTUS TROEZENIUS   \n",
       "289                        LUCILLUS TARRHAEUS   \n",
       "172                          DEMAGORAS SAMIUS   \n",
       "\n",
       "                                           clean_words  \\\n",
       "388  [ὁ, δὲ, τῶν, μακεδόνων, βασιλεὺς, ὥς, φησι, πο...   \n",
       "155  [οὗτος, μὲν, τοιαῦτα, ἕτερος, δὲ, θουκυδίδου, ...   \n",
       "415  [ὁμηρίδαι, σέλευκος, ἐν, β, περὶ, βίων, ἁμαρτά...   \n",
       "38   [ἄλλος, μάλα, καὶ, οὗτος, γελοῖος, οὐδὲ, τὸν, ...   \n",
       "157  [ῥωμαίων, πρὸς, πύρρον, ἠπειρώτην, πολεμούντων...   \n",
       "..                                                 ...   \n",
       "314  [σεπτίμιος, μάρκελλος, γήμας, σιλουίαν, τὰ, πο...   \n",
       "111  [a, ;, :, :, ;, καθίστων, δὲ, καὶ, πολλοὶ, τοὺ...   \n",
       "480  [ζηνόδοτος, δὲ, τροιζήνιος, συγγραφεὺς, ὀμβρικ...   \n",
       "289  [θεσσαλονίκη, πόλις, μακεδονίας, ἥτις, ἄρα, ἐκ...   \n",
       "172  [δημαγόρας, δὲ, ἀπὸ, λιβύης, ἐλθοῦσαν, τὴν, ἠλ...   \n",
       "\n",
       "                                         clean_lemmata  lexical_density  \\\n",
       "388  [ὁ, δὲ, ὁ, μακεδών, βασιλεὺς, ὅς, φημί, πολύβι...         0.648855   \n",
       "155  [οὗτος, μὲν, τοιοῦτος, ἕτερος, δὲ, θουκυδίδης...         0.672000   \n",
       "415  [ὁμηρίδης, σέλευκος, ἐν, β, περὶ, βιόω, ἁμαρτά...         0.640693   \n",
       "38   [ἄλλος, μάλης, καὶ, οὗτος, γέλοιος, οὐδὲ, τὸν,...         0.693333   \n",
       "157  [ῥωμαίων, πρὸς, πύρρος, ἠπειρόω, πολεμέω, αἱμί...         0.695067   \n",
       "..                                                 ...              ...   \n",
       "314  [σεπτίμιος, μάρκελλος, γαμέω, σιλουίαν, τὰ, πο...         0.754717   \n",
       "111  [a, ;, :, :, ;, καθιστάω, δὲ, καὶ, πολλοὶ, τοὺ...         0.695238   \n",
       "480  [ζηνόδοτος, δὲ, τροιζήνιος, συγγραφεὺς, ὀμβρικ...         0.701923   \n",
       "289  [θεσσαλονίκη, πόλις, μακεδονία, ὅστις, ἄρον, κ...         0.676471   \n",
       "172  [δημαγ/ορας, δὲ, ἀπὸ, λιβύη, ἔρχομαι, τὴν, ἠλέ...         0.712871   \n",
       "\n",
       "     word_count  \n",
       "388         262  \n",
       "155         250  \n",
       "415         231  \n",
       "38          225  \n",
       "157         223  \n",
       "..          ...  \n",
       "314         106  \n",
       "111         105  \n",
       "480         104  \n",
       "289         102  \n",
       "172         101  \n",
       "\n",
       "[71 rows x 5 columns]"
      ]
     },
     "execution_count": 826,
     "metadata": {},
     "output_type": "execute_result"
    }
   ],
   "source": [
    "words_df[(words_df['lexical_density'] >= .64) & (words_df['word_count'] > 100)]\\\n",
    ".sort_values('word_count', ascending = False)"
   ]
  },
  {
   "cell_type": "code",
   "execution_count": 1179,
   "metadata": {},
   "outputs": [],
   "source": [
    "words_df['clean_words'] = [word for word in words_df['clean_words'] if word != ' ̓']"
   ]
  },
  {
   "cell_type": "code",
   "execution_count": 1180,
   "metadata": {},
   "outputs": [
    {
     "data": {
      "text/html": [
       "<div>\n",
       "<style scoped>\n",
       "    .dataframe tbody tr th:only-of-type {\n",
       "        vertical-align: middle;\n",
       "    }\n",
       "\n",
       "    .dataframe tbody tr th {\n",
       "        vertical-align: top;\n",
       "    }\n",
       "\n",
       "    .dataframe thead th {\n",
       "        text-align: right;\n",
       "    }\n",
       "</style>\n",
       "<table border=\"1\" class=\"dataframe\">\n",
       "  <thead>\n",
       "    <tr style=\"text-align: right;\">\n",
       "      <th></th>\n",
       "      <th>author</th>\n",
       "      <th>clean_words</th>\n",
       "      <th>clean_lemmata</th>\n",
       "      <th>lexical_density</th>\n",
       "      <th>word_count</th>\n",
       "      <th>lemma_counts</th>\n",
       "      <th>unique_lemmata</th>\n",
       "      <th>weighted_average_frequency</th>\n",
       "      <th>inv_freq</th>\n",
       "    </tr>\n",
       "  </thead>\n",
       "  <tbody>\n",
       "    <tr>\n",
       "      <th>0</th>\n",
       "      <td>ABAS</td>\n",
       "      <td>[ἡ, κανδαύλου, γυνὴ, ἧς, ἡρόδοτος, οὐ, λέγει, ...</td>\n",
       "      <td>[κανδαύλης, γυνὴ, ἡρόδοτος, οὐ, λέγω1, ὄνομα,...</td>\n",
       "      <td>0.722892</td>\n",
       "      <td>83</td>\n",
       "      <td>{'κανδαύλης': 1, 'γυνὴ': 1, 'ἡρόδοτος': 4, 'ου...</td>\n",
       "      <td>[ὄνομα, ἡρόδοτος, λέγω1, γένος, ἣν, γυνὴ, ἑταί...</td>\n",
       "      <td>3.877270</td>\n",
       "      <td>0.0</td>\n",
       "    </tr>\n",
       "    <tr>\n",
       "      <th>1</th>\n",
       "      <td>ABRON VEL HABRON BATIENSIS</td>\n",
       "      <td>[βατὴ, δῆμος, τῆς, αἰγηίδος, φυλῆς, ὅθεν, ἦν, ...</td>\n",
       "      <td>[βατὴ, δῆμος, αἰγηίδος, φυλάζω, ὅθεν, εἰμί, ἄ...</td>\n",
       "      <td>0.937500</td>\n",
       "      <td>16</td>\n",
       "      <td>{'βατὴ': 1, 'δῆμος': 1, 'αἰγηίδος': 1, 'φυλάζ...</td>\n",
       "      <td>[ἐξηγητὴς, καλλίης, αἰγηίδος, ὅθεν, ἑορτάζω, γ...</td>\n",
       "      <td>1.543122</td>\n",
       "      <td>0.0</td>\n",
       "    </tr>\n",
       "    <tr>\n",
       "      <th>2</th>\n",
       "      <td>ABYDENUS</td>\n",
       "      <td>[ἐκ, τῶν, ἀβυδηνοῦ, περὶ, τῆς, τῶν, χαλδαίων, ...</td>\n",
       "      <td>[ἀβυδηνός, χαλδαῖος, βασιλειάω, χαλδαῖος, σο...</td>\n",
       "      <td>0.576531</td>\n",
       "      <td>392</td>\n",
       "      <td>{'ἀβυδηνός': 1, 'χαλδαῖος': 2, 'βασιλειάω': 2...</td>\n",
       "      <td>[ἀβυδηνὸς, παντιβίβλιος, ἄνθρωπος, θεάω, καταλ...</td>\n",
       "      <td>9.516595</td>\n",
       "      <td>0.0</td>\n",
       "    </tr>\n",
       "    <tr>\n",
       "      <th>3</th>\n",
       "      <td>ACESANDER</td>\n",
       "      <td>[εἶπον, ὅτι, καὶ, πελίαν, θάπτων, ἄκαστος, ὁ, ...</td>\n",
       "      <td>[εἶπον, πελίης, θάπτω, ἄκαστος, υἱὸς, ἀγών, πο...</td>\n",
       "      <td>0.519164</td>\n",
       "      <td>287</td>\n",
       "      <td>{'εἶπον': 1, 'πελίης': 1, 'θάπτω': 1, 'ἄκαστος...</td>\n",
       "      <td>[διακομίζω, εὔρυτος, λίβυς, εἶπον, ἀκέσανδρο...</td>\n",
       "      <td>9.956201</td>\n",
       "      <td>0.0</td>\n",
       "    </tr>\n",
       "    <tr>\n",
       "      <th>4</th>\n",
       "      <td>ACUSILAUS</td>\n",
       "      <td>[ἡσίοδος, χάους, καὶ, γῆς, ἔρωτα, υἱὸν, λέγει,...</td>\n",
       "      <td>[ἡσίοδος, χαόω, γαῖα, ἔρως, υἱὸν, λέγω1, ...,...</td>\n",
       "      <td>0.441973</td>\n",
       "      <td>1034</td>\n",
       "      <td>{'ἡσίοδος': 9, 'χαόω': 1, 'γαῖα': 2, 'ἔρως': ...</td>\n",
       "      <td>[ὤγυγος, καταλύω, λητοῦς·, ποταμός, μενέλαος, ...</td>\n",
       "      <td>28.055590</td>\n",
       "      <td>0.0</td>\n",
       "    </tr>\n",
       "  </tbody>\n",
       "</table>\n",
       "</div>"
      ],
      "text/plain": [
       "                       author  \\\n",
       "0                        ABAS   \n",
       "1  ABRON VEL HABRON BATIENSIS   \n",
       "2                    ABYDENUS   \n",
       "3                   ACESANDER   \n",
       "4                   ACUSILAUS   \n",
       "\n",
       "                                         clean_words  \\\n",
       "0  [ἡ, κανδαύλου, γυνὴ, ἧς, ἡρόδοτος, οὐ, λέγει, ...   \n",
       "1  [βατὴ, δῆμος, τῆς, αἰγηίδος, φυλῆς, ὅθεν, ἦν, ...   \n",
       "2  [ἐκ, τῶν, ἀβυδηνοῦ, περὶ, τῆς, τῶν, χαλδαίων, ...   \n",
       "3  [εἶπον, ὅτι, καὶ, πελίαν, θάπτων, ἄκαστος, ὁ, ...   \n",
       "4  [ἡσίοδος, χάους, καὶ, γῆς, ἔρωτα, υἱὸν, λέγει,...   \n",
       "\n",
       "                                       clean_lemmata  lexical_density  \\\n",
       "0  [κανδαύλης, γυνὴ, ἡρόδοτος, οὐ, λέγω1, ὄνομα,...         0.722892   \n",
       "1  [βατὴ, δῆμος, αἰγηίδος, φυλάζω, ὅθεν, εἰμί, ἄ...         0.937500   \n",
       "2  [ἀβυδηνός, χαλδαῖος, βασιλειάω, χαλδαῖος, σο...         0.576531   \n",
       "3  [εἶπον, πελίης, θάπτω, ἄκαστος, υἱὸς, ἀγών, πο...         0.519164   \n",
       "4  [ἡσίοδος, χαόω, γαῖα, ἔρως, υἱὸν, λέγω1, ...,...         0.441973   \n",
       "\n",
       "   word_count                                       lemma_counts  \\\n",
       "0          83  {'κανδαύλης': 1, 'γυνὴ': 1, 'ἡρόδοτος': 4, 'ου...   \n",
       "1          16  {'βατὴ': 1, 'δῆμος': 1, 'αἰγηίδος': 1, 'φυλάζ...   \n",
       "2         392  {'ἀβυδηνός': 1, 'χαλδαῖος': 2, 'βασιλειάω': 2...   \n",
       "3         287  {'εἶπον': 1, 'πελίης': 1, 'θάπτω': 1, 'ἄκαστος...   \n",
       "4        1034  {'ἡσίοδος': 9, 'χαόω': 1, 'γαῖα': 2, 'ἔρως': ...   \n",
       "\n",
       "                                      unique_lemmata  \\\n",
       "0  [ὄνομα, ἡρόδοτος, λέγω1, γένος, ἣν, γυνὴ, ἑταί...   \n",
       "1  [ἐξηγητὴς, καλλίης, αἰγηίδος, ὅθεν, ἑορτάζω, γ...   \n",
       "2  [ἀβυδηνὸς, παντιβίβλιος, ἄνθρωπος, θεάω, καταλ...   \n",
       "3  [διακομίζω, εὔρυτος, λίβυς, εἶπον, ἀκέσανδρο...   \n",
       "4  [ὤγυγος, καταλύω, λητοῦς·, ποταμός, μενέλαος, ...   \n",
       "\n",
       "   weighted_average_frequency  inv_freq  \n",
       "0                    3.877270       0.0  \n",
       "1                    1.543122       0.0  \n",
       "2                    9.516595       0.0  \n",
       "3                    9.956201       0.0  \n",
       "4                   28.055590       0.0  "
      ]
     },
     "execution_count": 1180,
     "metadata": {},
     "output_type": "execute_result"
    }
   ],
   "source": [
    "words_df.head()"
   ]
  },
  {
   "cell_type": "code",
   "execution_count": 829,
   "metadata": {},
   "outputs": [
    {
     "data": {
      "text/html": [
       "<div>\n",
       "<style scoped>\n",
       "    .dataframe tbody tr th:only-of-type {\n",
       "        vertical-align: middle;\n",
       "    }\n",
       "\n",
       "    .dataframe tbody tr th {\n",
       "        vertical-align: top;\n",
       "    }\n",
       "\n",
       "    .dataframe thead th {\n",
       "        text-align: right;\n",
       "    }\n",
       "</style>\n",
       "<table border=\"1\" class=\"dataframe\">\n",
       "  <thead>\n",
       "    <tr style=\"text-align: right;\">\n",
       "      <th></th>\n",
       "      <th>author</th>\n",
       "      <th>clean_words</th>\n",
       "      <th>clean_lemmata</th>\n",
       "      <th>lexical_density</th>\n",
       "      <th>word_count</th>\n",
       "    </tr>\n",
       "  </thead>\n",
       "  <tbody>\n",
       "    <tr>\n",
       "      <th>279</th>\n",
       "      <td>JOANNES ANTIOCHENUS</td>\n",
       "      <td>[1, ἀπὸ, τῆς, ἐκθέσεως, ἰωάννου, ἀντιοχέως, τῆ...</td>\n",
       "      <td>[1, ἀπὸ, ὁ, ἔκθεσις, ιὤαννης, ἀντιοχέως, ὁ, πε...</td>\n",
       "      <td>0.161421</td>\n",
       "      <td>47305</td>\n",
       "    </tr>\n",
       "    <tr>\n",
       "      <th>334</th>\n",
       "      <td>NICOLAUS DAMASCENUS</td>\n",
       "      <td>[ἀντίπατρος, ἦν, νικολάου, τοῦ, δαμασκηνοῦ, πα...</td>\n",
       "      <td>[ἀντίπατρος, εἰμί, νικόλαος, ὁ, δαμασκηνόν, πα...</td>\n",
       "      <td>0.164711</td>\n",
       "      <td>35887</td>\n",
       "    </tr>\n",
       "    <tr>\n",
       "      <th>304</th>\n",
       "      <td>MENANDER PROTECTOR</td>\n",
       "      <td>[μένανδρος, προτίκτωρ, ἱστορικὸς, ὃς, λέγει, π...</td>\n",
       "      <td>[μένανδρος, προτίκτωρ, ἱστορικὸς, ὃς, λέγω1, π...</td>\n",
       "      <td>0.170874</td>\n",
       "      <td>22736</td>\n",
       "    </tr>\n",
       "    <tr>\n",
       "      <th>80</th>\n",
       "      <td>ARISTOTELES</td>\n",
       "      <td>[ἀπόλλων, πατρῷος, ὁ, πύθιος, ..., τὸν, δὲ, ἀπ...</td>\n",
       "      <td>[ἀπόλάω1, πατρῶιος, ὁ, πύθιος, ..., τὸν, δὲ, ...</td>\n",
       "      <td>0.218795</td>\n",
       "      <td>18579</td>\n",
       "    </tr>\n",
       "    <tr>\n",
       "      <th>393</th>\n",
       "      <td>PRISCUS PANITES</td>\n",
       "      <td>[πρίσκος, πανίτης, σοφιστὴς, γεγονὼς, ἐπὶ, τῶν...</td>\n",
       "      <td>[πρίσκος, πανίτης, σοφιστὴς, γεγονὼς, ἐπὶ, ὁ, ...</td>\n",
       "      <td>0.223204</td>\n",
       "      <td>7809</td>\n",
       "    </tr>\n",
       "    <tr>\n",
       "      <th>...</th>\n",
       "      <td>...</td>\n",
       "      <td>...</td>\n",
       "      <td>...</td>\n",
       "      <td>...</td>\n",
       "      <td>...</td>\n",
       "    </tr>\n",
       "    <tr>\n",
       "      <th>399</th>\n",
       "      <td>PROXENUS</td>\n",
       "      <td>[ποιμὴν, νέμων, πρόβατα, ἐν, τοῖς, τῆς, δωδώνη...</td>\n",
       "      <td>[ποιμὴν, νέμω, πρόβατον, ἐν, ὁ, ὁ, δωδώνη, ἕλο...</td>\n",
       "      <td>0.612676</td>\n",
       "      <td>284</td>\n",
       "    </tr>\n",
       "    <tr>\n",
       "      <th>64</th>\n",
       "      <td>ARISTAGORAS MILESIUS</td>\n",
       "      <td>[ἑρμοτυμβιεῖς, μοῖρα, τῶν, μαχίμων, ἐν, αἰγύπτ...</td>\n",
       "      <td>[ἑρμοτυμβιεῖς, μοῖρα, ὁ, μάχιμος, ἐν, αἴγυπτο...</td>\n",
       "      <td>0.613240</td>\n",
       "      <td>287</td>\n",
       "    </tr>\n",
       "    <tr>\n",
       "      <th>431</th>\n",
       "      <td>SOSTRATUS</td>\n",
       "      <td>[σωστράτου, ἐν, δευτέρῳ, τυρρηνικῶν, αἴολος, τ...</td>\n",
       "      <td>[σώστρατος, ἐν, δεύτερος, τυρρηνικός, αἴολος, ...</td>\n",
       "      <td>0.623188</td>\n",
       "      <td>345</td>\n",
       "    </tr>\n",
       "    <tr>\n",
       "      <th>424</th>\n",
       "      <td>SOCRATES RHODIUS</td>\n",
       "      <td>[σωκράτης, δὲ, ὁ, ῥόδιος, ἐν, τρίτῳ, ἐμφυλίου,...</td>\n",
       "      <td>[σωκράτης, δὲ, ὁ, ῥόδιος, ἐν, τρίτος, ἐμφύλιος...</td>\n",
       "      <td>0.624549</td>\n",
       "      <td>277</td>\n",
       "    </tr>\n",
       "    <tr>\n",
       "      <th>388</th>\n",
       "      <td>POSIDONIUS OLBIOPOLITA</td>\n",
       "      <td>[ὁ, δὲ, τῶν, μακεδόνων, βασιλεὺς, ὥς, φησι, πο...</td>\n",
       "      <td>[ὁ, δὲ, ὁ, μακεδών, βασιλεὺς, ὅς, φημί, πολύβι...</td>\n",
       "      <td>0.648855</td>\n",
       "      <td>262</td>\n",
       "    </tr>\n",
       "  </tbody>\n",
       "</table>\n",
       "<p>182 rows × 5 columns</p>\n",
       "</div>"
      ],
      "text/plain": [
       "                     author  \\\n",
       "279     JOANNES ANTIOCHENUS   \n",
       "334     NICOLAUS DAMASCENUS   \n",
       "304      MENANDER PROTECTOR   \n",
       "80              ARISTOTELES   \n",
       "393         PRISCUS PANITES   \n",
       "..                      ...   \n",
       "399                PROXENUS   \n",
       "64     ARISTAGORAS MILESIUS   \n",
       "431               SOSTRATUS   \n",
       "424        SOCRATES RHODIUS   \n",
       "388  POSIDONIUS OLBIOPOLITA   \n",
       "\n",
       "                                           clean_words  \\\n",
       "279  [1, ἀπὸ, τῆς, ἐκθέσεως, ἰωάννου, ἀντιοχέως, τῆ...   \n",
       "334  [ἀντίπατρος, ἦν, νικολάου, τοῦ, δαμασκηνοῦ, πα...   \n",
       "304  [μένανδρος, προτίκτωρ, ἱστορικὸς, ὃς, λέγει, π...   \n",
       "80   [ἀπόλλων, πατρῷος, ὁ, πύθιος, ..., τὸν, δὲ, ἀπ...   \n",
       "393  [πρίσκος, πανίτης, σοφιστὴς, γεγονὼς, ἐπὶ, τῶν...   \n",
       "..                                                 ...   \n",
       "399  [ποιμὴν, νέμων, πρόβατα, ἐν, τοῖς, τῆς, δωδώνη...   \n",
       "64   [ἑρμοτυμβιεῖς, μοῖρα, τῶν, μαχίμων, ἐν, αἰγύπτ...   \n",
       "431  [σωστράτου, ἐν, δευτέρῳ, τυρρηνικῶν, αἴολος, τ...   \n",
       "424  [σωκράτης, δὲ, ὁ, ῥόδιος, ἐν, τρίτῳ, ἐμφυλίου,...   \n",
       "388  [ὁ, δὲ, τῶν, μακεδόνων, βασιλεὺς, ὥς, φησι, πο...   \n",
       "\n",
       "                                         clean_lemmata  lexical_density  \\\n",
       "279  [1, ἀπὸ, ὁ, ἔκθεσις, ιὤαννης, ἀντιοχέως, ὁ, πε...         0.161421   \n",
       "334  [ἀντίπατρος, εἰμί, νικόλαος, ὁ, δαμασκηνόν, πα...         0.164711   \n",
       "304  [μένανδρος, προτίκτωρ, ἱστορικὸς, ὃς, λέγω1, π...         0.170874   \n",
       "80   [ἀπόλάω1, πατρῶιος, ὁ, πύθιος, ..., τὸν, δὲ, ...         0.218795   \n",
       "393  [πρίσκος, πανίτης, σοφιστὴς, γεγονὼς, ἐπὶ, ὁ, ...         0.223204   \n",
       "..                                                 ...              ...   \n",
       "399  [ποιμὴν, νέμω, πρόβατον, ἐν, ὁ, ὁ, δωδώνη, ἕλο...         0.612676   \n",
       "64   [ἑρμοτυμβιεῖς, μοῖρα, ὁ, μάχιμος, ἐν, αἴγυπτο...         0.613240   \n",
       "431  [σώστρατος, ἐν, δεύτερος, τυρρηνικός, αἴολος, ...         0.623188   \n",
       "424  [σωκράτης, δὲ, ὁ, ῥόδιος, ἐν, τρίτος, ἐμφύλιος...         0.624549   \n",
       "388  [ὁ, δὲ, ὁ, μακεδών, βασιλεὺς, ὅς, φημί, πολύβι...         0.648855   \n",
       "\n",
       "     word_count  \n",
       "279       47305  \n",
       "334       35887  \n",
       "304       22736  \n",
       "80        18579  \n",
       "393        7809  \n",
       "..          ...  \n",
       "399         284  \n",
       "64          287  \n",
       "431         345  \n",
       "424         277  \n",
       "388         262  \n",
       "\n",
       "[182 rows x 5 columns]"
      ]
     },
     "execution_count": 829,
     "metadata": {},
     "output_type": "execute_result"
    }
   ],
   "source": [
    "words_df[words_df['word_count'] > 250]\\\n",
    ".sort_values('lexical_density', ascending = True)"
   ]
  },
  {
   "cell_type": "code",
   "execution_count": 845,
   "metadata": {},
   "outputs": [],
   "source": [
    "from collections import Counter \n",
    "\n",
    "def word_counter(words): \n",
    "    return Counter(words)\n",
    "\n",
    "words_df['lemma_counts'] = words_df['clean_lemmata'].apply(word_counter)\n",
    "\n",
    "import operator \n",
    "words_df['lemma_counts'] = words_df['lemma_counts']\\\n",
    ".apply(lambda x: sorted(x.items(), key = operator.itemgetter(1), reverse = True))"
   ]
  },
  {
   "cell_type": "code",
   "execution_count": 1000,
   "metadata": {},
   "outputs": [],
   "source": [
    "words_df['unique_lemmata'] = words_df['clean_lemmata'].apply(lambda x: list(set(x)))"
   ]
  },
  {
   "cell_type": "code",
   "execution_count": 849,
   "metadata": {},
   "outputs": [],
   "source": [
    "all_words = list(set(words_df['clean_lemmata'].sum()))"
   ]
  },
  {
   "cell_type": "markdown",
   "metadata": {},
   "source": [
    "## Get most frequent words "
   ]
  },
  {
   "cell_type": "code",
   "execution_count": 1008,
   "metadata": {},
   "outputs": [],
   "source": [
    "most_frequent_words = Counter(words_df['clean_lemmata'].sum())\n",
    "most_frequent_words = sorted(most_frequent_words.items(), key = operator.itemgetter(1), reverse = True)\n",
    "most_frequent_words = pd.DataFrame(most_frequent_words)\n"
   ]
  },
  {
   "cell_type": "code",
   "execution_count": 1009,
   "metadata": {},
   "outputs": [],
   "source": [
    "most_frequent_words = most_frequent_words.drop(0)"
   ]
  },
  {
   "cell_type": "code",
   "execution_count": 1013,
   "metadata": {},
   "outputs": [],
   "source": [
    "most_frequent_words.rename(columns = {0: 'word', 1: 'count'}, inplace = True)"
   ]
  },
  {
   "cell_type": "code",
   "execution_count": 899,
   "metadata": {},
   "outputs": [
    {
     "data": {
      "text/plain": [
       "47.618"
      ]
     },
     "execution_count": 899,
     "metadata": {},
     "output_type": "execute_result"
    }
   ],
   "source": [
    "476180 / 10000 # Check total number of words "
   ]
  },
  {
   "cell_type": "code",
   "execution_count": 1018,
   "metadata": {},
   "outputs": [],
   "source": [
    "most_frequent_words['frequency_per_10k'] = most_frequent_words['count'] / 47.618"
   ]
  },
  {
   "cell_type": "code",
   "execution_count": 1145,
   "metadata": {},
   "outputs": [
    {
     "data": {
      "text/html": [
       "<div>\n",
       "<style scoped>\n",
       "    .dataframe tbody tr th:only-of-type {\n",
       "        vertical-align: middle;\n",
       "    }\n",
       "\n",
       "    .dataframe tbody tr th {\n",
       "        vertical-align: top;\n",
       "    }\n",
       "\n",
       "    .dataframe thead th {\n",
       "        text-align: right;\n",
       "    }\n",
       "</style>\n",
       "<table border=\"1\" class=\"dataframe\">\n",
       "  <thead>\n",
       "    <tr style=\"text-align: right;\">\n",
       "      <th></th>\n",
       "      <th>word</th>\n",
       "      <th>count</th>\n",
       "      <th>frequency_per_10k</th>\n",
       "      <th>inv_freq</th>\n",
       "    </tr>\n",
       "  </thead>\n",
       "  <tbody>\n",
       "    <tr>\n",
       "      <th>1</th>\n",
       "      <td>εἰμί</td>\n",
       "      <td>5229</td>\n",
       "      <td>109.811416</td>\n",
       "      <td>0.009107</td>\n",
       "    </tr>\n",
       "    <tr>\n",
       "      <th>2</th>\n",
       "      <td>αὐτός</td>\n",
       "      <td>4838</td>\n",
       "      <td>101.600235</td>\n",
       "      <td>0.009842</td>\n",
       "    </tr>\n",
       "    <tr>\n",
       "      <th>3</th>\n",
       "      <td>οὐ</td>\n",
       "      <td>2620</td>\n",
       "      <td>55.021210</td>\n",
       "      <td>0.018175</td>\n",
       "    </tr>\n",
       "    <tr>\n",
       "      <th>4</th>\n",
       "      <td>φημί</td>\n",
       "      <td>2476</td>\n",
       "      <td>51.997144</td>\n",
       "      <td>0.019232</td>\n",
       "    </tr>\n",
       "    <tr>\n",
       "      <th>5</th>\n",
       "      <td>γίγνομαι</td>\n",
       "      <td>2190</td>\n",
       "      <td>45.991012</td>\n",
       "      <td>0.021743</td>\n",
       "    </tr>\n",
       "    <tr>\n",
       "      <th>...</th>\n",
       "      <td>...</td>\n",
       "      <td>...</td>\n",
       "      <td>...</td>\n",
       "      <td>...</td>\n",
       "    </tr>\n",
       "    <tr>\n",
       "      <th>42549</th>\n",
       "      <td>χρήσθαι</td>\n",
       "      <td>1</td>\n",
       "      <td>0.021000</td>\n",
       "      <td>47.618000</td>\n",
       "    </tr>\n",
       "    <tr>\n",
       "      <th>42550</th>\n",
       "      <td>πρεὶ</td>\n",
       "      <td>1</td>\n",
       "      <td>0.021000</td>\n",
       "      <td>47.618000</td>\n",
       "    </tr>\n",
       "    <tr>\n",
       "      <th>42551</th>\n",
       "      <td>στεφανωτικός</td>\n",
       "      <td>1</td>\n",
       "      <td>0.021000</td>\n",
       "      <td>47.618000</td>\n",
       "    </tr>\n",
       "    <tr>\n",
       "      <th>42552</th>\n",
       "      <td>ἡγησίας</td>\n",
       "      <td>1</td>\n",
       "      <td>0.021000</td>\n",
       "      <td>47.618000</td>\n",
       "    </tr>\n",
       "    <tr>\n",
       "      <th>42553</th>\n",
       "      <td>στασῖνος</td>\n",
       "      <td>1</td>\n",
       "      <td>0.021000</td>\n",
       "      <td>47.618000</td>\n",
       "    </tr>\n",
       "  </tbody>\n",
       "</table>\n",
       "<p>42553 rows × 4 columns</p>\n",
       "</div>"
      ],
      "text/plain": [
       "               word  count  frequency_per_10k   inv_freq\n",
       "1              εἰμί   5229         109.811416   0.009107\n",
       "2            αὐτός   4838         101.600235   0.009842\n",
       "3               οὐ   2620          55.021210   0.018175\n",
       "4              φημί   2476          51.997144   0.019232\n",
       "5          γίγνομαι   2190          45.991012   0.021743\n",
       "...             ...    ...                ...        ...\n",
       "42549       χρήσθαι      1           0.021000  47.618000\n",
       "42550          πρεὶ      1           0.021000  47.618000\n",
       "42551  στεφανωτικός      1           0.021000  47.618000\n",
       "42552       ἡγησίας      1           0.021000  47.618000\n",
       "42553     στασῖνος      1           0.021000  47.618000\n",
       "\n",
       "[42553 rows x 4 columns]"
      ]
     },
     "execution_count": 1145,
     "metadata": {},
     "output_type": "execute_result"
    }
   ],
   "source": [
    "most_frequent_words"
   ]
  },
  {
   "cell_type": "markdown",
   "metadata": {},
   "source": [
    "## Establish \"lexical difficulty\" by weighted average "
   ]
  },
  {
   "cell_type": "markdown",
   "metadata": {},
   "source": [
    "### Define function"
   ]
  },
  {
   "cell_type": "code",
   "execution_count": 1126,
   "metadata": {},
   "outputs": [],
   "source": [
    "for word in words1: \n",
    "    value_sum += most_frequent_words.loc[most_frequent_words['word'] == word, 'inv_freq'].values[0] * words1[word]"
   ]
  },
  {
   "cell_type": "code",
   "execution_count": 1174,
   "metadata": {},
   "outputs": [
    {
     "data": {
      "text/plain": [
       "1.0394916782793635"
      ]
     },
     "execution_count": 1174,
     "metadata": {},
     "output_type": "execute_result"
    }
   ],
   "source": [
    "weight_sum = 0\n",
    "value_sum = 0\n",
    "for word in words1: \n",
    "    weight_sum += most_frequent_words.loc[most_frequent_words['word'] == word, 'inv_freq'].values[0] \n",
    "    value_sum += most_frequent_words.loc[most_frequent_words['word'] == word, 'inv_freq'].values[0] * words1[word]\n",
    "value_sum / weight_sum"
   ]
  },
  {
   "cell_type": "code",
   "execution_count": 1167,
   "metadata": {},
   "outputs": [],
   "source": [
    "test = words_df.lemma_counts[5]"
   ]
  },
  {
   "cell_type": "code",
   "execution_count": 1170,
   "metadata": {},
   "outputs": [
    {
     "data": {
      "text/plain": [
       "1"
      ]
     },
     "execution_count": 1170,
     "metadata": {},
     "output_type": "execute_result"
    }
   ],
   "source": [
    "len(most_frequent_words[most_frequent_words['word'] == 'κανδαύλης'])"
   ]
  },
  {
   "cell_type": "code",
   "execution_count": 1205,
   "metadata": {},
   "outputs": [],
   "source": [
    "def weighted_average_with_dictionary(dictionary): \n",
    "    count = 0\n",
    "    weight_sum = 0\n",
    "    value_sum = 0\n",
    "    try:\n",
    "        for word in dictionary: \n",
    "            weight_sum += most_frequent_words.loc[most_frequent_words['word'] == word, 'inv_freq'].values[0] \n",
    "            value_sum += most_frequent_words.loc[most_frequent_words['word'] == word, 'inv_freq'].values[0] * dictionary[word]\n",
    "    except:\n",
    "            print('failed at ', word, count)\n",
    "    return value_sum / weight_sum"
   ]
  },
  {
   "cell_type": "code",
   "execution_count": 1061,
   "metadata": {},
   "outputs": [
    {
     "ename": "IndexError",
     "evalue": "index 0 is out of bounds for axis 0 with size 0",
     "output_type": "error",
     "traceback": [
      "\u001b[0;31m---------------------------------------------------------------------------\u001b[0m",
      "\u001b[0;31mIndexError\u001b[0m                                Traceback (most recent call last)",
      "\u001b[0;32m<ipython-input-1061-c6602282d3c9>\u001b[0m in \u001b[0;36m<module>\u001b[0;34m\u001b[0m\n\u001b[1;32m      4\u001b[0m \u001b[0;34m\u001b[0m\u001b[0m\n\u001b[1;32m      5\u001b[0m     \u001b[0;32mtry\u001b[0m\u001b[0;34m:\u001b[0m\u001b[0;34m\u001b[0m\u001b[0;34m\u001b[0m\u001b[0m\n\u001b[0;32m----> 6\u001b[0;31m         \u001b[0mweight\u001b[0m \u001b[0;34m=\u001b[0m \u001b[0mmost_frequent_words\u001b[0m\u001b[0;34m.\u001b[0m\u001b[0mloc\u001b[0m\u001b[0;34m[\u001b[0m\u001b[0mmost_frequent_words\u001b[0m\u001b[0;34m[\u001b[0m\u001b[0;34m'word'\u001b[0m\u001b[0;34m]\u001b[0m \u001b[0;34m==\u001b[0m \u001b[0mi\u001b[0m\u001b[0;34m[\u001b[0m\u001b[0;36m0\u001b[0m\u001b[0;34m]\u001b[0m\u001b[0;34m,\u001b[0m \u001b[0;34m'frequency_per_10k'\u001b[0m\u001b[0;34m]\u001b[0m\u001b[0;34m.\u001b[0m\u001b[0mvalues\u001b[0m\u001b[0;34m[\u001b[0m\u001b[0;36m0\u001b[0m\u001b[0;34m]\u001b[0m\u001b[0;34m\u001b[0m\u001b[0;34m\u001b[0m\u001b[0m\n\u001b[0m\u001b[1;32m      7\u001b[0m         \u001b[0mprint\u001b[0m\u001b[0;34m(\u001b[0m\u001b[0;34m'weight of'\u001b[0m\u001b[0;34m,\u001b[0m \u001b[0mi\u001b[0m\u001b[0;34m[\u001b[0m\u001b[0;36m0\u001b[0m\u001b[0;34m]\u001b[0m\u001b[0;34m,\u001b[0m \u001b[0;34m'is'\u001b[0m\u001b[0;34m,\u001b[0m \u001b[0mweight\u001b[0m\u001b[0;34m)\u001b[0m\u001b[0;34m\u001b[0m\u001b[0;34m\u001b[0m\u001b[0m\n\u001b[1;32m      8\u001b[0m         \u001b[0mweight_sum\u001b[0m \u001b[0;34m+=\u001b[0m \u001b[0mweight\u001b[0m\u001b[0;34m\u001b[0m\u001b[0;34m\u001b[0m\u001b[0m\n",
      "\u001b[0;31mIndexError\u001b[0m: index 0 is out of bounds for axis 0 with size 0"
     ]
    }
   ],
   "source": [
    "weight_sum = 0\n",
    "value_sum = 0\n",
    "for i in words1:\n",
    "    \n",
    "    try:\n",
    "        weight = most_frequent_words.loc[most_frequent_words['word'] == i[0], 'frequency_per_10k'].values[0]\n",
    "        print('weight of', i[0], 'is', weight)\n",
    "        weight_sum += weight\n",
    "        value = weight * i[1]\n",
    "        print('value of ', i[0], 'in corpus is', value)\n",
    "        value_sum += value \n",
    "    except ZeroDivisionError: \n",
    "        print('Division by zero occurred at index', i) \n",
    "    weighted_average = value_sum / weight_sum \n",
    "weighted_average"
   ]
  },
  {
   "cell_type": "code",
   "execution_count": 1054,
   "metadata": {},
   "outputs": [],
   "source": [
    "def weighted_word_freq(word_tuples): \n",
    "    tups = word_tuples\n",
    "    weight_sum = 0\n",
    "    value_sum = 0  \n",
    "    for tup in tups: \n",
    "        try: \n",
    "            weight = most_frequent_words.loc[most_frequent_words['word'] == tup[0], 'inv_freq'].values[0]\n",
    "            weight_sum += weight \n",
    "            value_sum += weight * tup[1]\n",
    "        except: \n",
    "            pass \n",
    "    if weight_sum == 0:\n",
    "        weight_sum = 1 \n",
    "    else:\n",
    "        return value_sum / weight_sum"
   ]
  },
  {
   "cell_type": "code",
   "execution_count": 1042,
   "metadata": {},
   "outputs": [],
   "source": [
    "lemma_count = words_df['unique_lemmata'].apply(lambda x: len(x))"
   ]
  },
  {
   "cell_type": "code",
   "execution_count": 1055,
   "metadata": {},
   "outputs": [],
   "source": [
    "words_df['inv_freq'] = words_df.lemma_counts.apply(weighted_word_freq)"
   ]
  },
  {
   "cell_type": "markdown",
   "metadata": {},
   "source": [
    "## Plot distribution"
   ]
  },
  {
   "cell_type": "code",
   "execution_count": 974,
   "metadata": {},
   "outputs": [
    {
     "data": {
      "text/plain": [
       "<matplotlib.axes._subplots.AxesSubplot at 0x1a7f5cc8d0>"
      ]
     },
     "execution_count": 974,
     "metadata": {},
     "output_type": "execute_result"
    },
    {
     "data": {
      "image/png": "[encoded data removed]",
      "text/plain": [
       "<Figure size 432x288 with 1 Axes>"
      ]
     },
     "metadata": {},
     "output_type": "display_data"
    }
   ],
   "source": [
    "words_df['inv_freq'].plot(kind = 'hist', bins = 100)"
   ]
  },
  {
   "cell_type": "code",
   "execution_count": 975,
   "metadata": {},
   "outputs": [
    {
     "data": {
      "text/plain": [
       "<matplotlib.axes._subplots.AxesSubplot at 0x1a8593e160>"
      ]
     },
     "execution_count": 975,
     "metadata": {},
     "output_type": "execute_result"
    },
    {
     "data": {
      "image/png": "[encoded data removed]",
      "text/plain": [
       "<Figure size 432x288 with 1 Axes>"
      ]
     },
     "metadata": {},
     "output_type": "display_data"
    }
   ],
   "source": [
    "words_df['weighted_average_frequency'].plot(kind = 'hist', bins = 100)"
   ]
  },
  {
   "cell_type": "code",
   "execution_count": 993,
   "metadata": {},
   "outputs": [
    {
     "data": {
      "text/html": [
       "<div>\n",
       "<style scoped>\n",
       "    .dataframe tbody tr th:only-of-type {\n",
       "        vertical-align: middle;\n",
       "    }\n",
       "\n",
       "    .dataframe tbody tr th {\n",
       "        vertical-align: top;\n",
       "    }\n",
       "\n",
       "    .dataframe thead th {\n",
       "        text-align: right;\n",
       "    }\n",
       "</style>\n",
       "<table border=\"1\" class=\"dataframe\">\n",
       "  <thead>\n",
       "    <tr style=\"text-align: right;\">\n",
       "      <th></th>\n",
       "      <th>author</th>\n",
       "      <th>clean_words</th>\n",
       "      <th>clean_lemmata</th>\n",
       "      <th>lexical_density</th>\n",
       "      <th>word_count</th>\n",
       "      <th>lemma_counts</th>\n",
       "      <th>unique_lemmata</th>\n",
       "      <th>weighted_average_frequency</th>\n",
       "      <th>inv_freq</th>\n",
       "    </tr>\n",
       "  </thead>\n",
       "  <tbody>\n",
       "    <tr>\n",
       "      <th>388</th>\n",
       "      <td>POSIDONIUS OLBIOPOLITA</td>\n",
       "      <td>[ὁ, δὲ, τῶν, μακεδόνων, βασιλεὺς, ὥς, φησι, πο...</td>\n",
       "      <td>[ὁ, δὲ, ὁ, μακεδών, βασιλεὺς, ὅς, φημί, πολύβι...</td>\n",
       "      <td>0.648855</td>\n",
       "      <td>262</td>\n",
       "      <td>[(ὁ, 22), (καὶ, 9), (δὲ, 8), (τὸν, 8), (̓, 5),...</td>\n",
       "      <td>[κωλύω, ὑπὲρ, δ, ὑφ, ποιέω, πόλις, μὴν, δειλός...</td>\n",
       "      <td>7.781183</td>\n",
       "      <td>1.017621</td>\n",
       "    </tr>\n",
       "    <tr>\n",
       "      <th>428</th>\n",
       "      <td>SOSICRATES RHODIUS</td>\n",
       "      <td>[ἐτελεύτησε, δ, ̓, ἐτῶν, ἑβδομήκοντα, ὀκτὼ, ἢ,...</td>\n",
       "      <td>[τελευτάω, δ, ̓, ἐτάζω, ἑβδομήκοντα, ὀκτὼ, ἢ, ...</td>\n",
       "      <td>0.516588</td>\n",
       "      <td>633</td>\n",
       "      <td>[(ὁ, 40), (καὶ, 33), (δὲ, 18), (̓, 15), (σωσικ...</td>\n",
       "      <td>[ἀρτάω, βεβοήθηκά, μόνος, κρήτης·, βοηθέω, αἱρ...</td>\n",
       "      <td>14.946939</td>\n",
       "      <td>1.022533</td>\n",
       "    </tr>\n",
       "    <tr>\n",
       "      <th>424</th>\n",
       "      <td>SOCRATES RHODIUS</td>\n",
       "      <td>[σωκράτης, δὲ, ὁ, ῥόδιος, ἐν, τρίτῳ, ἐμφυλίου,...</td>\n",
       "      <td>[σωκράτης, δὲ, ὁ, ῥόδιος, ἐν, τρίτος, ἐμφύλιος...</td>\n",
       "      <td>0.624549</td>\n",
       "      <td>277</td>\n",
       "      <td>[(ὁ, 28), (καὶ, 17), (̓, 9), (δὲ, 7), (ἐν, 6),...</td>\n",
       "      <td>[ὕλη, ἐξαρτάω, ἁλουργής, θεάω, τέγος, μετὰ, πυ...</td>\n",
       "      <td>10.625580</td>\n",
       "      <td>1.023829</td>\n",
       "    </tr>\n",
       "    <tr>\n",
       "      <th>399</th>\n",
       "      <td>PROXENUS</td>\n",
       "      <td>[ποιμὴν, νέμων, πρόβατα, ἐν, τοῖς, τῆς, δωδώνη...</td>\n",
       "      <td>[ποιμὴν, νέμω, πρόβατον, ἐν, ὁ, ὁ, δωδώνη, ἕλο...</td>\n",
       "      <td>0.612676</td>\n",
       "      <td>284</td>\n",
       "      <td>[(ὁ, 30), (καὶ, 10), (δὲ, 10), (οὗτος, 6), (πρ...</td>\n",
       "      <td>[γεννᾷ·, πάχνη, μετὰ, δ, ὑμάρου, νύκτωρ·, δειμ...</td>\n",
       "      <td>10.378255</td>\n",
       "      <td>1.024156</td>\n",
       "    </tr>\n",
       "    <tr>\n",
       "      <th>136</th>\n",
       "      <td>CLAUDIUS IOLAUS</td>\n",
       "      <td>[ἄκη, πόλις, φοινίκης, ..., κλαύδιος, δὲ, ἴουλ...</td>\n",
       "      <td>[ἀκέω, πόλις, φοινίκη, ..., κλαύδιος, δὲ, ἴουλ...</td>\n",
       "      <td>0.595238</td>\n",
       "      <td>336</td>\n",
       "      <td>[(ὁ, 28), (δὲ, 10), (καὶ, 10), (πόλις, 6), (κα...</td>\n",
       "      <td>[ἀρκέω, ἀγαμέμνων, γόνιμος, μετὰ, πάντως, ἑλκό...</td>\n",
       "      <td>9.755803</td>\n",
       "      <td>1.027370</td>\n",
       "    </tr>\n",
       "    <tr>\n",
       "      <th>...</th>\n",
       "      <td>...</td>\n",
       "      <td>...</td>\n",
       "      <td>...</td>\n",
       "      <td>...</td>\n",
       "      <td>...</td>\n",
       "      <td>...</td>\n",
       "      <td>...</td>\n",
       "      <td>...</td>\n",
       "      <td>...</td>\n",
       "    </tr>\n",
       "    <tr>\n",
       "      <th>270</th>\n",
       "      <td>HIPPOSTRATUS</td>\n",
       "      <td>[ἱππόστρατος, δέ, φησιν, ἐν, τῷ, περὶ, μίνω, α...</td>\n",
       "      <td>[ἱππόστρατος, δέ, φημί, ἐν, ὁ, περὶ, μίνως, αἴ...</td>\n",
       "      <td>0.529595</td>\n",
       "      <td>321</td>\n",
       "      <td>[(ὁ, 21), (δὲ, 12), (καὶ, 12), (ἱππόστρατος, 7...</td>\n",
       "      <td>[ποίησις, θήρων, κάμικος, μετὰ, ἀπόλάω1, ὑπὲρ,...</td>\n",
       "      <td>8.320620</td>\n",
       "      <td>1.179659</td>\n",
       "    </tr>\n",
       "    <tr>\n",
       "      <th>334</th>\n",
       "      <td>NICOLAUS DAMASCENUS</td>\n",
       "      <td>[ἀντίπατρος, ἦν, νικολάου, τοῦ, δαμασκηνοῦ, πα...</td>\n",
       "      <td>[ἀντίπατρος, εἰμί, νικόλαος, ὁ, δαμασκηνόν, πα...</td>\n",
       "      <td>0.164711</td>\n",
       "      <td>35887</td>\n",
       "      <td>[(ὁ, 2626), (καὶ, 1959), (δὲ, 917), (̓, 704), ...</td>\n",
       "      <td>[διαπρέπω, τρὶς, φλέγω, σκώπτω, τοὔνομά, ἄνομο...</td>\n",
       "      <td>534.136693</td>\n",
       "      <td>1.198208</td>\n",
       "    </tr>\n",
       "    <tr>\n",
       "      <th>393</th>\n",
       "      <td>PRISCUS PANITES</td>\n",
       "      <td>[πρίσκος, πανίτης, σοφιστὴς, γεγονὼς, ἐπὶ, τῶν...</td>\n",
       "      <td>[πρίσκος, πανίτης, σοφιστὴς, γεγονὼς, ἐπὶ, ὁ, ...</td>\n",
       "      <td>0.223204</td>\n",
       "      <td>7809</td>\n",
       "      <td>[(ὁ, 754), (καὶ, 396), (δὲ, 194), (τὴν, 169), ...</td>\n",
       "      <td>[διαπρέπω, στρατοπεδεύω, ἐπισκοπὴν, διεφέροντο...</td>\n",
       "      <td>165.592905</td>\n",
       "      <td>1.224536</td>\n",
       "    </tr>\n",
       "    <tr>\n",
       "      <th>279</th>\n",
       "      <td>JOANNES ANTIOCHENUS</td>\n",
       "      <td>[1, ἀπὸ, τῆς, ἐκθέσεως, ἰωάννου, ἀντιοχέως, τῆ...</td>\n",
       "      <td>[1, ἀπὸ, ὁ, ἔκθεσις, ιὤαννης, ἀντιοχέως, ὁ, πε...</td>\n",
       "      <td>0.161421</td>\n",
       "      <td>47305</td>\n",
       "      <td>[(ὁ, 4611), (καὶ, 2627), (δὲ, 1156), (τὴν, 904...</td>\n",
       "      <td>[διαπρέπω, ἐπιρρεπής, ἀκρίς, ἀκρωτηριαζομένους...</td>\n",
       "      <td>810.789588</td>\n",
       "      <td>1.230528</td>\n",
       "    </tr>\n",
       "    <tr>\n",
       "      <th>304</th>\n",
       "      <td>MENANDER PROTECTOR</td>\n",
       "      <td>[μένανδρος, προτίκτωρ, ἱστορικὸς, ὃς, λέγει, π...</td>\n",
       "      <td>[μένανδρος, προτίκτωρ, ἱστορικὸς, ὃς, λέγω1, π...</td>\n",
       "      <td>0.170874</td>\n",
       "      <td>22736</td>\n",
       "      <td>[(ὁ, 1980), (καὶ, 1162), (τε, 351), (δὲ, 341),...</td>\n",
       "      <td>[κωλύω, παρεγγυηθὲν, ἀναίσχυντος, κώπη, βαῖανο...</td>\n",
       "      <td>405.448725</td>\n",
       "      <td>1.235471</td>\n",
       "    </tr>\n",
       "  </tbody>\n",
       "</table>\n",
       "<p>182 rows × 9 columns</p>\n",
       "</div>"
      ],
      "text/plain": [
       "                     author  \\\n",
       "388  POSIDONIUS OLBIOPOLITA   \n",
       "428      SOSICRATES RHODIUS   \n",
       "424        SOCRATES RHODIUS   \n",
       "399                PROXENUS   \n",
       "136         CLAUDIUS IOLAUS   \n",
       "..                      ...   \n",
       "270            HIPPOSTRATUS   \n",
       "334     NICOLAUS DAMASCENUS   \n",
       "393         PRISCUS PANITES   \n",
       "279     JOANNES ANTIOCHENUS   \n",
       "304      MENANDER PROTECTOR   \n",
       "\n",
       "                                           clean_words  \\\n",
       "388  [ὁ, δὲ, τῶν, μακεδόνων, βασιλεὺς, ὥς, φησι, πο...   \n",
       "428  [ἐτελεύτησε, δ, ̓, ἐτῶν, ἑβδομήκοντα, ὀκτὼ, ἢ,...   \n",
       "424  [σωκράτης, δὲ, ὁ, ῥόδιος, ἐν, τρίτῳ, ἐμφυλίου,...   \n",
       "399  [ποιμὴν, νέμων, πρόβατα, ἐν, τοῖς, τῆς, δωδώνη...   \n",
       "136  [ἄκη, πόλις, φοινίκης, ..., κλαύδιος, δὲ, ἴουλ...   \n",
       "..                                                 ...   \n",
       "270  [ἱππόστρατος, δέ, φησιν, ἐν, τῷ, περὶ, μίνω, α...   \n",
       "334  [ἀντίπατρος, ἦν, νικολάου, τοῦ, δαμασκηνοῦ, πα...   \n",
       "393  [πρίσκος, πανίτης, σοφιστὴς, γεγονὼς, ἐπὶ, τῶν...   \n",
       "279  [1, ἀπὸ, τῆς, ἐκθέσεως, ἰωάννου, ἀντιοχέως, τῆ...   \n",
       "304  [μένανδρος, προτίκτωρ, ἱστορικὸς, ὃς, λέγει, π...   \n",
       "\n",
       "                                         clean_lemmata  lexical_density  \\\n",
       "388  [ὁ, δὲ, ὁ, μακεδών, βασιλεὺς, ὅς, φημί, πολύβι...         0.648855   \n",
       "428  [τελευτάω, δ, ̓, ἐτάζω, ἑβδομήκοντα, ὀκτὼ, ἢ, ...         0.516588   \n",
       "424  [σωκράτης, δὲ, ὁ, ῥόδιος, ἐν, τρίτος, ἐμφύλιος...         0.624549   \n",
       "399  [ποιμὴν, νέμω, πρόβατον, ἐν, ὁ, ὁ, δωδώνη, ἕλο...         0.612676   \n",
       "136  [ἀκέω, πόλις, φοινίκη, ..., κλαύδιος, δὲ, ἴουλ...         0.595238   \n",
       "..                                                 ...              ...   \n",
       "270  [ἱππόστρατος, δέ, φημί, ἐν, ὁ, περὶ, μίνως, αἴ...         0.529595   \n",
       "334  [ἀντίπατρος, εἰμί, νικόλαος, ὁ, δαμασκηνόν, πα...         0.164711   \n",
       "393  [πρίσκος, πανίτης, σοφιστὴς, γεγονὼς, ἐπὶ, ὁ, ...         0.223204   \n",
       "279  [1, ἀπὸ, ὁ, ἔκθεσις, ιὤαννης, ἀντιοχέως, ὁ, πε...         0.161421   \n",
       "304  [μένανδρος, προτίκτωρ, ἱστορικὸς, ὃς, λέγω1, π...         0.170874   \n",
       "\n",
       "     word_count                                       lemma_counts  \\\n",
       "388         262  [(ὁ, 22), (καὶ, 9), (δὲ, 8), (τὸν, 8), (̓, 5),...   \n",
       "428         633  [(ὁ, 40), (καὶ, 33), (δὲ, 18), (̓, 15), (σωσικ...   \n",
       "424         277  [(ὁ, 28), (καὶ, 17), (̓, 9), (δὲ, 7), (ἐν, 6),...   \n",
       "399         284  [(ὁ, 30), (καὶ, 10), (δὲ, 10), (οὗτος, 6), (πρ...   \n",
       "136         336  [(ὁ, 28), (δὲ, 10), (καὶ, 10), (πόλις, 6), (κα...   \n",
       "..          ...                                                ...   \n",
       "270         321  [(ὁ, 21), (δὲ, 12), (καὶ, 12), (ἱππόστρατος, 7...   \n",
       "334       35887  [(ὁ, 2626), (καὶ, 1959), (δὲ, 917), (̓, 704), ...   \n",
       "393        7809  [(ὁ, 754), (καὶ, 396), (δὲ, 194), (τὴν, 169), ...   \n",
       "279       47305  [(ὁ, 4611), (καὶ, 2627), (δὲ, 1156), (τὴν, 904...   \n",
       "304       22736  [(ὁ, 1980), (καὶ, 1162), (τε, 351), (δὲ, 341),...   \n",
       "\n",
       "                                        unique_lemmata  \\\n",
       "388  [κωλύω, ὑπὲρ, δ, ὑφ, ποιέω, πόλις, μὴν, δειλός...   \n",
       "428  [ἀρτάω, βεβοήθηκά, μόνος, κρήτης·, βοηθέω, αἱρ...   \n",
       "424  [ὕλη, ἐξαρτάω, ἁλουργής, θεάω, τέγος, μετὰ, πυ...   \n",
       "399  [γεννᾷ·, πάχνη, μετὰ, δ, ὑμάρου, νύκτωρ·, δειμ...   \n",
       "136  [ἀρκέω, ἀγαμέμνων, γόνιμος, μετὰ, πάντως, ἑλκό...   \n",
       "..                                                 ...   \n",
       "270  [ποίησις, θήρων, κάμικος, μετὰ, ἀπόλάω1, ὑπὲρ,...   \n",
       "334  [διαπρέπω, τρὶς, φλέγω, σκώπτω, τοὔνομά, ἄνομο...   \n",
       "393  [διαπρέπω, στρατοπεδεύω, ἐπισκοπὴν, διεφέροντο...   \n",
       "279  [διαπρέπω, ἐπιρρεπής, ἀκρίς, ἀκρωτηριαζομένους...   \n",
       "304  [κωλύω, παρεγγυηθὲν, ἀναίσχυντος, κώπη, βαῖανο...   \n",
       "\n",
       "     weighted_average_frequency  inv_freq  \n",
       "388                    7.781183  1.017621  \n",
       "428                   14.946939  1.022533  \n",
       "424                   10.625580  1.023829  \n",
       "399                   10.378255  1.024156  \n",
       "136                    9.755803  1.027370  \n",
       "..                          ...       ...  \n",
       "270                    8.320620  1.179659  \n",
       "334                  534.136693  1.198208  \n",
       "393                  165.592905  1.224536  \n",
       "279                  810.789588  1.230528  \n",
       "304                  405.448725  1.235471  \n",
       "\n",
       "[182 rows x 9 columns]"
      ]
     },
     "execution_count": 993,
     "metadata": {},
     "output_type": "execute_result"
    }
   ],
   "source": [
    "words_df[words_df['word_count'] > 250].sort_values('inv_freq')"
   ]
  },
  {
   "cell_type": "code",
   "execution_count": null,
   "metadata": {},
   "outputs": [],
   "source": []
  }
 ],
 "metadata": {
  "kernelspec": {
   "display_name": "Python 3",
   "language": "python",
   "name": "python3"
  },
  "language_info": {
   "codemirror_mode": {
    "name": "ipython",
    "version": 3
   },
   "file_extension": ".py",
   "mimetype": "text/x-python",
   "name": "python",
   "nbconvert_exporter": "python",
   "pygments_lexer": "ipython3",
   "version": "3.7.3"
  }
 },
 "nbformat": 4,
 "nbformat_minor": 2
}
