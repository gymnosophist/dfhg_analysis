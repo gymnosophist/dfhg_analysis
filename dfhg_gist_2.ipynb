{
 "cells": [
  {
   "cell_type": "code",
   "execution_count": 369,
   "metadata": {},
   "outputs": [],
   "source": [
    "latin_index = author_df['text'].str.contains('([a-zA-Z])\\)', regex = True)"
   ]
  },
  {
   "cell_type": "markdown",
   "metadata": {},
   "source": [
    "## We now have an index of texts with **some** Latin in the 'text' column  \n",
    "\n",
    "#### We need to do some further cleaning to ensure we don't throw out texts that are **majority** Greek"
   ]
  },
  {
   "cell_type": "code",
   "execution_count": 404,
   "metadata": {},
   "outputs": [],
   "source": [
    "latin_index = author_df[latin_index]"
   ]
  },
  {
   "cell_type": "code",
   "execution_count": 390,
   "metadata": {},
   "outputs": [],
   "source": [
    "texts = ['neque μέν, nec δέ', 'o tempora, o mores']\n",
    "out = []\n",
    "def count_latin_characters(text):\n",
    "    count = 0\n",
    "    for letter in text: \n",
    "        if letter in latin: \n",
    "            count += 1\n",
    "    return count"
   ]
  },
  {
   "cell_type": "code",
   "execution_count": 399,
   "metadata": {},
   "outputs": [],
   "source": [
    "def find_latin_index(list_of_words): \n",
    "    indicies = []\n",
    "    for word in list_of_words: \n",
    "        count = count_latin_characters(word)\n",
    "        if count >= 2:\n",
    "            indicies.append(list_of_words.index(word))\n",
    "    return indicies"
   ]
  },
  {
   "cell_type": "code",
   "execution_count": 410,
   "metadata": {},
   "outputs": [],
   "source": [
    "latin_index['latin_word_count'] = latin_index['words'].apply(find_latin_index)\n",
    "\n",
    "latin_index.head()"
   ]
  },
  {
   "cell_type": "code",
   "execution_count": 423,
   "metadata": {},
   "outputs": [],
   "source": [
    "latin_index.rename(columns = {'latin_word_count' : 'latin_word_index'}, inplace = True)\n",
    "\n",
    "latin_index['latin_word_count_'] =latin_index['latin_word_index'].apply(lambda x: len(x))\n",
    "\n",
    "latin_index['total_words_in_fragment'] = latin_index['words'].apply(lambda x: len(x))\n",
    "\n",
    "latin_index['latin_word_freq'] = latin_index['latin_word_count_'] / latin_index['total_words_in_fragment']"
   ]
  },
  {
   "cell_type": "code",
   "execution_count": 425,
   "metadata": {},
   "outputs": [],
   "source": [
    "latin_index.to_csv('passages_with_latin.csv')"
   ]
  },
  {
   "cell_type": "code",
   "execution_count": 426,
   "metadata": {},
   "outputs": [
    {
     "data": {
      "text/html": [
       "<div>\n",
       "<style scoped>\n",
       "    .dataframe tbody tr th:only-of-type {\n",
       "        vertical-align: middle;\n",
       "    }\n",
       "\n",
       "    .dataframe tbody tr th {\n",
       "        vertical-align: top;\n",
       "    }\n",
       "\n",
       "    .dataframe thead th {\n",
       "        text-align: right;\n",
       "    }\n",
       "</style>\n",
       "<table border=\"1\" class=\"dataframe\">\n",
       "  <thead>\n",
       "    <tr style=\"text-align: right;\">\n",
       "      <th></th>\n",
       "      <th>author</th>\n",
       "      <th>text</th>\n",
       "      <th>words</th>\n",
       "      <th>lemmata</th>\n",
       "      <th>lexical_density</th>\n",
       "      <th>latin_word_index</th>\n",
       "      <th>latin_word_count_</th>\n",
       "      <th>total_words_in_fragment</th>\n",
       "      <th>latin_word_freq</th>\n",
       "    </tr>\n",
       "  </thead>\n",
       "  <tbody>\n",
       "    <tr>\n",
       "      <th>4</th>\n",
       "      <td>ABYDENUS</td>\n",
       "      <td>Quoe hactenus dicta sunt Abydenus etiam satis ...</td>\n",
       "      <td>[quoe, hactenus, dicta, sunt, ,, abydenus, eti...</td>\n",
       "      <td>[quoe, hactenus, dicta, sunt, ,, abydenus, eti...</td>\n",
       "      <td>0.701657</td>\n",
       "      <td>[0, 1, 2, 3, 5, 6, 7, 8, 9, 10, 11, 12, 14, 15...</td>\n",
       "      <td>141</td>\n",
       "      <td>181</td>\n",
       "      <td>0.779006</td>\n",
       "    </tr>\n",
       "    <tr>\n",
       "      <th>9</th>\n",
       "      <td>ABYDENUS</td>\n",
       "      <td>ABYDENI DE SENECHERIBO. His temporibus quintus...</td>\n",
       "      <td>[abydeni, de, senecheribo, ., his, temporibus,...</td>\n",
       "      <td>[abydeni, de, senecheribo, ., his, temporibus,...</td>\n",
       "      <td>0.755020</td>\n",
       "      <td>[0, 1, 2, 4, 5, 6, 7, 8, 9, 10, 11, 12, 14, 15...</td>\n",
       "      <td>196</td>\n",
       "      <td>249</td>\n",
       "      <td>0.787149</td>\n",
       "    </tr>\n",
       "    <tr>\n",
       "      <th>11</th>\n",
       "      <td>ABYDENUS</td>\n",
       "      <td>Εὗρον δὲ καὶ ἐν τῇ Ἀβυδηνοῦ Περὶ Ἀσσυρίων γραφ...</td>\n",
       "      <td>[εὗρον, δὲ, καὶ, ἐν, τῇ, ἀβυδηνοῦ, περὶ, ἀσσυρ...</td>\n",
       "      <td>[εὑρίσκω, δὲ, καὶ, ἐν, ὁ, ἀβυδηνός, περὶ, ἀσσύ...</td>\n",
       "      <td>0.604534</td>\n",
       "      <td>[323, 324]</td>\n",
       "      <td>2</td>\n",
       "      <td>397</td>\n",
       "      <td>0.005038</td>\n",
       "    </tr>\n",
       "    <tr>\n",
       "      <th>15</th>\n",
       "      <td>ABYDENUS</td>\n",
       "      <td>Neque est quod quis de hujus rei veritate dubi...</td>\n",
       "      <td>[neque, est, quod, quis, de, hujus, rei, verit...</td>\n",
       "      <td>[neque, est, quod, quis, de, hujus, rei, verit...</td>\n",
       "      <td>0.710526</td>\n",
       "      <td>[0, 1, 2, 3, 4, 5, 6, 7, 8, 10, 4, 12, 13, 14,...</td>\n",
       "      <td>85</td>\n",
       "      <td>114</td>\n",
       "      <td>0.745614</td>\n",
       "    </tr>\n",
       "    <tr>\n",
       "      <th>18</th>\n",
       "      <td>ACESANDER</td>\n",
       "      <td>Τοῦτον (sc. τὸν Εὐρύπυλον quem Pindarus Neptun...</td>\n",
       "      <td>[τοῦτον, (, sc, ., τὸν, εὐρύπυλον, ,, quem, pi...</td>\n",
       "      <td>[οὗτος, (, sc, ., τὸν, εὐρύπυλος, ,, quem, pi...</td>\n",
       "      <td>0.703125</td>\n",
       "      <td>[2, 7, 8, 9, 10, 11]</td>\n",
       "      <td>6</td>\n",
       "      <td>64</td>\n",
       "      <td>0.093750</td>\n",
       "    </tr>\n",
       "  </tbody>\n",
       "</table>\n",
       "</div>"
      ],
      "text/plain": [
       "       author                                               text  \\\n",
       "4    ABYDENUS  Quoe hactenus dicta sunt Abydenus etiam satis ...   \n",
       "9    ABYDENUS  ABYDENI DE SENECHERIBO. His temporibus quintus...   \n",
       "11   ABYDENUS  Εὗρον δὲ καὶ ἐν τῇ Ἀβυδηνοῦ Περὶ Ἀσσυρίων γραφ...   \n",
       "15   ABYDENUS  Neque est quod quis de hujus rei veritate dubi...   \n",
       "18  ACESANDER  Τοῦτον (sc. τὸν Εὐρύπυλον quem Pindarus Neptun...   \n",
       "\n",
       "                                                words  \\\n",
       "4   [quoe, hactenus, dicta, sunt, ,, abydenus, eti...   \n",
       "9   [abydeni, de, senecheribo, ., his, temporibus,...   \n",
       "11  [εὗρον, δὲ, καὶ, ἐν, τῇ, ἀβυδηνοῦ, περὶ, ἀσσυρ...   \n",
       "15  [neque, est, quod, quis, de, hujus, rei, verit...   \n",
       "18  [τοῦτον, (, sc, ., τὸν, εὐρύπυλον, ,, quem, pi...   \n",
       "\n",
       "                                              lemmata  lexical_density  \\\n",
       "4   [quoe, hactenus, dicta, sunt, ,, abydenus, eti...         0.701657   \n",
       "9   [abydeni, de, senecheribo, ., his, temporibus,...         0.755020   \n",
       "11  [εὑρίσκω, δὲ, καὶ, ἐν, ὁ, ἀβυδηνός, περὶ, ἀσσύ...         0.604534   \n",
       "15  [neque, est, quod, quis, de, hujus, rei, verit...         0.710526   \n",
       "18  [οὗτος, (, sc, ., τὸν, εὐρύπυλος, ,, quem, pi...         0.703125   \n",
       "\n",
       "                                     latin_word_index  latin_word_count_  \\\n",
       "4   [0, 1, 2, 3, 5, 6, 7, 8, 9, 10, 11, 12, 14, 15...                141   \n",
       "9   [0, 1, 2, 4, 5, 6, 7, 8, 9, 10, 11, 12, 14, 15...                196   \n",
       "11                                         [323, 324]                  2   \n",
       "15  [0, 1, 2, 3, 4, 5, 6, 7, 8, 10, 4, 12, 13, 14,...                 85   \n",
       "18                               [2, 7, 8, 9, 10, 11]                  6   \n",
       "\n",
       "    total_words_in_fragment  latin_word_freq  \n",
       "4                       181         0.779006  \n",
       "9                       249         0.787149  \n",
       "11                      397         0.005038  \n",
       "15                      114         0.745614  \n",
       "18                       64         0.093750  "
      ]
     },
     "execution_count": 426,
     "metadata": {},
     "output_type": "execute_result"
    }
   ],
   "source": [
    "latin_index.head()"
   ]
  }
 ],
 "metadata": {
  "kernelspec": {
   "display_name": "Python 3",
   "language": "python",
   "name": "python3"
  },
  "language_info": {
   "codemirror_mode": {
    "name": "ipython",
    "version": 3
   },
   "file_extension": ".py",
   "mimetype": "text/x-python",
   "name": "python",
   "nbconvert_exporter": "python",
   "pygments_lexer": "ipython3",
   "version": "3.7.3"
  }
 },
 "nbformat": 4,
 "nbformat_minor": 2
}
